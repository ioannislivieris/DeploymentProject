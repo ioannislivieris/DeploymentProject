{
 "cells": [
  {
   "cell_type": "markdown",
   "metadata": {},
   "source": [
    "# Libraries"
   ]
  },
  {
   "cell_type": "code",
   "execution_count": 1,
   "metadata": {},
   "outputs": [],
   "source": [
    "# =-=-=-=-=-=-=-=-=-=-=-=-=-=-=-=-=-=-=-=-=-=-=-=-=-=-=-=-=-=\n",
    "# Basic libraries\n",
    "#\n",
    "import time\n",
    "import os\n",
    "import pickle\n",
    "import json\n",
    "from   tqdm   import tqdm\n",
    "import pandas as pd\n",
    "import numpy  as np\n",
    "import time\n",
    "\n",
    "\n",
    "# =-=-=-=-=-=-=-=-=-=-=-=-=-=-=-=-=-=-=-=-=-=-=-=-=-=-=-=-=-=-=-=-=-=-=-=-=-=\n",
    "# Visualization library\n",
    "#\n",
    "import matplotlib.pyplot as plt\n",
    "import seaborn           as sns\n",
    "\n",
    "\n",
    "# =-=-=-=-=-=-=-=-=-=-=-=-=-=-=-=-=-=-=-=-=-=-=-=-=-=-=-=-=-=-=-=-=-=-=-=-=-=\n",
    "# Sklearn library\n",
    "#\n",
    "from sklearn.preprocessing import StandardScaler\n",
    "\n",
    "\n",
    "# =-=-=-=-=-=-=-=-=-=-=-=-=-=-=-=-=-=-=-=-=-=-=-=-=-=-=-=-=-=-=\n",
    "# Tensorflow library\n",
    "#\n",
    "import tensorflow                 as tf\n",
    "from   tensorflow.keras.callbacks import *\n",
    "from   tensorflow.keras.metrics   import *\n",
    "from   tensorflow.keras.layers    import *\n",
    "from   tensorflow.keras           import Sequential\n",
    "from   tensorflow.keras           import optimizers\n",
    "\n",
    "\n",
    "\n",
    "# =-=-=-=-=-=-=-=-=-=-=-=-=-=-=-=-=-=-=-=-=-=-=-=-=-=-=-=-=-=\n",
    "# User libraries\n",
    "#\n",
    "from utils.Logger        import *\n",
    "from utils.InfuxDBClient import *"
   ]
  },
  {
   "cell_type": "markdown",
   "metadata": {},
   "source": [
    "# Parameters"
   ]
  },
  {
   "cell_type": "code",
   "execution_count": 2,
   "metadata": {},
   "outputs": [],
   "source": [
    "# Selected sensor\n",
    "#\n",
    "Sensor = '01cc0529-79bb-48cc-a052-4fde9372abeb'\n",
    "\n",
    "# Set look-back (Lag)\n",
    "#\n",
    "Lag = 32\n",
    "\n",
    "# Set 'verbose'\n",
    "#\n",
    "VERBOSE = True\n",
    "\n",
    "# Initiate logger\n",
    "#\n",
    "if VERBOSE:\n",
    "    logger = init_logger( log_file = 'logs.log' )  "
   ]
  },
  {
   "cell_type": "markdown",
   "metadata": {},
   "source": [
    "# Data"
   ]
  },
  {
   "cell_type": "markdown",
   "metadata": {},
   "source": [
    "## Download data from InfuxDB"
   ]
  },
  {
   "cell_type": "markdown",
   "metadata": {},
   "source": [
    "## Setup InfuxDB Client"
   ]
  },
  {
   "cell_type": "code",
   "execution_count": 3,
   "metadata": {},
   "outputs": [],
   "source": [
    "influx_measurement = \"beat_box_rms\"\n",
    "\n",
    "\n",
    "# Change to influx live data \n",
    "#\n",
    "influx = InfluxDataframeDBClient(host     = '192.168.2.198', \n",
    "                                 username = 'admin',\n",
    "                                 pwd      = 'CoreInn02019', \n",
    "                                 port     =  8086, \n",
    "                                 db       = 'corebeat_rms')\n",
    "influx.initClient()"
   ]
  },
  {
   "cell_type": "markdown",
   "metadata": {},
   "source": [
    "### Download data"
   ]
  },
  {
   "cell_type": "code",
   "execution_count": 4,
   "metadata": {},
   "outputs": [
    {
     "name": "stderr",
     "output_type": "stream",
     "text": [
      "[INFO] Download data from CoreBEAT database\n",
      "[INFO] Time: 1.42s\n",
      "[INFO] Data cleaning - Data processing\n",
      "[INFO] Number of features: 4\n"
     ]
    },
    {
     "data": {
      "text/html": [
       "<div>\n",
       "<style scoped>\n",
       "    .dataframe tbody tr th:only-of-type {\n",
       "        vertical-align: middle;\n",
       "    }\n",
       "\n",
       "    .dataframe tbody tr th {\n",
       "        vertical-align: top;\n",
       "    }\n",
       "\n",
       "    .dataframe thead th {\n",
       "        text-align: right;\n",
       "    }\n",
       "</style>\n",
       "<table border=\"1\" class=\"dataframe\">\n",
       "  <thead>\n",
       "    <tr style=\"text-align: right;\">\n",
       "      <th></th>\n",
       "      <th>acc_x</th>\n",
       "      <th>acc_y</th>\n",
       "      <th>acc_z</th>\n",
       "      <th>temperature</th>\n",
       "    </tr>\n",
       "  </thead>\n",
       "  <tbody>\n",
       "    <tr>\n",
       "      <th>2022-06-18 02:01:19+00:00</th>\n",
       "      <td>0.238592</td>\n",
       "      <td>0.186857</td>\n",
       "      <td>0.211078</td>\n",
       "      <td>31.8</td>\n",
       "    </tr>\n",
       "    <tr>\n",
       "      <th>2022-06-18 02:02:19+00:00</th>\n",
       "      <td>0.186287</td>\n",
       "      <td>0.129006</td>\n",
       "      <td>0.146181</td>\n",
       "      <td>31.8</td>\n",
       "    </tr>\n",
       "    <tr>\n",
       "      <th>2022-06-18 02:03:18+00:00</th>\n",
       "      <td>0.187383</td>\n",
       "      <td>0.137613</td>\n",
       "      <td>0.151158</td>\n",
       "      <td>31.9</td>\n",
       "    </tr>\n",
       "  </tbody>\n",
       "</table>\n",
       "</div>"
      ],
      "text/plain": [
       "                              acc_x     acc_y     acc_z  temperature\n",
       "2022-06-18 02:01:19+00:00  0.238592  0.186857  0.211078         31.8\n",
       "2022-06-18 02:02:19+00:00  0.186287  0.129006  0.146181         31.8\n",
       "2022-06-18 02:03:18+00:00  0.187383  0.137613  0.151158         31.9"
      ]
     },
     "execution_count": 4,
     "metadata": {},
     "output_type": "execute_result"
    }
   ],
   "source": [
    "# Start timer\n",
    "#\n",
    "start_timer = time.time()\n",
    "\n",
    "# TABLE: corebeat_rms\n",
    "#\n",
    "df = influx.client.query(f'SELECT * from {influx_measurement}') \n",
    "df = df[ influx_measurement ]\n",
    "#\n",
    "if VERBOSE: \n",
    "    logger.info('[INFO] Download data from CoreBEAT database')\n",
    "    logger.info('[INFO] Time: {:.2f}s'.format(time.time() - start_timer))\n",
    "\n",
    "\n",
    "\n",
    "# Preprocess data\n",
    "#\n",
    "df = df[ df['beat_box_id'] == Sensor]\n",
    "\n",
    "# \n",
    "del df['beat_box_id']\n",
    "\n",
    "\n",
    "if VERBOSE: \n",
    "    logger.info('[INFO] Data cleaning - Data processing')\n",
    "    logger.info('[INFO] Number of features: {}'.format(df.shape[1]))\n",
    "    \n",
    "df.head( 3 )"
   ]
  },
  {
   "cell_type": "markdown",
   "metadata": {},
   "source": [
    "# Training/Validation/Testing datasets"
   ]
  },
  {
   "cell_type": "markdown",
   "metadata": {},
   "source": [
    "## Split data"
   ]
  },
  {
   "cell_type": "code",
   "execution_count": 5,
   "metadata": {},
   "outputs": [],
   "source": [
    "train_idx = int( df.shape[0] * 0.8 )\n",
    "valid_idx = int( df.shape[0] * 0.9 )\n",
    "\n",
    "\n",
    "df_train = df[ :train_idx ].copy()\n",
    "df_valid = df[ train_idx:valid_idx ].copy()\n",
    "df_test  = df[ valid_idx: ]"
   ]
  },
  {
   "cell_type": "markdown",
   "metadata": {},
   "source": [
    "## Fix lag"
   ]
  },
  {
   "cell_type": "code",
   "execution_count": 6,
   "metadata": {},
   "outputs": [],
   "source": [
    "df_valid = pd.concat([df_train.iloc[-Lag:], df_valid])\n",
    "df_test  = pd.concat([df_valid.iloc[-Lag:], df_test])"
   ]
  },
  {
   "cell_type": "markdown",
   "metadata": {},
   "source": [
    "## Scaling data"
   ]
  },
  {
   "cell_type": "code",
   "execution_count": 7,
   "metadata": {},
   "outputs": [],
   "source": [
    "# Set scaler\n",
    "#\n",
    "scaler = StandardScaler()\n",
    "\n",
    "df_train = pd.DataFrame(data    = scaler.fit_transform(df_train),\n",
    "                        columns = df_train.columns, \n",
    "                        index   = df_train.index)\n",
    "\n",
    "df_valid = pd.DataFrame(data    = scaler.fit_transform(df_valid),\n",
    "                        columns = df_valid.columns, \n",
    "                        index   = df_valid.index)\n",
    "\n",
    "\n",
    "df_test   = pd.DataFrame(data    = scaler.fit_transform(df_test),\n",
    "                         columns = df_test.columns, \n",
    "                         index   = df_test.index)"
   ]
  },
  {
   "cell_type": "markdown",
   "metadata": {},
   "source": [
    "# Creating training/validation/testing instances"
   ]
  },
  {
   "cell_type": "code",
   "execution_count": 8,
   "metadata": {},
   "outputs": [],
   "source": [
    "def create_dataset(df = None, Lag = 1, overlap = 1):\n",
    "    \n",
    "    X, Dates = [], []\n",
    "    for i in tqdm( range( df.shape[0] - Lag ) ):\n",
    "        X     += [ df[i:i+Lag].to_numpy() ]\n",
    "        Dates += [ df.index[i+Lag]        ]\n",
    "    \n",
    "    return ( np.array(X), np.array(Dates) )"
   ]
  },
  {
   "cell_type": "code",
   "execution_count": 9,
   "metadata": {},
   "outputs": [
    {
     "name": "stderr",
     "output_type": "stream",
     "text": [
      "100%|█████████████████████████████████████████████████████████████████████████████████████████████████████████████████████████████████████████████████████████████████████████████████| 22068/22068 [00:00<00:00, 22206.68it/s]\n",
      "[INFO] Training instances created\n",
      "100%|███████████████████████████████████████████████████████████████████████████████████████████████████████████████████████████████████████████████████████████████████████████████████| 2763/2763 [00:00<00:00, 21540.68it/s]\n",
      "[INFO] Validation instances created\n",
      "100%|███████████████████████████████████████████████████████████████████████████████████████████████████████████████████████████████████████████████████████████████████████████████████| 2763/2763 [00:00<00:00, 21681.00it/s]\n",
      "[INFO] Testing instances created\n"
     ]
    }
   ],
   "source": [
    "# Training instances\n",
    "#\n",
    "trainX, trainDates = create_dataset(df = df_train, Lag = Lag)\n",
    "if VERBOSE: \n",
    "    logger.info('[INFO] Training instances created')\n",
    "\n",
    "    \n",
    "# Validation instances\n",
    "#\n",
    "validX, validDates = create_dataset(df = df_valid, Lag = Lag)\n",
    "if VERBOSE: \n",
    "    logger.info('[INFO] Validation instances created')\n",
    " \n",
    "\n",
    "# Testing instances\n",
    "#\n",
    "testX, testDates   = create_dataset(df = df_test, Lag = Lag)\n",
    "if VERBOSE: \n",
    "    logger.info('[INFO] Testing instances created')"
   ]
  },
  {
   "cell_type": "markdown",
   "metadata": {},
   "source": [
    "# Anomaly detection model"
   ]
  },
  {
   "cell_type": "markdown",
   "metadata": {},
   "source": [
    "## Setup CUDA"
   ]
  },
  {
   "cell_type": "code",
   "execution_count": 10,
   "metadata": {},
   "outputs": [],
   "source": [
    "gpus = tf.config.list_physical_devices('GPU')\n",
    "\n",
    "if gpus:\n",
    "    try:\n",
    "        # Currently, memory growth needs to be the same across GPUs\n",
    "        for gpu in gpus:\n",
    "            tf.config.experimental.set_memory_growth(gpu, True)\n",
    "            \n",
    "        logical_gpus = tf.config.list_logical_devices('GPU')\n",
    "        print(len(gpus), \"Physical GPUs,\", len(logical_gpus), \"Logical GPUs\")\n",
    "        \n",
    "    except RuntimeError as e:\n",
    "        \n",
    "        # Memory growth must be set before GPUs have been initialized\n",
    "        print(e)"
   ]
  },
  {
   "cell_type": "markdown",
   "metadata": {},
   "source": [
    "## Setup model"
   ]
  },
  {
   "cell_type": "code",
   "execution_count": 11,
   "metadata": {},
   "outputs": [
    {
     "name": "stderr",
     "output_type": "stream",
     "text": [
      "2022-07-07 14:27:17.604798: I tensorflow/core/platform/cpu_feature_guard.cc:151] This TensorFlow binary is optimized with oneAPI Deep Neural Network Library (oneDNN) to use the following CPU instructions in performance-critical operations:  SSE4.1 SSE4.2 AVX AVX2 FMA\n",
      "To enable them in other operations, rebuild TensorFlow with the appropriate compiler flags.\n"
     ]
    }
   ],
   "source": [
    "# Define metrics\n",
    "#\n",
    "metrics = [\n",
    "            RootMeanSquaredError(name = 'RMSE', dtype = None),\n",
    "            MeanAbsoluteError(name='MAE', dtype=None)\n",
    "          ]"
   ]
  },
  {
   "cell_type": "code",
   "execution_count": 12,
   "metadata": {},
   "outputs": [
    {
     "name": "stderr",
     "output_type": "stream",
     "text": [
      "[INFO] Anomaly detection model was setup\n"
     ]
    }
   ],
   "source": [
    "   \n",
    "model = Sequential(\n",
    "    [\n",
    "        Input(shape = (trainX.shape[1], trainX.shape[2]), name = 'InputLayer'),\n",
    "        #\n",
    "        # Since the problem is semi-supervised - Gaussian noise is applied\n",
    "        GaussianNoise( stddev = 0.05 ),\n",
    "        \n",
    "        # =-=-=-=-=-=-=-=-=-=-=-=-=-=-=-=-=-=-=-=-=-=-=-=-=-=-=-=-=-=-=-=-=-=-=-=-=-=-=\n",
    "        # Encoder\n",
    "        #\n",
    "        Conv1D(filters     = 32, \n",
    "               kernel_size = 7, \n",
    "               padding     = \"same\", \n",
    "               strides     = 1, \n",
    "               activation  = \"elu\"),\n",
    "        #\n",
    "        BatchNormalization(),\n",
    "        Dropout(0.5),\n",
    "        #\n",
    "        MaxPooling1D(pool_size = 2, \n",
    "                     padding   = 'same'),\n",
    "        #\n",
    "        Conv1D(filters     = 16, \n",
    "               kernel_size = 3, \n",
    "               padding     = \"same\", \n",
    "               strides     = 1, \n",
    "               activation  = \"elu\"),\n",
    "        #\n",
    "        BatchNormalization(),\n",
    "        Dropout(0.2),\n",
    "        #        \n",
    "        MaxPooling1D(2, padding='same'),\n",
    "        \n",
    "        \n",
    "        # =-=-=-=-=-=-=-=-=-=-=-=-=-=-=-=-=-=-=-=-=-=-=-=-=-=-=-=-=-=-=-=-=-=-=-=-=-=-=\n",
    "        # Decoder\n",
    "        #\n",
    "        Conv1D(filters     = 16, \n",
    "               kernel_size = 3, \n",
    "               padding     = \"same\", \n",
    "               strides     = 1, \n",
    "               activation  = \"elu\"),\n",
    "        #\n",
    "        BatchNormalization(),\n",
    "        #\n",
    "        UpSampling1D(size = 2),\n",
    "        #\n",
    "        Conv1D(filters     = 32, \n",
    "               kernel_size = 7, \n",
    "               padding     = \"same\", \n",
    "               strides     = 1, \n",
    "               activation  = \"elu\"),\n",
    "        #\n",
    "        BatchNormalization(),\n",
    "        #\n",
    "        UpSampling1D(size = 2),\n",
    "        #\n",
    "        Conv1D(filters     = trainX.shape[2], \n",
    "               kernel_size = 3, \n",
    "               padding     = \"same\", \n",
    "               strides     = 1, \n",
    "               activation  = \"linear\",\n",
    "               name        = 'OutputLayer' ),        \n",
    "    ]\n",
    ")\n",
    "\n",
    "\n",
    "\n",
    "# Set loss and optimizer\n",
    "#\n",
    "model.compile(optimizer = optimizers.Adam(learning_rate = 1e-4),\n",
    "              loss      = 'mse',\n",
    "              metrics   = metrics)\n",
    "\n",
    "if VERBOSE:\n",
    "    logger.info('[INFO] Anomaly detection model was setup')"
   ]
  },
  {
   "cell_type": "code",
   "execution_count": 13,
   "metadata": {},
   "outputs": [
    {
     "name": "stdout",
     "output_type": "stream",
     "text": [
      "[INFO] Input layer:   InputLayer\n",
      "[INFO] Output layer:  OutputLayer/BiasAdd:0\n",
      "Model: \"sequential\"\n",
      "_________________________________________________________________\n",
      " Layer (type)                Output Shape              Param #   \n",
      "=================================================================\n",
      " gaussian_noise (GaussianNoi  (None, 32, 4)            0         \n",
      " se)                                                             \n",
      "                                                                 \n",
      " conv1d (Conv1D)             (None, 32, 32)            928       \n",
      "                                                                 \n",
      " batch_normalization (BatchN  (None, 32, 32)           128       \n",
      " ormalization)                                                   \n",
      "                                                                 \n",
      " dropout (Dropout)           (None, 32, 32)            0         \n",
      "                                                                 \n",
      " max_pooling1d (MaxPooling1D  (None, 16, 32)           0         \n",
      " )                                                               \n",
      "                                                                 \n",
      " conv1d_1 (Conv1D)           (None, 16, 16)            1552      \n",
      "                                                                 \n",
      " batch_normalization_1 (Batc  (None, 16, 16)           64        \n",
      " hNormalization)                                                 \n",
      "                                                                 \n",
      " dropout_1 (Dropout)         (None, 16, 16)            0         \n",
      "                                                                 \n",
      " max_pooling1d_1 (MaxPooling  (None, 8, 16)            0         \n",
      " 1D)                                                             \n",
      "                                                                 \n",
      " conv1d_2 (Conv1D)           (None, 8, 16)             784       \n",
      "                                                                 \n",
      " batch_normalization_2 (Batc  (None, 8, 16)            64        \n",
      " hNormalization)                                                 \n",
      "                                                                 \n",
      " up_sampling1d (UpSampling1D  (None, 16, 16)           0         \n",
      " )                                                               \n",
      "                                                                 \n",
      " conv1d_3 (Conv1D)           (None, 16, 32)            3616      \n",
      "                                                                 \n",
      " batch_normalization_3 (Batc  (None, 16, 32)           128       \n",
      " hNormalization)                                                 \n",
      "                                                                 \n",
      " up_sampling1d_1 (UpSampling  (None, 32, 32)           0         \n",
      " 1D)                                                             \n",
      "                                                                 \n",
      " OutputLayer (Conv1D)        (None, 32, 4)             388       \n",
      "                                                                 \n",
      "=================================================================\n",
      "Total params: 7,652\n",
      "Trainable params: 7,460\n",
      "Non-trainable params: 192\n",
      "_________________________________________________________________\n"
     ]
    }
   ],
   "source": [
    "print('[INFO] Input layer:  ', model.input.name)\n",
    "print('[INFO] Output layer: ', model.output.name)\n",
    "\n",
    "# Model summary\n",
    "#\n",
    "model.summary()"
   ]
  },
  {
   "cell_type": "markdown",
   "metadata": {},
   "source": [
    "## Setup training parameters"
   ]
  },
  {
   "cell_type": "code",
   "execution_count": 14,
   "metadata": {},
   "outputs": [
    {
     "name": "stderr",
     "output_type": "stream",
     "text": [
      "[INFO] Training process was setup\n"
     ]
    }
   ],
   "source": [
    "# Set parameters\n",
    "#\n",
    "parameters = {'epochs'           : 1000,\n",
    "              'batch_size'       : 64,\n",
    "              'verbose'          : True}\n",
    "\n",
    "\n",
    "\n",
    "\n",
    "# Checkpoint\n",
    "#\n",
    "if ( not os.path.isdir('checkpoint') ):\n",
    "    os.mkdir('checkpoint')\n",
    "#\n",
    "checkpoint = ModelCheckpoint(\"checkpoint/AnomalyDetectionModel.hdf5\", \n",
    "                             save_weights_only = True,\n",
    "                             monitor           = 'val_loss', \n",
    "                             verbose           = 0, \n",
    "                             save_best_only    = True, \n",
    "                             mode              = 'min')\n",
    "\n",
    "# Earlystopping\n",
    "#\n",
    "earlystopping = EarlyStopping(monitor       = 'val_loss', \n",
    "                              mode          = 'min', \n",
    "                              verbose       = 1, \n",
    "                              patience      = 20)\n",
    "\n",
    "\n",
    "# Learning rate adjustment\n",
    "#\n",
    "lrs_scheduler  = ReduceLROnPlateau(monitor   = 'val_loss', \n",
    "                                   factor    = 0.5,\n",
    "                                   min_delta = 1.e-6,\n",
    "                                   patience  = 10)\n",
    "\n",
    "\n",
    "if VERBOSE:\n",
    "    logger.info('[INFO] Training process was setup')"
   ]
  },
  {
   "cell_type": "markdown",
   "metadata": {},
   "source": [
    "## Model training"
   ]
  },
  {
   "cell_type": "code",
   "execution_count": 16,
   "metadata": {
    "scrolled": true
   },
   "outputs": [
    {
     "name": "stderr",
     "output_type": "stream",
     "text": [
      "[INFO] Model has been successfully trained\n",
      "[INFO ] Time: 265.27s\n"
     ]
    }
   ],
   "source": [
    "start_timer = time.time()\n",
    "\n",
    "score = model.fit(trainX, trainX,\n",
    "                  epochs           = parameters['epochs'],\n",
    "                  batch_size       = parameters['batch_size'],                    \n",
    "                  verbose          = parameters['verbose'],\n",
    "                  #\n",
    "                  callbacks        = [checkpoint, earlystopping, lrs_scheduler],\n",
    "                  #\n",
    "                  validation_data  = (validX, validX))\n",
    "\n",
    "if VERBOSE:\n",
    "    logger.info('[INFO] Model has been successfully trained')\n",
    "    logger.info('[INFO ] Time: {:.2f}s'.format(time.time() - start_timer))"
   ]
  },
  {
   "cell_type": "markdown",
   "metadata": {},
   "source": [
    "### Training progress"
   ]
  },
  {
   "cell_type": "code",
   "execution_count": 17,
   "metadata": {},
   "outputs": [
    {
     "data": {
      "image/png": "[encoded data removed]",
      "text/plain": [
       "<Figure size 1080x288 with 2 Axes>"
      ]
     },
     "metadata": {
      "needs_background": "light"
     },
     "output_type": "display_data"
    }
   ],
   "source": [
    "fig, ax = plt.subplots(nrows = 1, ncols = 2, figsize = (15, 4) )\n",
    "\n",
    "ax[0].plot( score.history['RMSE'],     linewidth = 2 )\n",
    "ax[0].plot( score.history['val_RMSE'], linewidth = 2 )\n",
    "ax[0].legend(['Training', 'Testing'], frameon = False, fontsize = 14)\n",
    "ax[0].set_title('RMSE');\n",
    "\n",
    "\n",
    "ax[1].plot( score.history['MAE'],     linewidth = 2 )\n",
    "ax[1].plot( score.history['val_MAE'], linewidth = 2 )\n",
    "ax[1].legend(['Training', 'Testing'], frameon = False, fontsize = 14)\n",
    "ax[1].set_title('MAE');"
   ]
  },
  {
   "cell_type": "markdown",
   "metadata": {},
   "source": [
    "### Load optimized model"
   ]
  },
  {
   "cell_type": "code",
   "execution_count": 18,
   "metadata": {},
   "outputs": [],
   "source": [
    "model.load_weights( 'checkpoint/AnomalyDetectionModel.hdf5' )"
   ]
  },
  {
   "cell_type": "markdown",
   "metadata": {},
   "source": [
    "# Evaluation"
   ]
  },
  {
   "cell_type": "markdown",
   "metadata": {},
   "source": [
    "## Evaluation on Training data "
   ]
  },
  {
   "cell_type": "code",
   "execution_count": 19,
   "metadata": {},
   "outputs": [],
   "source": [
    "# Get predictions\n",
    "#\n",
    "pred = model.predict( trainX )\n",
    "\n",
    "\n",
    "# Calculate Loss (MSE)\n",
    "#\n",
    "train_loss = np.mean( np.mean((pred - trainX)**2, axis = 2), axis = 1)\n",
    "\n",
    "\n",
    "# Create DataFrame with results (loss)\n",
    "#\n",
    "Train_Loss = pd.DataFrame( {'Date'  : trainDates,\n",
    "                            'Loss'  : train_loss,\n",
    "                           })\n",
    "\n",
    "Train_Loss.set_index('Date', inplace=True)"
   ]
  },
  {
   "cell_type": "code",
   "execution_count": 20,
   "metadata": {},
   "outputs": [],
   "source": [
    "# Get predictions\n",
    "#\n",
    "pred = model.predict( validX )\n",
    "\n",
    "\n",
    "# Calculate Loss (MSE)\n",
    "#\n",
    "valid_loss = np.mean( np.mean((pred - validX)**2, axis = 2), axis = 1)\n",
    "\n",
    "\n",
    "# Create DataFrame with results (loss)\n",
    "#\n",
    "Valid_Loss = pd.DataFrame( {'Date'   : validDates,\n",
    "                            'Loss'   : valid_loss,\n",
    "                           })\n",
    "\n",
    "Valid_Loss.set_index('Date', inplace=True)"
   ]
  },
  {
   "cell_type": "markdown",
   "metadata": {},
   "source": [
    "## Define thresholds"
   ]
  },
  {
   "cell_type": "code",
   "execution_count": 21,
   "metadata": {},
   "outputs": [
    {
     "name": "stderr",
     "output_type": "stream",
     "text": [
      "[INFO] Threshold were calculated\n"
     ]
    },
    {
     "name": "stdout",
     "output_type": "stream",
     "text": [
      "[INFO] WARNING  threshold:  0.35490635408661303\n",
      "[INFO] CRITICAL threshold:  1.4047962805289178\n"
     ]
    }
   ],
   "source": [
    "# Calculate thresholds\n",
    "#\n",
    "WARNING  = np.quantile( Train_Loss['Loss'], 0.95 )\n",
    "CRITICAL = np.quantile( Train_Loss['Loss'], 0.997 )\n",
    "\n",
    "logger.info('[INFO] Threshold were calculated')\n",
    "#\n",
    "print('[INFO] WARNING  threshold: ', WARNING)\n",
    "print('[INFO] CRITICAL threshold: ', CRITICAL)"
   ]
  },
  {
   "cell_type": "markdown",
   "metadata": {},
   "source": [
    "## Visualization"
   ]
  },
  {
   "cell_type": "markdown",
   "metadata": {},
   "source": [
    "### Loss Histogram"
   ]
  },
  {
   "cell_type": "code",
   "execution_count": 22,
   "metadata": {},
   "outputs": [
    {
     "name": "stderr",
     "output_type": "stream",
     "text": [
      "/Users/livieris/opt/anaconda3/envs/tensorflow/lib/python3.7/site-packages/seaborn/distributions.py:2551: FutureWarning: `distplot` is a deprecated function and will be removed in a future version. Please adapt your code to use either `displot` (a figure-level function with similar flexibility) or `histplot` (an axes-level function for histograms).\n",
      "  warnings.warn(msg, FutureWarning)\n",
      "/Users/livieris/opt/anaconda3/envs/tensorflow/lib/python3.7/site-packages/seaborn/distributions.py:2551: FutureWarning: `distplot` is a deprecated function and will be removed in a future version. Please adapt your code to use either `displot` (a figure-level function with similar flexibility) or `histplot` (an axes-level function for histograms).\n",
      "  warnings.warn(msg, FutureWarning)\n"
     ]
    },
    {
     "data": {
      "image/png": "[encoded data removed]",
      "text/plain": [
       "<Figure size 1080x288 with 1 Axes>"
      ]
     },
     "metadata": {
      "needs_background": "light"
     },
     "output_type": "display_data"
    }
   ],
   "source": [
    "fig, ax = plt.subplots( figsize = (15, 4) )\n",
    "\n",
    "sns.distplot(Train_Loss['Loss'], bins = 'auto', kde = True, ax = ax)\n",
    "sns.distplot(Valid_Loss['Loss'], bins = 'auto', kde = True, ax = ax)\n",
    "\n",
    "plt.legend(['Training', 'Validation'], frameon = False, fontsize = 14)\n",
    "plt.xticks( size = 14 )\n",
    "plt.yticks( size = 14 )\n",
    "plt.xlabel(\"MSE loss\", size=14)\n",
    "plt.ylabel(\"No of samples\", size=14)\n",
    "plt.show()"
   ]
  },
  {
   "cell_type": "markdown",
   "metadata": {},
   "source": [
    "### Plot Train/Valid loss"
   ]
  },
  {
   "cell_type": "code",
   "execution_count": 23,
   "metadata": {},
   "outputs": [
    {
     "name": "stdout",
     "output_type": "stream",
     "text": [
      "Number of anomaly samples:  67/22068\n"
     ]
    },
    {
     "data": {
      "image/png": "[encoded data removed]",
      "text/plain": [
       "<Figure size 1080x288 with 1 Axes>"
      ]
     },
     "metadata": {
      "needs_background": "light"
     },
     "output_type": "display_data"
    }
   ],
   "source": [
    "# Detect all the samples which are anomalies\n",
    "#\n",
    "anomalies = Train_Loss['Loss'] > CRITICAL\n",
    "#\n",
    "Train_Loss['anomaly'] = np.where(anomalies, 'ANOMALY', 'NORMAL')\n",
    "\n",
    "\n",
    "print(\"Number of anomaly samples:  {}/{}\".format(np.sum(anomalies), len(anomalies)) )\n",
    "\n",
    "\n",
    "# Plot train-loss\n",
    "#\n",
    "ax = Train_Loss.plot( figsize = (15, 4) )\n",
    "# Plot valid-loss\n",
    "Valid_Loss.plot(ax = ax)\n",
    "\n",
    "\n",
    "# Plot thresholds\n",
    "#\n",
    "plt.axhline(y=WARNING,  linewidth=1, color='orange', linestyle='--')\n",
    "plt.axhline(y=CRITICAL, linewidth=1, color='red',    linestyle='--')\n",
    "\n",
    "\n",
    "plt.xticks(size = 14)\n",
    "plt.yticks(size = 14)\n",
    "plt.xlabel(\"Date\", size = 14)\n",
    "plt.ylabel(\"Loss\", size = 14);\n",
    "plt.legend(['Train loss', 'Valid loss', '$T_{WARNING}$', '$T_{CRITICAL}$'], frameon = False, fontsize = 14);\n",
    "plt.show();"
   ]
  },
  {
   "cell_type": "markdown",
   "metadata": {},
   "source": [
    "## Evaluation of Testing data"
   ]
  },
  {
   "cell_type": "code",
   "execution_count": 24,
   "metadata": {},
   "outputs": [],
   "source": [
    "# Get predictions\n",
    "#\n",
    "pred = model.predict( testX )\n",
    "\n",
    "\n",
    "# Calculate Loss (MSE)\n",
    "#\n",
    "test_loss = np.mean( np.mean((pred - testX)**2, axis = 2), axis = 1)\n",
    "\n",
    "\n",
    "# Create DataFrame with results (loss)\n",
    "#\n",
    "Test_Loss = pd.DataFrame( {'Date' : testDates,\n",
    "                           'Loss' : test_loss,\n",
    "                           })\n",
    "\n",
    "\n",
    "Test_Loss.set_index('Date', inplace=True)"
   ]
  },
  {
   "cell_type": "markdown",
   "metadata": {},
   "source": [
    "## Visualization"
   ]
  },
  {
   "cell_type": "markdown",
   "metadata": {},
   "source": [
    "### Loss Histogram"
   ]
  },
  {
   "cell_type": "code",
   "execution_count": 25,
   "metadata": {},
   "outputs": [
    {
     "name": "stderr",
     "output_type": "stream",
     "text": [
      "/Users/livieris/opt/anaconda3/envs/tensorflow/lib/python3.7/site-packages/seaborn/distributions.py:2551: FutureWarning: `distplot` is a deprecated function and will be removed in a future version. Please adapt your code to use either `displot` (a figure-level function with similar flexibility) or `histplot` (an axes-level function for histograms).\n",
      "  warnings.warn(msg, FutureWarning)\n",
      "/Users/livieris/opt/anaconda3/envs/tensorflow/lib/python3.7/site-packages/seaborn/distributions.py:2551: FutureWarning: `distplot` is a deprecated function and will be removed in a future version. Please adapt your code to use either `displot` (a figure-level function with similar flexibility) or `histplot` (an axes-level function for histograms).\n",
      "  warnings.warn(msg, FutureWarning)\n"
     ]
    },
    {
     "data": {
      "image/png": "[encoded data removed]",
      "text/plain": [
       "<Figure size 1080x288 with 1 Axes>"
      ]
     },
     "metadata": {
      "needs_background": "light"
     },
     "output_type": "display_data"
    }
   ],
   "source": [
    "fig, ax = plt.subplots( figsize=(15, 4) )\n",
    "\n",
    "sns.distplot(Train_Loss['Loss'], bins = 'auto', kde = True, ax = ax)\n",
    "sns.distplot(Test_Loss['Loss'],  bins = 'auto', kde = True, ax = ax)\n",
    "\n",
    "plt.legend(['Training', 'Testing'], frameon = False, fontsize = 14)\n",
    "plt.xticks( size = 14 )\n",
    "plt.yticks( size = 14 )\n",
    "plt.xlabel(\"MSE loss\", size = 14)\n",
    "plt.ylabel(\"No of samples\", size = 14)\n",
    "plt.show()"
   ]
  },
  {
   "cell_type": "markdown",
   "metadata": {},
   "source": [
    "### Plot Train/Valid loss"
   ]
  },
  {
   "cell_type": "code",
   "execution_count": 26,
   "metadata": {},
   "outputs": [
    {
     "name": "stdout",
     "output_type": "stream",
     "text": [
      "Number of anomaly samples:  0/2763\n"
     ]
    },
    {
     "data": {
      "image/png": "[encoded data removed]",
      "text/plain": [
       "<Figure size 1080x288 with 1 Axes>"
      ]
     },
     "metadata": {
      "needs_background": "light"
     },
     "output_type": "display_data"
    }
   ],
   "source": [
    "# Detect all the samples which are anomalies\n",
    "#\n",
    "anomalies = Test_Loss['Loss'] > CRITICAL\n",
    "#\n",
    "Test_Loss['anomaly'] = np.where(anomalies, 'ANOMALY', 'NORMAL')\n",
    "\n",
    "\n",
    "print(\"Number of anomaly samples:  {}/{}\".format(np.sum(anomalies), len(anomalies)) )\n",
    "\n",
    "\n",
    "# Plot test-loss\n",
    "#\n",
    "ax = Test_Loss.plot( figsize = (15, 4) )\n",
    "\n",
    "\n",
    "# Plot thresholds\n",
    "#\n",
    "plt.axhline(y=WARNING,  linewidth=1, color='orange', linestyle='--')\n",
    "plt.axhline(y=CRITICAL, linewidth=1, color='red',    linestyle='--')\n",
    "\n",
    "\n",
    "plt.xticks(size = 14)\n",
    "plt.yticks(size = 14)\n",
    "plt.xlabel(\"Date\", size = 14)\n",
    "plt.ylabel(\"Loss\", size = 14);\n",
    "plt.legend(['Test loss', '$T_{WARNING}$', '$T_{CRITICAL}$'], frameon = False, fontsize = 14);\n",
    "plt.show();"
   ]
  },
  {
   "cell_type": "markdown",
   "metadata": {},
   "source": [
    "# Save"
   ]
  },
  {
   "cell_type": "code",
   "execution_count": 28,
   "metadata": {},
   "outputs": [
    {
     "name": "stderr",
     "output_type": "stream",
     "text": [
      "2022-07-07 14:32:23.635871: W tensorflow/python/util/util.cc:368] Sets are not currently considered sequences, but this may change in the future, so consider avoiding using them.\n",
      "Function `_wrapped_model` contains input name(s) InputLayer with unsupported characters which will be renamed to inputlayer in the SavedModel.\n"
     ]
    },
    {
     "name": "stdout",
     "output_type": "stream",
     "text": [
      "INFO:tensorflow:Assets written to: model_repository/AnomalyDetectionModel/1/model.savedmodel/assets\n"
     ]
    },
    {
     "name": "stderr",
     "output_type": "stream",
     "text": [
      "Assets written to: model_repository/AnomalyDetectionModel/1/model.savedmodel/assets\n",
      "[INFO] Anomaly detection model was saved in model_repository\n"
     ]
    }
   ],
   "source": [
    "# Save model\n",
    "#\n",
    "model.save( 'model_repository/AnomalyDetectionModel/1/model.savedmodel')\n",
    "#\n",
    "logger.info('[INFO] Anomaly detection model was saved in model_repository')"
   ]
  },
  {
   "cell_type": "code",
   "execution_count": 29,
   "metadata": {},
   "outputs": [
    {
     "name": "stderr",
     "output_type": "stream",
     "text": [
      "[INFO] Scaler was saved in model_repository\n"
     ]
    }
   ],
   "source": [
    "# Save scaler\n",
    "#\n",
    "pickle.dump(scaler, open('model_repository/AnomalyDetectionModel/Scaler.pkl', 'wb'))\n",
    "\n",
    "logger.info('[INFO] Scaler was saved in model_repository')"
   ]
  },
  {
   "cell_type": "code",
   "execution_count": 30,
   "metadata": {},
   "outputs": [
    {
     "name": "stderr",
     "output_type": "stream",
     "text": [
      "[INFO] Thresholds were saved in model_repository\n"
     ]
    }
   ],
   "source": [
    "# Save thresholds\n",
    "#\n",
    "import json\n",
    "\n",
    "Thresholds = {'WARNING':  WARNING,\n",
    "              'CRITICAL': CRITICAL}\n",
    "\n",
    "with open('model_repository/AnomalyDetectionModel/Thresholds.json', 'w') as fp:\n",
    "    json.dump(Thresholds, fp)\n",
    "#\n",
    "logger.info('[INFO] Thresholds were saved in model_repository')"
   ]
  },
  {
   "cell_type": "code",
   "execution_count": null,
   "metadata": {},
   "outputs": [],
   "source": []
  }
 ],
 "metadata": {
  "kernelspec": {
   "display_name": "Python [conda env:tensorflow]",
   "language": "python",
   "name": "conda-env-tensorflow-py"
  },
  "language_info": {
   "codemirror_mode": {
    "name": "ipython",
    "version": 3
   },
   "file_extension": ".py",
   "mimetype": "text/x-python",
   "name": "python",
   "nbconvert_exporter": "python",
   "pygments_lexer": "ipython3",
   "version": "3.7.12"
  },
  "toc": {
   "base_numbering": 1,
   "nav_menu": {},
   "number_sections": true,
   "sideBar": true,
   "skip_h1_title": false,
   "title_cell": "Table of Contents",
   "title_sidebar": "Contents",
   "toc_cell": false,
   "toc_position": {
    "height": "calc(100% - 180px)",
    "left": "10px",
    "top": "150px",
    "width": "254.6666717529297px"
   },
   "toc_section_display": true,
   "toc_window_display": true
  }
 },
 "nbformat": 4,
 "nbformat_minor": 4
}
