{
 "cells": [
  {
   "cell_type": "markdown",
   "metadata": {},
   "source": [
    "# Libraries"
   ]
  },
  {
   "cell_type": "code",
   "execution_count": 110,
   "metadata": {},
   "outputs": [],
   "source": [
    "# =-=-=-=-=-=-=-=-=-=-=-=-=-=-=-=-=-=-=-=-=-=-=-=-=-=-=-=-=-=\n",
    "# Basic libraries\n",
    "#\n",
    "import pickle\n",
    "import json\n",
    "from   tqdm   import tqdm\n",
    "import pandas as pd\n",
    "import numpy  as np\n",
    "import time\n",
    "\n",
    "\n",
    "\n",
    "# =-=-=-=-=-=-=-=-=-=-=-=-=-=-=-=-=-=-=-=-=-=-=-=-=-=-=-=-=-=-=-=-=-=-=-=-=-=\n",
    "# Visualization library\n",
    "#\n",
    "import matplotlib.pyplot as plt\n",
    "import seaborn           as sns\n",
    "\n",
    "\n",
    "# =-=-=-=-=-=-=-=-=-=-=-=-=-=-=-=-=-=-=-=-=-=-=-=-=-=-=-=-=-=-=-=-=-=-=-=-=-=\n",
    "# Sklearn library\n",
    "#\n",
    "from sklearn.preprocessing import StandardScaler\n",
    "\n",
    "\n",
    "# =-=-=-=-=-=-=-=-=-=-=-=-=-=-=-=-=-=-=-=-=-=-=-=-=-=-=-=-=-=-=\n",
    "# Tensorflow library\n",
    "#\n",
    "import tensorflow                 as tf\n",
    "from   tensorflow.keras.callbacks import *\n",
    "from   tensorflow.keras.metrics   import *\n",
    "\n",
    "\n",
    "# =-=-=-=-=-=-=-=-=-=-=-=-=-=-=-=-=-=-=-=-=-=-=-=-=-=-=-=-=-=\n",
    "# User libraries\n",
    "#\n",
    "from utils.Logger        import *\n",
    "from utils.InfuxDBClient import *"
   ]
  },
  {
   "cell_type": "markdown",
   "metadata": {},
   "source": [
    "# Parameters"
   ]
  },
  {
   "cell_type": "code",
   "execution_count": 83,
   "metadata": {},
   "outputs": [],
   "source": [
    "# Selected sensor\n",
    "#\n",
    "Sensor = '01cc0529-79bb-48cc-a052-4fde9372abeb'\n",
    "\n",
    "# Set look-back (Lag)\n",
    "#\n",
    "Lag = 32\n",
    "\n",
    "# Set 'verbose'\n",
    "#\n",
    "VERBOSE = True\n",
    "\n",
    "# Initiate logger\n",
    "#\n",
    "if VERBOSE:\n",
    "    logger = init_logger( log_file = 'logs.log' )  "
   ]
  },
  {
   "cell_type": "markdown",
   "metadata": {},
   "source": [
    "# Data"
   ]
  },
  {
   "cell_type": "markdown",
   "metadata": {},
   "source": [
    "## Download data from InfuxDB"
   ]
  },
  {
   "cell_type": "markdown",
   "metadata": {},
   "source": [
    "## Setup InfuxDB Client"
   ]
  },
  {
   "cell_type": "code",
   "execution_count": 84,
   "metadata": {},
   "outputs": [],
   "source": [
    "influx_measurement = \"beat_box_rms\"\n",
    "\n",
    "\n",
    "# Change to influx live data \n",
    "#\n",
    "influx = InfluxDataframeDBClient(host     = '192.168.2.198', \n",
    "                                 username = 'admin',\n",
    "                                 pwd      = 'CoreInn02019', \n",
    "                                 port     =  8086, \n",
    "                                 db       = 'corebeat_rms')\n",
    "influx.initClient()"
   ]
  },
  {
   "cell_type": "markdown",
   "metadata": {},
   "source": [
    "### Download data"
   ]
  },
  {
   "cell_type": "code",
   "execution_count": 85,
   "metadata": {},
   "outputs": [
    {
     "name": "stderr",
     "output_type": "stream",
     "text": [
      "[INFO] Download data from CoreBEAT database\n",
      "[INFO] Download data from CoreBEAT database\n",
      "[INFO] Data cleaning - Data processing\n",
      "[INFO] Data cleaning - Data processing\n",
      "[INFO] Number of features: 4\n",
      "[INFO] Number of features: 4\n"
     ]
    },
    {
     "data": {
      "text/html": [
       "<div>\n",
       "<style scoped>\n",
       "    .dataframe tbody tr th:only-of-type {\n",
       "        vertical-align: middle;\n",
       "    }\n",
       "\n",
       "    .dataframe tbody tr th {\n",
       "        vertical-align: top;\n",
       "    }\n",
       "\n",
       "    .dataframe thead th {\n",
       "        text-align: right;\n",
       "    }\n",
       "</style>\n",
       "<table border=\"1\" class=\"dataframe\">\n",
       "  <thead>\n",
       "    <tr style=\"text-align: right;\">\n",
       "      <th></th>\n",
       "      <th>acc_x</th>\n",
       "      <th>acc_y</th>\n",
       "      <th>acc_z</th>\n",
       "      <th>temperature</th>\n",
       "    </tr>\n",
       "  </thead>\n",
       "  <tbody>\n",
       "    <tr>\n",
       "      <th>2022-06-18 02:01:19+00:00</th>\n",
       "      <td>0.238592</td>\n",
       "      <td>0.186857</td>\n",
       "      <td>0.211078</td>\n",
       "      <td>31.8</td>\n",
       "    </tr>\n",
       "    <tr>\n",
       "      <th>2022-06-18 02:02:19+00:00</th>\n",
       "      <td>0.186287</td>\n",
       "      <td>0.129006</td>\n",
       "      <td>0.146181</td>\n",
       "      <td>31.8</td>\n",
       "    </tr>\n",
       "    <tr>\n",
       "      <th>2022-06-18 02:03:18+00:00</th>\n",
       "      <td>0.187383</td>\n",
       "      <td>0.137613</td>\n",
       "      <td>0.151158</td>\n",
       "      <td>31.9</td>\n",
       "    </tr>\n",
       "  </tbody>\n",
       "</table>\n",
       "</div>"
      ],
      "text/plain": [
       "                              acc_x     acc_y     acc_z  temperature\n",
       "2022-06-18 02:01:19+00:00  0.238592  0.186857  0.211078         31.8\n",
       "2022-06-18 02:02:19+00:00  0.186287  0.129006  0.146181         31.8\n",
       "2022-06-18 02:03:18+00:00  0.187383  0.137613  0.151158         31.9"
      ]
     },
     "execution_count": 85,
     "metadata": {},
     "output_type": "execute_result"
    }
   ],
   "source": [
    "# TABLE: SKIQv2_lubcos_main_spindle_lubrication\n",
    "#\n",
    "df = influx.client.query(f'SELECT * from {influx_measurement}') \n",
    "df = df[ influx_measurement ]\n",
    "#\n",
    "if VERBOSE: \n",
    "    logger.info('[INFO] Download data from CoreBEAT database')\n",
    "\n",
    "\n",
    "# Preprocess data\n",
    "#\n",
    "df = df[ df['beat_box_id'] == Sensor]\n",
    "\n",
    "# \n",
    "del df['beat_box_id']\n",
    "\n",
    "\n",
    "if VERBOSE: \n",
    "    logger.info('[INFO] Data cleaning - Data processing')\n",
    "    logger.info('[INFO] Number of features: {}'.format(df.shape[1]))\n",
    "    \n",
    "df.head( 3 )"
   ]
  },
  {
   "cell_type": "markdown",
   "metadata": {},
   "source": [
    "# Training/Validation/Testing datasets"
   ]
  },
  {
   "cell_type": "markdown",
   "metadata": {},
   "source": [
    "## Split data"
   ]
  },
  {
   "cell_type": "code",
   "execution_count": 86,
   "metadata": {},
   "outputs": [],
   "source": [
    "train_idx = int( df.shape[0] * 0.8 )\n",
    "valid_idx = int( df.shape[0] * 0.9 )\n",
    "\n",
    "\n",
    "df_train = df[ :train_idx ].copy()\n",
    "df_valid = df[ train_idx:valid_idx ].copy()\n",
    "df_test  = df[ valid_idx: ]"
   ]
  },
  {
   "cell_type": "markdown",
   "metadata": {},
   "source": [
    "## Fix lag"
   ]
  },
  {
   "cell_type": "code",
   "execution_count": 87,
   "metadata": {},
   "outputs": [],
   "source": [
    "df_valid = pd.concat([df_train.iloc[-Lag:], df_valid])\n",
    "df_test  = pd.concat([df_valid.iloc[-Lag:], df_test])"
   ]
  },
  {
   "cell_type": "markdown",
   "metadata": {},
   "source": [
    "## Scaling data"
   ]
  },
  {
   "cell_type": "code",
   "execution_count": 88,
   "metadata": {},
   "outputs": [],
   "source": [
    "# Set scaler\n",
    "#\n",
    "scaler = StandardScaler()\n",
    "\n",
    "df_train = pd.DataFrame(data    = scaler.fit_transform(df_train),\n",
    "                        columns = df_train.columns, \n",
    "                        index   = df_train.index)\n",
    "\n",
    "df_valid = pd.DataFrame(data    = scaler.fit_transform(df_valid),\n",
    "                        columns = df_valid.columns, \n",
    "                        index   = df_valid.index)\n",
    "\n",
    "\n",
    "df_test   = pd.DataFrame(data    = scaler.fit_transform(df_test),\n",
    "                         columns = df_test.columns, \n",
    "                         index   = df_test.index)"
   ]
  },
  {
   "cell_type": "markdown",
   "metadata": {},
   "source": [
    "# Creating training/validation/testing instances"
   ]
  },
  {
   "cell_type": "code",
   "execution_count": 89,
   "metadata": {},
   "outputs": [],
   "source": [
    "def create_dataset(df = None, Lag = 1, overlap = 1):\n",
    "    \n",
    "    X, Dates = [], []\n",
    "    for i in tqdm( range( df.shape[0] - Lag ) ):\n",
    "        X     += [ df[i:i+Lag].to_numpy() ]\n",
    "        Dates += [ df.index[i+Lag]        ]\n",
    "    \n",
    "    return ( np.array(X), np.array(Dates) )\n",
    "    \n",
    "\n"
   ]
  },
  {
   "cell_type": "code",
   "execution_count": 90,
   "metadata": {},
   "outputs": [
    {
     "name": "stderr",
     "output_type": "stream",
     "text": [
      "100%|█████████████████████████████████████████████████████████████████████████████████████████████████████████████████████████████████████████████████████████████████████████████████| 22053/22053 [00:00<00:00, 22169.68it/s]\n",
      "[INFO] Training instances created\n",
      "[INFO] Training instances created\n",
      "100%|███████████████████████████████████████████████████████████████████████████████████████████████████████████████████████████████████████████████████████████████████████████████████| 2761/2761 [00:00<00:00, 21801.45it/s]\n",
      "[INFO] Validation instances created\n",
      "[INFO] Validation instances created\n",
      "100%|███████████████████████████████████████████████████████████████████████████████████████████████████████████████████████████████████████████████████████████████████████████████████| 2761/2761 [00:00<00:00, 21589.41it/s]\n",
      "[INFO] Testing instances created\n",
      "[INFO] Testing instances created\n"
     ]
    }
   ],
   "source": [
    "trainX, trainDates = create_dataset(df = df_train, Lag = Lag)\n",
    "if VERBOSE: \n",
    "    logger.info('[INFO] Training instances created')\n",
    "    \n",
    "    \n",
    "validX, validDates = create_dataset(df = df_valid, Lag = Lag)\n",
    "if VERBOSE: \n",
    "    logger.info('[INFO] Validation instances created')\n",
    "    \n",
    "    \n",
    "testX, testDates   = create_dataset(df = df_test, Lag = Lag)\n",
    "if VERBOSE: \n",
    "    logger.info('[INFO] Testing instances created')"
   ]
  },
  {
   "cell_type": "markdown",
   "metadata": {},
   "source": [
    "# Anomaly detection model"
   ]
  },
  {
   "cell_type": "markdown",
   "metadata": {},
   "source": [
    "## Setup CUDA"
   ]
  },
  {
   "cell_type": "code",
   "execution_count": 91,
   "metadata": {},
   "outputs": [],
   "source": [
    "gpus = tf.config.list_physical_devices('GPU')\n",
    "\n",
    "if gpus:\n",
    "    try:\n",
    "        # Currently, memory growth needs to be the same across GPUs\n",
    "        for gpu in gpus:\n",
    "            tf.config.experimental.set_memory_growth(gpu, True)\n",
    "            \n",
    "        logical_gpus = tf.config.list_logical_devices('GPU')\n",
    "        print(len(gpus), \"Physical GPUs,\", len(logical_gpus), \"Logical GPUs\")\n",
    "        \n",
    "    except RuntimeError as e:\n",
    "        \n",
    "        # Memory growth must be set before GPUs have been initialized\n",
    "        print(e)"
   ]
  },
  {
   "cell_type": "markdown",
   "metadata": {},
   "source": [
    "## Setup model"
   ]
  },
  {
   "cell_type": "code",
   "execution_count": 92,
   "metadata": {},
   "outputs": [],
   "source": [
    "# Define metrics\n",
    "#\n",
    "metrics = [\n",
    "            RootMeanSquaredError(name = 'RMSE', dtype = None),\n",
    "            MeanAbsoluteError(name='MAE', dtype=None)\n",
    "          ]"
   ]
  },
  {
   "cell_type": "code",
   "execution_count": 93,
   "metadata": {},
   "outputs": [],
   "source": [
    "# model = tf.keras.models.load_model('PREDICT_model', compile=True)\n",
    "\n",
    "from   tensorflow.keras.layers import *\n",
    "from   tensorflow.keras import Sequential\n",
    "from   tensorflow.keras import optimizers\n",
    "\n",
    "model = Sequential(\n",
    "    [\n",
    "        Input(shape = (trainX.shape[1], trainX.shape[2]), name = 'InputLayer'),\n",
    "        #\n",
    "        # Since the problem is semi-supervised - Gaussian noise is applied\n",
    "        GaussianNoise( stddev = 0.05 ),\n",
    "        \n",
    "        # =-=-=-=-=-=-=-=-=-=-=-=-=-=-=-=-=-=-=-=-=-=-=-=-=-=-=-=-=-=-=-=-=-=-=-=-=-=-=\n",
    "        # Encoder\n",
    "        #\n",
    "        Conv1D(filters     = 32, \n",
    "               kernel_size = 7, \n",
    "               padding     = \"same\", \n",
    "               strides     = 1, \n",
    "               activation  = \"elu\"),\n",
    "        #\n",
    "        BatchNormalization(),\n",
    "        Dropout(0.5),\n",
    "        #\n",
    "        MaxPooling1D(pool_size = 2, \n",
    "                     padding   = 'same'),\n",
    "        #\n",
    "        Conv1D(filters     = 16, \n",
    "               kernel_size = 3, \n",
    "               padding     = \"same\", \n",
    "               strides     = 1, \n",
    "               activation  = \"elu\"),\n",
    "        #\n",
    "        BatchNormalization(),\n",
    "        Dropout(0.2),\n",
    "        #        \n",
    "        MaxPooling1D(2, padding='same'),\n",
    "        \n",
    "        \n",
    "        # =-=-=-=-=-=-=-=-=-=-=-=-=-=-=-=-=-=-=-=-=-=-=-=-=-=-=-=-=-=-=-=-=-=-=-=-=-=-=\n",
    "        # Decoder\n",
    "        #\n",
    "        Conv1D(filters     = 16, \n",
    "               kernel_size = 3, \n",
    "               padding     = \"same\", \n",
    "               strides     = 1, \n",
    "               activation  = \"elu\"),\n",
    "        #\n",
    "        BatchNormalization(),\n",
    "        #\n",
    "        UpSampling1D(size = 2),\n",
    "        #\n",
    "        Conv1D(filters     = 32, \n",
    "               kernel_size = 7, \n",
    "               padding     = \"same\", \n",
    "               strides     = 1, \n",
    "               activation  = \"elu\"),\n",
    "        #\n",
    "        BatchNormalization(),\n",
    "        #\n",
    "        UpSampling1D(size = 2),\n",
    "        #\n",
    "        Conv1D(filters     = trainX.shape[2], \n",
    "               kernel_size = 3, \n",
    "               padding     = \"same\", \n",
    "               strides     = 1, \n",
    "               activation  = \"linear\",\n",
    "               name        = 'OutputLayer' ),        \n",
    "    ]\n",
    ")\n",
    "\n",
    "\n",
    "\n",
    "# Set loss and optimizer\n",
    "#\n",
    "model.compile(optimizer = optimizers.Adam(learning_rate = 0.001),\n",
    "              loss      = 'mse',\n",
    "              metrics   = metrics)\n"
   ]
  },
  {
   "cell_type": "code",
   "execution_count": 94,
   "metadata": {},
   "outputs": [
    {
     "name": "stdout",
     "output_type": "stream",
     "text": [
      "[INFO] Input layer:   InputLayer\n",
      "[INFO] Output layer:  OutputLayer/BiasAdd:0\n",
      "Model: \"sequential_2\"\n",
      "_________________________________________________________________\n",
      " Layer (type)                Output Shape              Param #   \n",
      "=================================================================\n",
      " gaussian_noise_2 (GaussianN  (None, 32, 4)            0         \n",
      " oise)                                                           \n",
      "                                                                 \n",
      " conv1d_8 (Conv1D)           (None, 32, 32)            928       \n",
      "                                                                 \n",
      " batch_normalization_8 (Batc  (None, 32, 32)           128       \n",
      " hNormalization)                                                 \n",
      "                                                                 \n",
      " dropout_4 (Dropout)         (None, 32, 32)            0         \n",
      "                                                                 \n",
      " max_pooling1d_4 (MaxPooling  (None, 16, 32)           0         \n",
      " 1D)                                                             \n",
      "                                                                 \n",
      " conv1d_9 (Conv1D)           (None, 16, 16)            1552      \n",
      "                                                                 \n",
      " batch_normalization_9 (Batc  (None, 16, 16)           64        \n",
      " hNormalization)                                                 \n",
      "                                                                 \n",
      " dropout_5 (Dropout)         (None, 16, 16)            0         \n",
      "                                                                 \n",
      " max_pooling1d_5 (MaxPooling  (None, 8, 16)            0         \n",
      " 1D)                                                             \n",
      "                                                                 \n",
      " conv1d_10 (Conv1D)          (None, 8, 16)             784       \n",
      "                                                                 \n",
      " batch_normalization_10 (Bat  (None, 8, 16)            64        \n",
      " chNormalization)                                                \n",
      "                                                                 \n",
      " up_sampling1d_4 (UpSampling  (None, 16, 16)           0         \n",
      " 1D)                                                             \n",
      "                                                                 \n",
      " conv1d_11 (Conv1D)          (None, 16, 32)            3616      \n",
      "                                                                 \n",
      " batch_normalization_11 (Bat  (None, 16, 32)           128       \n",
      " chNormalization)                                                \n",
      "                                                                 \n",
      " up_sampling1d_5 (UpSampling  (None, 32, 32)           0         \n",
      " 1D)                                                             \n",
      "                                                                 \n",
      " OutputLayer (Conv1D)        (None, 32, 4)             388       \n",
      "                                                                 \n",
      "=================================================================\n",
      "Total params: 7,652\n",
      "Trainable params: 7,460\n",
      "Non-trainable params: 192\n",
      "_________________________________________________________________\n"
     ]
    }
   ],
   "source": [
    "print('[INFO] Input layer:  ', model.input.name)\n",
    "print('[INFO] Output layer: ', model.output.name)\n",
    "\n",
    "# Model summary\n",
    "#\n",
    "model.summary()"
   ]
  },
  {
   "cell_type": "markdown",
   "metadata": {},
   "source": [
    "## Setup training parameters"
   ]
  },
  {
   "cell_type": "code",
   "execution_count": 95,
   "metadata": {},
   "outputs": [
    {
     "name": "stdout",
     "output_type": "stream",
     "text": [
      "[INFO] Parameters were setup\n"
     ]
    }
   ],
   "source": [
    "# Set parameters\n",
    "#\n",
    "parameters = {'epochs'           : 1000,\n",
    "              'batch_size'       : 64,\n",
    "              'verbose'          : True}\n",
    "\n",
    "\n",
    "\n",
    "\n",
    "# Checkpoint\n",
    "#\n",
    "checkpoint = ModelCheckpoint(\"checkpoint/AnomalyDetectionModel.hdf5\", \n",
    "                             save_weights_only = True,\n",
    "                             monitor           = 'val_loss', \n",
    "                             verbose           = 0, \n",
    "                             save_best_only    = True, \n",
    "                             mode              = 'min')\n",
    "\n",
    "# Earlystopping\n",
    "#\n",
    "earlystopping = EarlyStopping(monitor       = 'val_loss', \n",
    "                              mode          = 'min', \n",
    "                              verbose       = 1, \n",
    "                              patience      = 10)\n",
    "\n",
    "\n",
    "# Learning rate adjustment\n",
    "#\n",
    "lrs_scheduler  = ReduceLROnPlateau(monitor   = 'val_loss', \n",
    "                                   factor    = 0.5,\n",
    "                                   min_delta = 1.e-6,\n",
    "                                   patience  = 5)\n",
    "\n",
    "print('[INFO] Parameters were setup')"
   ]
  },
  {
   "cell_type": "markdown",
   "metadata": {},
   "source": [
    "## Model training"
   ]
  },
  {
   "cell_type": "code",
   "execution_count": 24,
   "metadata": {
    "scrolled": true
   },
   "outputs": [
    {
     "name": "stdout",
     "output_type": "stream",
     "text": [
      "Epoch 1/1000\n",
      "345/345 [==============================] - 2s 5ms/step - loss: 0.1669 - RMSE: 0.4086 - MAE: 0.2804 - val_loss: 0.1584 - val_RMSE: 0.3980 - val_MAE: 0.2598 - lr: 0.0010\n",
      "Epoch 2/1000\n",
      "345/345 [==============================] - 2s 5ms/step - loss: 0.1603 - RMSE: 0.4003 - MAE: 0.2747 - val_loss: 0.1485 - val_RMSE: 0.3854 - val_MAE: 0.2451 - lr: 0.0010\n",
      "Epoch 3/1000\n",
      "345/345 [==============================] - 2s 5ms/step - loss: 0.1548 - RMSE: 0.3935 - MAE: 0.2698 - val_loss: 0.1689 - val_RMSE: 0.4110 - val_MAE: 0.2569 - lr: 0.0010\n",
      "Epoch 4/1000\n",
      "345/345 [==============================] - 2s 5ms/step - loss: 0.1523 - RMSE: 0.3903 - MAE: 0.2675 - val_loss: 0.1748 - val_RMSE: 0.4181 - val_MAE: 0.2551 - lr: 0.0010\n",
      "Epoch 5/1000\n",
      "345/345 [==============================] - 2s 5ms/step - loss: 0.1470 - RMSE: 0.3834 - MAE: 0.2622 - val_loss: 0.1516 - val_RMSE: 0.3894 - val_MAE: 0.2472 - lr: 0.0010\n",
      "Epoch 6/1000\n",
      "345/345 [==============================] - 2s 6ms/step - loss: 0.1453 - RMSE: 0.3812 - MAE: 0.2612 - val_loss: 0.1489 - val_RMSE: 0.3859 - val_MAE: 0.2372 - lr: 0.0010\n",
      "Epoch 7/1000\n",
      "345/345 [==============================] - 2s 6ms/step - loss: 0.1412 - RMSE: 0.3758 - MAE: 0.2574 - val_loss: 0.1556 - val_RMSE: 0.3944 - val_MAE: 0.2489 - lr: 0.0010\n",
      "Epoch 8/1000\n",
      "345/345 [==============================] - 2s 6ms/step - loss: 0.1392 - RMSE: 0.3731 - MAE: 0.2555 - val_loss: 0.1424 - val_RMSE: 0.3773 - val_MAE: 0.2376 - lr: 5.0000e-04\n",
      "Epoch 9/1000\n",
      "345/345 [==============================] - 2s 6ms/step - loss: 0.1384 - RMSE: 0.3720 - MAE: 0.2555 - val_loss: 0.1488 - val_RMSE: 0.3857 - val_MAE: 0.2462 - lr: 5.0000e-04\n",
      "Epoch 10/1000\n",
      "345/345 [==============================] - 2s 6ms/step - loss: 0.1374 - RMSE: 0.3707 - MAE: 0.2544 - val_loss: 0.1449 - val_RMSE: 0.3807 - val_MAE: 0.2415 - lr: 5.0000e-04\n",
      "Epoch 11/1000\n",
      "345/345 [==============================] - 2s 6ms/step - loss: 0.1380 - RMSE: 0.3715 - MAE: 0.2543 - val_loss: 0.1392 - val_RMSE: 0.3732 - val_MAE: 0.2415 - lr: 5.0000e-04\n",
      "Epoch 12/1000\n",
      "345/345 [==============================] - 2s 5ms/step - loss: 0.1360 - RMSE: 0.3687 - MAE: 0.2537 - val_loss: 0.1433 - val_RMSE: 0.3785 - val_MAE: 0.2372 - lr: 5.0000e-04\n",
      "Epoch 13/1000\n",
      "345/345 [==============================] - 2s 5ms/step - loss: 0.1330 - RMSE: 0.3647 - MAE: 0.2505 - val_loss: 0.1345 - val_RMSE: 0.3667 - val_MAE: 0.2340 - lr: 5.0000e-04\n",
      "Epoch 14/1000\n",
      "345/345 [==============================] - 2s 5ms/step - loss: 0.1342 - RMSE: 0.3663 - MAE: 0.2517 - val_loss: 0.1430 - val_RMSE: 0.3782 - val_MAE: 0.2399 - lr: 5.0000e-04\n",
      "Epoch 15/1000\n",
      "345/345 [==============================] - 2s 6ms/step - loss: 0.1342 - RMSE: 0.3663 - MAE: 0.2519 - val_loss: 0.1325 - val_RMSE: 0.3640 - val_MAE: 0.2265 - lr: 5.0000e-04\n",
      "Epoch 16/1000\n",
      "345/345 [==============================] - 2s 6ms/step - loss: 0.1327 - RMSE: 0.3643 - MAE: 0.2502 - val_loss: 0.1400 - val_RMSE: 0.3741 - val_MAE: 0.2387 - lr: 5.0000e-04\n",
      "Epoch 17/1000\n",
      "345/345 [==============================] - 2s 6ms/step - loss: 0.1316 - RMSE: 0.3627 - MAE: 0.2483 - val_loss: 0.1434 - val_RMSE: 0.3787 - val_MAE: 0.2387 - lr: 5.0000e-04\n",
      "Epoch 18/1000\n",
      "345/345 [==============================] - 2s 6ms/step - loss: 0.1304 - RMSE: 0.3611 - MAE: 0.2474 - val_loss: 0.1490 - val_RMSE: 0.3860 - val_MAE: 0.2383 - lr: 5.0000e-04\n",
      "Epoch 19/1000\n",
      "345/345 [==============================] - 2s 6ms/step - loss: 0.1312 - RMSE: 0.3622 - MAE: 0.2494 - val_loss: 0.1320 - val_RMSE: 0.3633 - val_MAE: 0.2340 - lr: 5.0000e-04\n",
      "Epoch 20/1000\n",
      "345/345 [==============================] - 2s 6ms/step - loss: 0.1311 - RMSE: 0.3621 - MAE: 0.2487 - val_loss: 0.1475 - val_RMSE: 0.3840 - val_MAE: 0.2421 - lr: 5.0000e-04\n",
      "Epoch 21/1000\n",
      "345/345 [==============================] - 2s 5ms/step - loss: 0.1297 - RMSE: 0.3601 - MAE: 0.2466 - val_loss: 0.1387 - val_RMSE: 0.3725 - val_MAE: 0.2371 - lr: 5.0000e-04\n",
      "Epoch 22/1000\n",
      "345/345 [==============================] - 2s 6ms/step - loss: 0.1294 - RMSE: 0.3597 - MAE: 0.2466 - val_loss: 0.1385 - val_RMSE: 0.3722 - val_MAE: 0.2362 - lr: 5.0000e-04\n",
      "Epoch 23/1000\n",
      "345/345 [==============================] - 2s 5ms/step - loss: 0.1284 - RMSE: 0.3583 - MAE: 0.2463 - val_loss: 0.1328 - val_RMSE: 0.3644 - val_MAE: 0.2362 - lr: 5.0000e-04\n",
      "Epoch 24/1000\n",
      "345/345 [==============================] - 2s 5ms/step - loss: 0.1286 - RMSE: 0.3586 - MAE: 0.2462 - val_loss: 0.1326 - val_RMSE: 0.3641 - val_MAE: 0.2329 - lr: 5.0000e-04\n",
      "Epoch 25/1000\n",
      "345/345 [==============================] - 2s 5ms/step - loss: 0.1262 - RMSE: 0.3552 - MAE: 0.2441 - val_loss: 0.1405 - val_RMSE: 0.3748 - val_MAE: 0.2369 - lr: 2.5000e-04\n",
      "Epoch 26/1000\n",
      "345/345 [==============================] - 2s 5ms/step - loss: 0.1265 - RMSE: 0.3557 - MAE: 0.2437 - val_loss: 0.1309 - val_RMSE: 0.3618 - val_MAE: 0.2315 - lr: 2.5000e-04\n",
      "Epoch 27/1000\n",
      "345/345 [==============================] - 2s 5ms/step - loss: 0.1270 - RMSE: 0.3564 - MAE: 0.2451 - val_loss: 0.1374 - val_RMSE: 0.3707 - val_MAE: 0.2348 - lr: 2.5000e-04\n",
      "Epoch 28/1000\n",
      "345/345 [==============================] - 2s 5ms/step - loss: 0.1259 - RMSE: 0.3548 - MAE: 0.2434 - val_loss: 0.1367 - val_RMSE: 0.3697 - val_MAE: 0.2355 - lr: 2.5000e-04\n",
      "Epoch 29/1000\n",
      "345/345 [==============================] - 2s 5ms/step - loss: 0.1256 - RMSE: 0.3544 - MAE: 0.2432 - val_loss: 0.1430 - val_RMSE: 0.3781 - val_MAE: 0.2412 - lr: 2.5000e-04\n",
      "Epoch 30/1000\n",
      "345/345 [==============================] - 2s 5ms/step - loss: 0.1263 - RMSE: 0.3554 - MAE: 0.2441 - val_loss: 0.1438 - val_RMSE: 0.3792 - val_MAE: 0.2387 - lr: 2.5000e-04\n",
      "Epoch 31/1000\n",
      "345/345 [==============================] - 2s 6ms/step - loss: 0.1247 - RMSE: 0.3531 - MAE: 0.2422 - val_loss: 0.1336 - val_RMSE: 0.3655 - val_MAE: 0.2320 - lr: 2.5000e-04\n",
      "Epoch 32/1000\n",
      "345/345 [==============================] - 2s 6ms/step - loss: 0.1242 - RMSE: 0.3524 - MAE: 0.2419 - val_loss: 0.1351 - val_RMSE: 0.3675 - val_MAE: 0.2327 - lr: 1.2500e-04\n",
      "Epoch 33/1000\n",
      "345/345 [==============================] - 2s 6ms/step - loss: 0.1240 - RMSE: 0.3521 - MAE: 0.2412 - val_loss: 0.1364 - val_RMSE: 0.3693 - val_MAE: 0.2346 - lr: 1.2500e-04\n",
      "Epoch 34/1000\n",
      "345/345 [==============================] - 2s 5ms/step - loss: 0.1248 - RMSE: 0.3533 - MAE: 0.2424 - val_loss: 0.1374 - val_RMSE: 0.3707 - val_MAE: 0.2362 - lr: 1.2500e-04\n",
      "Epoch 35/1000\n",
      "345/345 [==============================] - 2s 5ms/step - loss: 0.1241 - RMSE: 0.3523 - MAE: 0.2408 - val_loss: 0.1326 - val_RMSE: 0.3641 - val_MAE: 0.2341 - lr: 1.2500e-04\n",
      "Epoch 36/1000\n",
      "345/345 [==============================] - 2s 6ms/step - loss: 0.1232 - RMSE: 0.3510 - MAE: 0.2405 - val_loss: 0.1386 - val_RMSE: 0.3722 - val_MAE: 0.2366 - lr: 1.2500e-04\n",
      "Epoch 00036: early stopping\n",
      "CPU times: user 2min 51s, sys: 42.8 s, total: 3min 34s\n",
      "Wall time: 1min 7s\n"
     ]
    }
   ],
   "source": [
    "%%time\n",
    "\n",
    "score = model.fit(trainX, trainX,\n",
    "                  epochs           = parameters['epochs'],\n",
    "                  batch_size       = parameters['batch_size'],                    \n",
    "                  verbose          = parameters['verbose'],\n",
    "                  #\n",
    "                  callbacks        = [checkpoint, earlystopping, lrs_scheduler],\n",
    "                  #\n",
    "                  validation_data  = (validX, validX))"
   ]
  },
  {
   "cell_type": "markdown",
   "metadata": {},
   "source": [
    "### Training progress"
   ]
  },
  {
   "cell_type": "code",
   "execution_count": 96,
   "metadata": {},
   "outputs": [
    {
     "data": {
      "image/png": "[encoded data removed]",
      "text/plain": [
       "<Figure size 1080x288 with 2 Axes>"
      ]
     },
     "metadata": {
      "needs_background": "light"
     },
     "output_type": "display_data"
    }
   ],
   "source": [
    "fig, ax = plt.subplots(nrows = 1, ncols = 2, figsize = (15, 4) )\n",
    "\n",
    "ax[0].plot( score.history['RMSE'],     linewidth = 2 )\n",
    "ax[0].plot( score.history['val_RMSE'], linewidth = 2 )\n",
    "ax[0].legend(['Training', 'Testing'], frameon = False, fontsize = 14)\n",
    "ax[0].set_title('RMSE');\n",
    "\n",
    "\n",
    "ax[1].plot( score.history['MAE'],     linewidth = 2 )\n",
    "ax[1].plot( score.history['val_MAE'], linewidth = 2 )\n",
    "ax[1].legend(['Training', 'Testing'], frameon = False, fontsize = 14)\n",
    "ax[1].set_title('MAE');"
   ]
  },
  {
   "cell_type": "markdown",
   "metadata": {},
   "source": [
    "### Load optimized model"
   ]
  },
  {
   "cell_type": "code",
   "execution_count": 97,
   "metadata": {},
   "outputs": [],
   "source": [
    "model.load_weights( 'checkpoint/AnomalyDetectionModel.hdf5' )"
   ]
  },
  {
   "cell_type": "markdown",
   "metadata": {},
   "source": [
    "# Evaluation"
   ]
  },
  {
   "cell_type": "markdown",
   "metadata": {},
   "source": [
    "## Evaluation on Training data "
   ]
  },
  {
   "cell_type": "code",
   "execution_count": 98,
   "metadata": {},
   "outputs": [],
   "source": [
    "# Get predictions\n",
    "#\n",
    "pred = model.predict( trainX )\n",
    "\n",
    "\n",
    "# Calculate Loss (MSE)\n",
    "#\n",
    "train_loss = np.mean( np.mean((pred - trainX)**2, axis = 2), axis = 1)\n",
    "\n",
    "\n",
    "# Create DataFrame with results (loss)\n",
    "#\n",
    "Train_Loss = pd.DataFrame( {'Date'  : trainDates,\n",
    "                            'Loss'  : train_loss,\n",
    "                           })\n",
    "\n",
    "Train_Loss.set_index('Date', inplace=True)"
   ]
  },
  {
   "cell_type": "code",
   "execution_count": 99,
   "metadata": {},
   "outputs": [],
   "source": [
    "# Get predictions\n",
    "#\n",
    "pred = model.predict( validX )\n",
    "\n",
    "\n",
    "# Calculate Loss (MSE)\n",
    "#\n",
    "valid_loss = np.mean( np.mean((pred - validX)**2, axis = 2), axis = 1)\n",
    "\n",
    "\n",
    "# Create DataFrame with results (loss)\n",
    "#\n",
    "Valid_Loss = pd.DataFrame( {'Date'   : validDates,\n",
    "                            'Loss'   : valid_loss,\n",
    "                           })\n",
    "\n",
    "Valid_Loss.set_index('Date', inplace=True)"
   ]
  },
  {
   "cell_type": "markdown",
   "metadata": {},
   "source": [
    "## Define thresholds"
   ]
  },
  {
   "cell_type": "code",
   "execution_count": 100,
   "metadata": {},
   "outputs": [
    {
     "name": "stdout",
     "output_type": "stream",
     "text": [
      "[INFO] WARNING  threshold:  0.3253796042522987\n",
      "[INFO] CRITICAL threshold:  1.4009364017058732\n"
     ]
    }
   ],
   "source": [
    "# Calculate thresholds\n",
    "#\n",
    "WARNING  = np.quantile( Train_Loss['Loss'], 0.95 )\n",
    "CRITICAL = np.quantile( Train_Loss['Loss'], 0.997 )\n",
    "\n",
    "print('[INFO] WARNING  threshold: ', WARNING)\n",
    "print('[INFO] CRITICAL threshold: ', CRITICAL)"
   ]
  },
  {
   "cell_type": "markdown",
   "metadata": {},
   "source": [
    "## Visualization"
   ]
  },
  {
   "cell_type": "markdown",
   "metadata": {},
   "source": [
    "### Loss Histogram"
   ]
  },
  {
   "cell_type": "code",
   "execution_count": 101,
   "metadata": {},
   "outputs": [
    {
     "name": "stderr",
     "output_type": "stream",
     "text": [
      "/Users/livieris/opt/anaconda3/envs/tensorflow/lib/python3.7/site-packages/seaborn/distributions.py:2551: FutureWarning: `distplot` is a deprecated function and will be removed in a future version. Please adapt your code to use either `displot` (a figure-level function with similar flexibility) or `histplot` (an axes-level function for histograms).\n",
      "  warnings.warn(msg, FutureWarning)\n",
      "/Users/livieris/opt/anaconda3/envs/tensorflow/lib/python3.7/site-packages/seaborn/distributions.py:2551: FutureWarning: `distplot` is a deprecated function and will be removed in a future version. Please adapt your code to use either `displot` (a figure-level function with similar flexibility) or `histplot` (an axes-level function for histograms).\n",
      "  warnings.warn(msg, FutureWarning)\n"
     ]
    },
    {
     "data": {
      "image/png": "[encoded data removed]",
      "text/plain": [
       "<Figure size 1080x288 with 1 Axes>"
      ]
     },
     "metadata": {
      "needs_background": "light"
     },
     "output_type": "display_data"
    }
   ],
   "source": [
    "fig, ax = plt.subplots( figsize=(15, 4) )\n",
    "\n",
    "sns.distplot(Train_Loss['Loss'], bins='auto', kde=True, ax=ax)\n",
    "sns.distplot(Valid_Loss['Loss'], bins='auto', kde=True, ax=ax)\n",
    "\n",
    "plt.legend(['Training', 'Validation'], frameon = False, fontsize=14)\n",
    "plt.xticks( size = 14 )\n",
    "plt.yticks( size = 14 )\n",
    "plt.xlabel(\"MSE loss\", size=14)\n",
    "plt.ylabel(\"No of samples\", size=14)\n",
    "plt.show()"
   ]
  },
  {
   "cell_type": "markdown",
   "metadata": {},
   "source": [
    "### Plot Train/Valid loss"
   ]
  },
  {
   "cell_type": "code",
   "execution_count": 102,
   "metadata": {},
   "outputs": [
    {
     "name": "stdout",
     "output_type": "stream",
     "text": [
      "Number of anomaly samples:  67/22053\n"
     ]
    },
    {
     "data": {
      "image/png": "[encoded data removed]",
      "text/plain": [
       "<Figure size 1080x288 with 1 Axes>"
      ]
     },
     "metadata": {
      "needs_background": "light"
     },
     "output_type": "display_data"
    }
   ],
   "source": [
    "# Detect all the samples which are anomalies\n",
    "#\n",
    "anomalies = Train_Loss['Loss'] > CRITICAL\n",
    "#\n",
    "Train_Loss['anomaly'] = np.where(anomalies, 'ANOMALY', 'NORMAL')\n",
    "\n",
    "\n",
    "print(\"Number of anomaly samples:  {}/{}\".format(np.sum(anomalies), len(anomalies)) )\n",
    "\n",
    "\n",
    "# Plot train-loss\n",
    "#\n",
    "ax = Train_Loss.plot( figsize = (15, 4) )\n",
    "# Plot valid-loss\n",
    "Valid_Loss.plot(ax = ax)\n",
    "\n",
    "\n",
    "# Plot thresholds\n",
    "#\n",
    "plt.axhline(y=WARNING,  linewidth=1, color='orange', linestyle='--')\n",
    "plt.axhline(y=CRITICAL, linewidth=1, color='red',    linestyle='--')\n",
    "\n",
    "\n",
    "plt.xticks(size = 14)\n",
    "plt.yticks(size = 14)\n",
    "plt.xlabel(\"Date\", size = 14)\n",
    "plt.ylabel(\"Loss\", size=14);\n",
    "plt.legend(['Train loss', 'Valid loss', '$T_{WARNING}$', '$T_{CRITICAL}$'], frameon = False, fontsize = 14);\n",
    "plt.show();"
   ]
  },
  {
   "cell_type": "markdown",
   "metadata": {},
   "source": [
    "## Evaluation of Testing data"
   ]
  },
  {
   "cell_type": "code",
   "execution_count": 103,
   "metadata": {},
   "outputs": [],
   "source": [
    "# Get predictions\n",
    "#\n",
    "pred = model.predict( testX )\n",
    "\n",
    "\n",
    "# Calculate Loss (MSE)\n",
    "#\n",
    "test_loss = np.mean( np.mean((pred - testX)**2, axis = 2), axis = 1)\n",
    "\n",
    "\n",
    "# Create DataFrame with results (loss)\n",
    "#\n",
    "Test_Loss = pd.DataFrame( {'Date' : testDates,\n",
    "                           'Loss' : test_loss,\n",
    "                           })\n",
    "\n",
    "\n",
    "Test_Loss.set_index('Date', inplace=True)"
   ]
  },
  {
   "cell_type": "markdown",
   "metadata": {},
   "source": [
    "## Visualization"
   ]
  },
  {
   "cell_type": "markdown",
   "metadata": {},
   "source": [
    "### Loss Histogram"
   ]
  },
  {
   "cell_type": "code",
   "execution_count": 104,
   "metadata": {},
   "outputs": [
    {
     "name": "stderr",
     "output_type": "stream",
     "text": [
      "/Users/livieris/opt/anaconda3/envs/tensorflow/lib/python3.7/site-packages/seaborn/distributions.py:2551: FutureWarning: `distplot` is a deprecated function and will be removed in a future version. Please adapt your code to use either `displot` (a figure-level function with similar flexibility) or `histplot` (an axes-level function for histograms).\n",
      "  warnings.warn(msg, FutureWarning)\n",
      "/Users/livieris/opt/anaconda3/envs/tensorflow/lib/python3.7/site-packages/seaborn/distributions.py:2551: FutureWarning: `distplot` is a deprecated function and will be removed in a future version. Please adapt your code to use either `displot` (a figure-level function with similar flexibility) or `histplot` (an axes-level function for histograms).\n",
      "  warnings.warn(msg, FutureWarning)\n"
     ]
    },
    {
     "data": {
      "image/png": "[encoded data removed]",
      "text/plain": [
       "<Figure size 1080x288 with 1 Axes>"
      ]
     },
     "metadata": {
      "needs_background": "light"
     },
     "output_type": "display_data"
    }
   ],
   "source": [
    "fig, ax = plt.subplots( figsize=(15, 4) )\n",
    "\n",
    "sns.distplot(Train_Loss['Loss'], bins='auto', kde=True, ax=ax)\n",
    "sns.distplot(Test_Loss['Loss'],  bins='auto', kde=True, ax=ax)\n",
    "\n",
    "plt.legend(['Training', 'Testing'], frameon = False, fontsize = 14)\n",
    "plt.xticks( size = 14 )\n",
    "plt.yticks( size = 14 )\n",
    "plt.xlabel(\"MSE loss\", size = 14)\n",
    "plt.ylabel(\"No of samples\", size = 14)\n",
    "plt.show()"
   ]
  },
  {
   "cell_type": "markdown",
   "metadata": {},
   "source": [
    "### Plot Train/Valid loss"
   ]
  },
  {
   "cell_type": "code",
   "execution_count": 79,
   "metadata": {},
   "outputs": [
    {
     "name": "stdout",
     "output_type": "stream",
     "text": [
      "Number of anomaly samples:  0/2760\n"
     ]
    },
    {
     "data": {
      "image/png": "[encoded data removed]",
      "text/plain": [
       "<Figure size 1080x288 with 1 Axes>"
      ]
     },
     "metadata": {
      "needs_background": "light"
     },
     "output_type": "display_data"
    }
   ],
   "source": [
    "# Detect all the samples which are anomalies\n",
    "#\n",
    "anomalies = Test_Loss['Loss'] > CRITICAL\n",
    "#\n",
    "Test_Loss['anomaly'] = np.where(anomalies, 'ANOMALY', 'NORMAL')\n",
    "\n",
    "\n",
    "print(\"Number of anomaly samples:  {}/{}\".format(np.sum(anomalies), len(anomalies)) )\n",
    "\n",
    "\n",
    "# Plot test-loss\n",
    "#\n",
    "ax = Test_Loss.plot( figsize = (15, 4) )\n",
    "\n",
    "\n",
    "# Plot thresholds\n",
    "#\n",
    "plt.axhline(y=WARNING,  linewidth=1, color='orange', linestyle='--')\n",
    "plt.axhline(y=CRITICAL, linewidth=1, color='red',    linestyle='--')\n",
    "\n",
    "\n",
    "plt.xticks(size = 14)\n",
    "plt.yticks(size = 14)\n",
    "plt.xlabel(\"Date\", size = 14)\n",
    "plt.ylabel(\"Loss\", size = 14);\n",
    "plt.legend(['Test loss', '$T_{WARNING}$', '$T_{CRITICAL}$'], frameon = False, fontsize = 14);\n",
    "plt.show();"
   ]
  },
  {
   "cell_type": "markdown",
   "metadata": {},
   "source": [
    "# Save"
   ]
  },
  {
   "cell_type": "code",
   "execution_count": 111,
   "metadata": {},
   "outputs": [],
   "source": [
    "# Save scaler\n",
    "#\n",
    "pickle.dump(scaler, open('model_repository/AnomalyDetectionModel/Scaler.pkl', 'wb'))"
   ]
  },
  {
   "cell_type": "code",
   "execution_count": 107,
   "metadata": {},
   "outputs": [
    {
     "name": "stderr",
     "output_type": "stream",
     "text": [
      "2022-07-07 14:02:35.387626: W tensorflow/python/util/util.cc:368] Sets are not currently considered sequences, but this may change in the future, so consider avoiding using them.\n",
      "Function `_wrapped_model` contains input name(s) InputLayer with unsupported characters which will be renamed to inputlayer in the SavedModel.\n",
      "Function `_wrapped_model` contains input name(s) InputLayer with unsupported characters which will be renamed to inputlayer in the SavedModel.\n"
     ]
    },
    {
     "name": "stdout",
     "output_type": "stream",
     "text": [
      "INFO:tensorflow:Assets written to: model_repository/AnomalyDetectionModel/1/model.savedmodel/assets\n"
     ]
    },
    {
     "name": "stderr",
     "output_type": "stream",
     "text": [
      "Assets written to: model_repository/AnomalyDetectionModel/1/model.savedmodel/assets\n",
      "Assets written to: model_repository/AnomalyDetectionModel/1/model.savedmodel/assets\n"
     ]
    },
    {
     "name": "stdout",
     "output_type": "stream",
     "text": [
      "[INFO] Model saved\n"
     ]
    }
   ],
   "source": [
    "# Save model\n",
    "#\n",
    "model.save( 'model_repository/AnomalyDetectionModel/1/model.savedmodel')\n",
    "print('[INFO] Model saved')"
   ]
  },
  {
   "cell_type": "code",
   "execution_count": 108,
   "metadata": {},
   "outputs": [
    {
     "name": "stdout",
     "output_type": "stream",
     "text": [
      "[INFO] Thresholds saved\n"
     ]
    }
   ],
   "source": [
    "# Save thresholds\n",
    "#\n",
    "import json\n",
    "\n",
    "Thresholds = {'WARNING':  WARNING,\n",
    "              'CRITICAL': CRITICAL}\n",
    "\n",
    "with open('model_repository/AnomalyDetectionModel/Thresholds.json', 'w') as fp:\n",
    "    json.dump(Thresholds, fp)\n",
    "print('[INFO] Thresholds saved')"
   ]
  },
  {
   "cell_type": "code",
   "execution_count": null,
   "metadata": {},
   "outputs": [],
   "source": []
  }
 ],
 "metadata": {
  "kernelspec": {
   "display_name": "Python [conda env:tensorflow]",
   "language": "python",
   "name": "conda-env-tensorflow-py"
  },
  "language_info": {
   "codemirror_mode": {
    "name": "ipython",
    "version": 3
   },
   "file_extension": ".py",
   "mimetype": "text/x-python",
   "name": "python",
   "nbconvert_exporter": "python",
   "pygments_lexer": "ipython3",
   "version": "3.7.12"
  },
  "toc": {
   "base_numbering": 1,
   "nav_menu": {},
   "number_sections": true,
   "sideBar": true,
   "skip_h1_title": false,
   "title_cell": "Table of Contents",
   "title_sidebar": "Contents",
   "toc_cell": false,
   "toc_position": {
    "height": "calc(100% - 180px)",
    "left": "10px",
    "top": "150px",
    "width": "254.6666717529297px"
   },
   "toc_section_display": true,
   "toc_window_display": true
  }
 },
 "nbformat": 4,
 "nbformat_minor": 4
}
