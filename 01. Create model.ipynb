{
 "cells": [
  {
   "cell_type": "markdown",
   "metadata": {},
   "source": [
    "# Libraries"
   ]
  },
  {
   "cell_type": "code",
   "execution_count": 1,
   "metadata": {},
   "outputs": [],
   "source": [
    "# =-=-=-=-=-=-=-=-=-=-=-=-=-=-=-=-=-=-=-=-=-=-=-=-=-=-=-=-=-=\n",
    "# Basic libraries\n",
    "#\n",
    "import time\n",
    "import os\n",
    "import pickle\n",
    "import json\n",
    "from   tqdm   import tqdm\n",
    "import pandas as pd\n",
    "import numpy  as np\n",
    "import time\n",
    "\n",
    "\n",
    "# =-=-=-=-=-=-=-=-=-=-=-=-=-=-=-=-=-=-=-=-=-=-=-=-=-=-=-=-=-=-=-=-=-=-=-=-=-=\n",
    "# Visualization library\n",
    "#\n",
    "import matplotlib.pyplot as plt\n",
    "import seaborn           as sns\n",
    "\n",
    "\n",
    "# =-=-=-=-=-=-=-=-=-=-=-=-=-=-=-=-=-=-=-=-=-=-=-=-=-=-=-=-=-=-=-=-=-=-=-=-=-=\n",
    "# Sklearn library\n",
    "#\n",
    "from sklearn.preprocessing import StandardScaler\n",
    "\n",
    "\n",
    "# =-=-=-=-=-=-=-=-=-=-=-=-=-=-=-=-=-=-=-=-=-=-=-=-=-=-=-=-=-=-=\n",
    "# Tensorflow library\n",
    "#\n",
    "import tensorflow                 as tf\n",
    "from   tensorflow.keras.callbacks import *\n",
    "from   tensorflow.keras.metrics   import *\n",
    "from   tensorflow.keras.layers    import *\n",
    "from   tensorflow.keras           import Sequential\n",
    "from   tensorflow.keras           import optimizers\n",
    "\n",
    "\n",
    "\n",
    "# =-=-=-=-=-=-=-=-=-=-=-=-=-=-=-=-=-=-=-=-=-=-=-=-=-=-=-=-=-=\n",
    "# User libraries\n",
    "#\n",
    "from utils.Logger        import *\n",
    "from utils.InfuxDBClient import *"
   ]
  },
  {
   "cell_type": "markdown",
   "metadata": {},
   "source": [
    "# Parameters"
   ]
  },
  {
   "cell_type": "code",
   "execution_count": 2,
   "metadata": {},
   "outputs": [],
   "source": [
    "# Selected sensor\n",
    "#\n",
    "Sensor = '01cc0529-79bb-48cc-a052-4fde9372abeb'\n",
    "\n",
    "# Set look-back (Lag)\n",
    "#\n",
    "Lag = 32\n",
    "\n",
    "# Set 'verbose'\n",
    "#\n",
    "VERBOSE = True\n",
    "\n",
    "# Initiate logger\n",
    "#\n",
    "if VERBOSE:\n",
    "    logger = init_logger( log_file = 'logs.log' )  "
   ]
  },
  {
   "cell_type": "markdown",
   "metadata": {},
   "source": [
    "# Data"
   ]
  },
  {
   "cell_type": "markdown",
   "metadata": {},
   "source": [
    "## Download data from InfuxDB"
   ]
  },
  {
   "cell_type": "markdown",
   "metadata": {},
   "source": [
    "## Setup InfuxDB Client"
   ]
  },
  {
   "cell_type": "code",
   "execution_count": 3,
   "metadata": {},
   "outputs": [],
   "source": [
    "influx_measurement = \"beat_box_rms\"\n",
    "\n",
    "\n",
    "# Change to influx live data \n",
    "#\n",
    "influx = InfluxDataframeDBClient(host     = '192.168.2.198', \n",
    "                                 username = 'admin',\n",
    "                                 pwd      = 'CoreInn02019', \n",
    "                                 port     =  8086, \n",
    "                                 db       = 'corebeat_rms')\n",
    "influx.initClient()"
   ]
  },
  {
   "cell_type": "markdown",
   "metadata": {},
   "source": [
    "### Download data"
   ]
  },
  {
   "cell_type": "code",
   "execution_count": 4,
   "metadata": {},
   "outputs": [
    {
     "name": "stderr",
     "output_type": "stream",
     "text": [
      "[INFO] Download data from CoreBEAT database\n",
      "[INFO] Time: 1.46s\n",
      "[INFO] Data cleaning - Data processing\n",
      "[INFO] Number of features: 4\n"
     ]
    },
    {
     "data": {
      "text/html": [
       "<div>\n",
       "<style scoped>\n",
       "    .dataframe tbody tr th:only-of-type {\n",
       "        vertical-align: middle;\n",
       "    }\n",
       "\n",
       "    .dataframe tbody tr th {\n",
       "        vertical-align: top;\n",
       "    }\n",
       "\n",
       "    .dataframe thead th {\n",
       "        text-align: right;\n",
       "    }\n",
       "</style>\n",
       "<table border=\"1\" class=\"dataframe\">\n",
       "  <thead>\n",
       "    <tr style=\"text-align: right;\">\n",
       "      <th></th>\n",
       "      <th>acc_x</th>\n",
       "      <th>acc_y</th>\n",
       "      <th>acc_z</th>\n",
       "      <th>temperature</th>\n",
       "    </tr>\n",
       "  </thead>\n",
       "  <tbody>\n",
       "    <tr>\n",
       "      <th>2022-06-18 02:01:19+00:00</th>\n",
       "      <td>0.238592</td>\n",
       "      <td>0.186857</td>\n",
       "      <td>0.211078</td>\n",
       "      <td>31.8</td>\n",
       "    </tr>\n",
       "    <tr>\n",
       "      <th>2022-06-18 02:02:19+00:00</th>\n",
       "      <td>0.186287</td>\n",
       "      <td>0.129006</td>\n",
       "      <td>0.146181</td>\n",
       "      <td>31.8</td>\n",
       "    </tr>\n",
       "    <tr>\n",
       "      <th>2022-06-18 02:03:18+00:00</th>\n",
       "      <td>0.187383</td>\n",
       "      <td>0.137613</td>\n",
       "      <td>0.151158</td>\n",
       "      <td>31.9</td>\n",
       "    </tr>\n",
       "  </tbody>\n",
       "</table>\n",
       "</div>"
      ],
      "text/plain": [
       "                              acc_x     acc_y     acc_z  temperature\n",
       "2022-06-18 02:01:19+00:00  0.238592  0.186857  0.211078         31.8\n",
       "2022-06-18 02:02:19+00:00  0.186287  0.129006  0.146181         31.8\n",
       "2022-06-18 02:03:18+00:00  0.187383  0.137613  0.151158         31.9"
      ]
     },
     "execution_count": 4,
     "metadata": {},
     "output_type": "execute_result"
    }
   ],
   "source": [
    "# Start timer\n",
    "#\n",
    "start_timer = time.time()\n",
    "\n",
    "# TABLE: corebeat_rms\n",
    "#\n",
    "df = influx.client.query(f'SELECT * from {influx_measurement}') \n",
    "df = df[ influx_measurement ]\n",
    "#\n",
    "if VERBOSE: \n",
    "    logger.info('[INFO] Download data from CoreBEAT database')\n",
    "    logger.info('[INFO] Time: {:.2f}s'.format(time.time() - start_timer))\n",
    "\n",
    "\n",
    "\n",
    "# Preprocess data\n",
    "#\n",
    "df = df[ df['beat_box_id'] == Sensor]\n",
    "\n",
    "# \n",
    "del df['beat_box_id']\n",
    "\n",
    "\n",
    "if VERBOSE: \n",
    "    logger.info('[INFO] Data cleaning - Data processing')\n",
    "    logger.info('[INFO] Number of features: {}'.format(df.shape[1]))\n",
    "    \n",
    "df.head( 3 )"
   ]
  },
  {
   "cell_type": "markdown",
   "metadata": {},
   "source": [
    "# Training/Validation/Testing datasets"
   ]
  },
  {
   "cell_type": "markdown",
   "metadata": {},
   "source": [
    "## Split data"
   ]
  },
  {
   "cell_type": "code",
   "execution_count": 5,
   "metadata": {},
   "outputs": [],
   "source": [
    "train_idx = int( df.shape[0] * 0.8 )\n",
    "valid_idx = int( df.shape[0] * 0.9 )\n",
    "\n",
    "\n",
    "df_train = df[ :train_idx ].copy()\n",
    "df_valid = df[ train_idx:valid_idx ].copy()\n",
    "df_test  = df[ valid_idx: ]"
   ]
  },
  {
   "cell_type": "markdown",
   "metadata": {},
   "source": [
    "## Fix lag"
   ]
  },
  {
   "cell_type": "code",
   "execution_count": 6,
   "metadata": {},
   "outputs": [],
   "source": [
    "df_valid = pd.concat([df_train.iloc[-Lag:], df_valid])\n",
    "df_test  = pd.concat([df_valid.iloc[-Lag:], df_test])"
   ]
  },
  {
   "cell_type": "markdown",
   "metadata": {},
   "source": [
    "## Scaling data"
   ]
  },
  {
   "cell_type": "code",
   "execution_count": 7,
   "metadata": {},
   "outputs": [],
   "source": [
    "# Set scaler\n",
    "#\n",
    "scaler = StandardScaler()\n",
    "\n",
    "df_train = pd.DataFrame(data    = scaler.fit_transform(df_train),\n",
    "                        columns = df_train.columns, \n",
    "                        index   = df_train.index)\n",
    "\n",
    "df_valid = pd.DataFrame(data    = scaler.transform(df_valid),\n",
    "                        columns = df_valid.columns, \n",
    "                        index   = df_valid.index)\n",
    "\n",
    "\n",
    "df_test   = pd.DataFrame(data    = scaler.transform(df_test),\n",
    "                         columns = df_test.columns, \n",
    "                         index   = df_test.index)"
   ]
  },
  {
   "cell_type": "markdown",
   "metadata": {},
   "source": [
    "# Creating training/validation/testing instances"
   ]
  },
  {
   "cell_type": "code",
   "execution_count": 8,
   "metadata": {},
   "outputs": [],
   "source": [
    "def create_dataset(df = None, Lag = 1, overlap = 1):\n",
    "    \n",
    "    X, Dates = [], []\n",
    "    for i in tqdm( range( df.shape[0] - Lag ) ):\n",
    "        X     += [ df[i:i+Lag].to_numpy() ]\n",
    "        Dates += [ df.index[i+Lag]        ]\n",
    "    \n",
    "    return ( np.array(X), np.array(Dates) )"
   ]
  },
  {
   "cell_type": "code",
   "execution_count": 9,
   "metadata": {},
   "outputs": [
    {
     "name": "stderr",
     "output_type": "stream",
     "text": [
      "100%|█████████████████████████████████████████████████████████████████████████████████████████████████████████████████████████████████████████████████████████████████████████████████| 22068/22068 [00:01<00:00, 21745.22it/s]\n",
      "[INFO] Training instances created\n",
      "100%|███████████████████████████████████████████████████████████████████████████████████████████████████████████████████████████████████████████████████████████████████████████████████| 2763/2763 [00:00<00:00, 22138.71it/s]\n",
      "[INFO] Validation instances created\n",
      "100%|███████████████████████████████████████████████████████████████████████████████████████████████████████████████████████████████████████████████████████████████████████████████████| 2763/2763 [00:00<00:00, 22228.65it/s]\n",
      "[INFO] Testing instances created\n"
     ]
    }
   ],
   "source": [
    "# Training instances\n",
    "#\n",
    "trainX, trainDates = create_dataset(df = df_train, Lag = Lag)\n",
    "if VERBOSE: \n",
    "    logger.info('[INFO] Training instances created')\n",
    "\n",
    "    \n",
    "# Validation instances\n",
    "#\n",
    "validX, validDates = create_dataset(df = df_valid, Lag = Lag)\n",
    "if VERBOSE: \n",
    "    logger.info('[INFO] Validation instances created')\n",
    " \n",
    "\n",
    "# Testing instances\n",
    "#\n",
    "testX, testDates   = create_dataset(df = df_test, Lag = Lag)\n",
    "if VERBOSE: \n",
    "    logger.info('[INFO] Testing instances created')"
   ]
  },
  {
   "cell_type": "markdown",
   "metadata": {},
   "source": [
    "# Anomaly detection model"
   ]
  },
  {
   "cell_type": "markdown",
   "metadata": {},
   "source": [
    "## Setup CUDA"
   ]
  },
  {
   "cell_type": "code",
   "execution_count": 10,
   "metadata": {},
   "outputs": [],
   "source": [
    "gpus = tf.config.list_physical_devices('GPU')\n",
    "\n",
    "if gpus:\n",
    "    try:\n",
    "        # Currently, memory growth needs to be the same across GPUs\n",
    "        for gpu in gpus:\n",
    "            tf.config.experimental.set_memory_growth(gpu, True)\n",
    "            \n",
    "        logical_gpus = tf.config.list_logical_devices('GPU')\n",
    "        print(len(gpus), \"Physical GPUs,\", len(logical_gpus), \"Logical GPUs\")\n",
    "        \n",
    "    except RuntimeError as e:\n",
    "        \n",
    "        # Memory growth must be set before GPUs have been initialized\n",
    "        print(e)"
   ]
  },
  {
   "cell_type": "markdown",
   "metadata": {},
   "source": [
    "## Setup model"
   ]
  },
  {
   "cell_type": "code",
   "execution_count": 11,
   "metadata": {},
   "outputs": [
    {
     "name": "stderr",
     "output_type": "stream",
     "text": [
      "2022-07-07 14:48:12.203093: I tensorflow/core/platform/cpu_feature_guard.cc:151] This TensorFlow binary is optimized with oneAPI Deep Neural Network Library (oneDNN) to use the following CPU instructions in performance-critical operations:  SSE4.1 SSE4.2 AVX AVX2 FMA\n",
      "To enable them in other operations, rebuild TensorFlow with the appropriate compiler flags.\n"
     ]
    }
   ],
   "source": [
    "# Define metrics\n",
    "#\n",
    "metrics = [\n",
    "            RootMeanSquaredError(name = 'RMSE', dtype = None),\n",
    "            MeanAbsoluteError(name='MAE', dtype=None)\n",
    "          ]"
   ]
  },
  {
   "cell_type": "code",
   "execution_count": 12,
   "metadata": {},
   "outputs": [
    {
     "name": "stderr",
     "output_type": "stream",
     "text": [
      "[INFO] Anomaly detection model was setup\n"
     ]
    }
   ],
   "source": [
    "   \n",
    "model = Sequential(\n",
    "    [\n",
    "        Input(shape = (trainX.shape[1], trainX.shape[2]), name = 'InputLayer'),\n",
    "        #\n",
    "        # Since the problem is semi-supervised - Gaussian noise is applied\n",
    "        GaussianNoise( stddev = 0.05 ),\n",
    "        \n",
    "        # =-=-=-=-=-=-=-=-=-=-=-=-=-=-=-=-=-=-=-=-=-=-=-=-=-=-=-=-=-=-=-=-=-=-=-=-=-=-=\n",
    "        # Encoder\n",
    "        #\n",
    "        Conv1D(filters     = 32, \n",
    "               kernel_size = 7, \n",
    "               padding     = \"same\", \n",
    "               strides     = 1, \n",
    "               activation  = \"elu\"),\n",
    "        #\n",
    "        BatchNormalization(),\n",
    "        Dropout(0.5),\n",
    "        #\n",
    "        MaxPooling1D(pool_size = 2, \n",
    "                     padding   = 'same'),\n",
    "        #\n",
    "        Conv1D(filters     = 16, \n",
    "               kernel_size = 3, \n",
    "               padding     = \"same\", \n",
    "               strides     = 1, \n",
    "               activation  = \"elu\"),\n",
    "        #\n",
    "        BatchNormalization(),\n",
    "        Dropout(0.2),\n",
    "        #        \n",
    "        MaxPooling1D(2, padding='same'),\n",
    "        \n",
    "        \n",
    "        # =-=-=-=-=-=-=-=-=-=-=-=-=-=-=-=-=-=-=-=-=-=-=-=-=-=-=-=-=-=-=-=-=-=-=-=-=-=-=\n",
    "        # Decoder\n",
    "        #\n",
    "        Conv1D(filters     = 16, \n",
    "               kernel_size = 3, \n",
    "               padding     = \"same\", \n",
    "               strides     = 1, \n",
    "               activation  = \"elu\"),\n",
    "        #\n",
    "        BatchNormalization(),\n",
    "        #\n",
    "        UpSampling1D(size = 2),\n",
    "        #\n",
    "        Conv1D(filters     = 32, \n",
    "               kernel_size = 7, \n",
    "               padding     = \"same\", \n",
    "               strides     = 1, \n",
    "               activation  = \"elu\"),\n",
    "        #\n",
    "        BatchNormalization(),\n",
    "        #\n",
    "        UpSampling1D(size = 2),\n",
    "        #\n",
    "        Conv1D(filters     = trainX.shape[2], \n",
    "               kernel_size = 3, \n",
    "               padding     = \"same\", \n",
    "               strides     = 1, \n",
    "               activation  = \"linear\",\n",
    "               name        = 'OutputLayer' ),        \n",
    "    ]\n",
    ")\n",
    "\n",
    "\n",
    "\n",
    "# Set loss and optimizer\n",
    "#\n",
    "model.compile(optimizer = optimizers.Adam(learning_rate = 1e-4),\n",
    "              loss      = 'mse',\n",
    "              metrics   = metrics)\n",
    "\n",
    "if VERBOSE:\n",
    "    logger.info('[INFO] Anomaly detection model was setup')"
   ]
  },
  {
   "cell_type": "code",
   "execution_count": 13,
   "metadata": {},
   "outputs": [
    {
     "name": "stdout",
     "output_type": "stream",
     "text": [
      "[INFO] Input layer:   InputLayer\n",
      "[INFO] Output layer:  OutputLayer/BiasAdd:0\n",
      "Model: \"sequential\"\n",
      "_________________________________________________________________\n",
      " Layer (type)                Output Shape              Param #   \n",
      "=================================================================\n",
      " gaussian_noise (GaussianNoi  (None, 32, 4)            0         \n",
      " se)                                                             \n",
      "                                                                 \n",
      " conv1d (Conv1D)             (None, 32, 32)            928       \n",
      "                                                                 \n",
      " batch_normalization (BatchN  (None, 32, 32)           128       \n",
      " ormalization)                                                   \n",
      "                                                                 \n",
      " dropout (Dropout)           (None, 32, 32)            0         \n",
      "                                                                 \n",
      " max_pooling1d (MaxPooling1D  (None, 16, 32)           0         \n",
      " )                                                               \n",
      "                                                                 \n",
      " conv1d_1 (Conv1D)           (None, 16, 16)            1552      \n",
      "                                                                 \n",
      " batch_normalization_1 (Batc  (None, 16, 16)           64        \n",
      " hNormalization)                                                 \n",
      "                                                                 \n",
      " dropout_1 (Dropout)         (None, 16, 16)            0         \n",
      "                                                                 \n",
      " max_pooling1d_1 (MaxPooling  (None, 8, 16)            0         \n",
      " 1D)                                                             \n",
      "                                                                 \n",
      " conv1d_2 (Conv1D)           (None, 8, 16)             784       \n",
      "                                                                 \n",
      " batch_normalization_2 (Batc  (None, 8, 16)            64        \n",
      " hNormalization)                                                 \n",
      "                                                                 \n",
      " up_sampling1d (UpSampling1D  (None, 16, 16)           0         \n",
      " )                                                               \n",
      "                                                                 \n",
      " conv1d_3 (Conv1D)           (None, 16, 32)            3616      \n",
      "                                                                 \n",
      " batch_normalization_3 (Batc  (None, 16, 32)           128       \n",
      " hNormalization)                                                 \n",
      "                                                                 \n",
      " up_sampling1d_1 (UpSampling  (None, 32, 32)           0         \n",
      " 1D)                                                             \n",
      "                                                                 \n",
      " OutputLayer (Conv1D)        (None, 32, 4)             388       \n",
      "                                                                 \n",
      "=================================================================\n",
      "Total params: 7,652\n",
      "Trainable params: 7,460\n",
      "Non-trainable params: 192\n",
      "_________________________________________________________________\n"
     ]
    }
   ],
   "source": [
    "print('[INFO] Input layer:  ', model.input.name)\n",
    "print('[INFO] Output layer: ', model.output.name)\n",
    "\n",
    "# Model summary\n",
    "#\n",
    "model.summary()"
   ]
  },
  {
   "cell_type": "markdown",
   "metadata": {},
   "source": [
    "## Setup training parameters"
   ]
  },
  {
   "cell_type": "code",
   "execution_count": 14,
   "metadata": {},
   "outputs": [
    {
     "name": "stderr",
     "output_type": "stream",
     "text": [
      "[INFO] Training process was setup\n"
     ]
    }
   ],
   "source": [
    "# Set parameters\n",
    "#\n",
    "parameters = {'epochs'           : 1000,\n",
    "              'batch_size'       : 64,\n",
    "              'verbose'          : True}\n",
    "\n",
    "\n",
    "\n",
    "\n",
    "# Checkpoint\n",
    "#\n",
    "if ( not os.path.isdir('checkpoint') ):\n",
    "    os.mkdir('checkpoint')\n",
    "#\n",
    "checkpoint = ModelCheckpoint(\"checkpoint/AnomalyDetectionModel.hdf5\", \n",
    "                             save_weights_only = True,\n",
    "                             monitor           = 'val_loss', \n",
    "                             verbose           = 0, \n",
    "                             save_best_only    = True, \n",
    "                             mode              = 'min')\n",
    "\n",
    "# Earlystopping\n",
    "#\n",
    "earlystopping = EarlyStopping(monitor       = 'val_loss', \n",
    "                              mode          = 'min', \n",
    "                              verbose       = 1, \n",
    "                              patience      = 20)\n",
    "\n",
    "\n",
    "# Learning rate adjustment\n",
    "#\n",
    "lrs_scheduler  = ReduceLROnPlateau(monitor   = 'val_loss', \n",
    "                                   factor    = 0.5,\n",
    "                                   min_delta = 1.e-6,\n",
    "                                   patience  = 10)\n",
    "\n",
    "\n",
    "if VERBOSE:\n",
    "    logger.info('[INFO] Training process was setup')"
   ]
  },
  {
   "cell_type": "markdown",
   "metadata": {},
   "source": [
    "## Model training"
   ]
  },
  {
   "cell_type": "code",
   "execution_count": 15,
   "metadata": {
    "scrolled": true
   },
   "outputs": [
    {
     "name": "stdout",
     "output_type": "stream",
     "text": [
      "Epoch 1/1000\n",
      "345/345 [==============================] - 3s 5ms/step - loss: 0.9493 - RMSE: 0.9743 - MAE: 0.6910 - val_loss: 0.4095 - val_RMSE: 0.6399 - val_MAE: 0.4000 - lr: 1.0000e-04\n",
      "Epoch 2/1000\n",
      "345/345 [==============================] - 2s 5ms/step - loss: 0.4563 - RMSE: 0.6755 - MAE: 0.4623 - val_loss: 0.3647 - val_RMSE: 0.6039 - val_MAE: 0.3596 - lr: 1.0000e-04\n",
      "Epoch 3/1000\n",
      "345/345 [==============================] - 2s 5ms/step - loss: 0.3961 - RMSE: 0.6293 - MAE: 0.4206 - val_loss: 0.3443 - val_RMSE: 0.5868 - val_MAE: 0.3420 - lr: 1.0000e-04\n",
      "Epoch 4/1000\n",
      "345/345 [==============================] - 2s 5ms/step - loss: 0.3688 - RMSE: 0.6073 - MAE: 0.4023 - val_loss: 0.3282 - val_RMSE: 0.5728 - val_MAE: 0.3335 - lr: 1.0000e-04\n",
      "Epoch 5/1000\n",
      "345/345 [==============================] - 2s 5ms/step - loss: 0.3505 - RMSE: 0.5920 - MAE: 0.3900 - val_loss: 0.3174 - val_RMSE: 0.5634 - val_MAE: 0.3242 - lr: 1.0000e-04\n",
      "Epoch 6/1000\n",
      "345/345 [==============================] - 2s 5ms/step - loss: 0.3346 - RMSE: 0.5784 - MAE: 0.3801 - val_loss: 0.3044 - val_RMSE: 0.5517 - val_MAE: 0.3194 - lr: 1.0000e-04\n",
      "Epoch 7/1000\n",
      "345/345 [==============================] - 2s 5ms/step - loss: 0.3235 - RMSE: 0.5688 - MAE: 0.3729 - val_loss: 0.3002 - val_RMSE: 0.5479 - val_MAE: 0.3133 - lr: 1.0000e-04\n",
      "Epoch 8/1000\n",
      "345/345 [==============================] - 2s 5ms/step - loss: 0.3143 - RMSE: 0.5606 - MAE: 0.3668 - val_loss: 0.2894 - val_RMSE: 0.5379 - val_MAE: 0.3087 - lr: 1.0000e-04\n",
      "Epoch 9/1000\n",
      "345/345 [==============================] - 2s 5ms/step - loss: 0.3030 - RMSE: 0.5505 - MAE: 0.3597 - val_loss: 0.2812 - val_RMSE: 0.5303 - val_MAE: 0.3023 - lr: 1.0000e-04\n",
      "Epoch 10/1000\n",
      "345/345 [==============================] - 2s 6ms/step - loss: 0.2958 - RMSE: 0.5438 - MAE: 0.3570 - val_loss: 0.2728 - val_RMSE: 0.5223 - val_MAE: 0.2998 - lr: 1.0000e-04\n",
      "Epoch 11/1000\n",
      "345/345 [==============================] - 2s 5ms/step - loss: 0.2845 - RMSE: 0.5334 - MAE: 0.3509 - val_loss: 0.2601 - val_RMSE: 0.5100 - val_MAE: 0.2949 - lr: 1.0000e-04\n",
      "Epoch 12/1000\n",
      "345/345 [==============================] - 2s 5ms/step - loss: 0.2740 - RMSE: 0.5235 - MAE: 0.3469 - val_loss: 0.2497 - val_RMSE: 0.4997 - val_MAE: 0.2919 - lr: 1.0000e-04\n",
      "Epoch 13/1000\n",
      "345/345 [==============================] - 2s 6ms/step - loss: 0.2622 - RMSE: 0.5121 - MAE: 0.3426 - val_loss: 0.2394 - val_RMSE: 0.4893 - val_MAE: 0.2871 - lr: 1.0000e-04\n",
      "Epoch 14/1000\n",
      "345/345 [==============================] - 2s 5ms/step - loss: 0.2537 - RMSE: 0.5037 - MAE: 0.3386 - val_loss: 0.2250 - val_RMSE: 0.4744 - val_MAE: 0.2815 - lr: 1.0000e-04\n",
      "Epoch 15/1000\n",
      "345/345 [==============================] - 2s 6ms/step - loss: 0.2412 - RMSE: 0.4911 - MAE: 0.3318 - val_loss: 0.2174 - val_RMSE: 0.4663 - val_MAE: 0.2807 - lr: 1.0000e-04\n",
      "Epoch 16/1000\n",
      "345/345 [==============================] - 2s 6ms/step - loss: 0.2325 - RMSE: 0.4822 - MAE: 0.3269 - val_loss: 0.2052 - val_RMSE: 0.4530 - val_MAE: 0.2730 - lr: 1.0000e-04\n",
      "Epoch 17/1000\n",
      "345/345 [==============================] - 2s 5ms/step - loss: 0.2250 - RMSE: 0.4743 - MAE: 0.3222 - val_loss: 0.1970 - val_RMSE: 0.4438 - val_MAE: 0.2674 - lr: 1.0000e-04\n",
      "Epoch 18/1000\n",
      "345/345 [==============================] - 2s 6ms/step - loss: 0.2181 - RMSE: 0.4670 - MAE: 0.3173 - val_loss: 0.1927 - val_RMSE: 0.4390 - val_MAE: 0.2656 - lr: 1.0000e-04\n",
      "Epoch 19/1000\n",
      "345/345 [==============================] - 2s 5ms/step - loss: 0.2121 - RMSE: 0.4606 - MAE: 0.3129 - val_loss: 0.1883 - val_RMSE: 0.4340 - val_MAE: 0.2656 - lr: 1.0000e-04\n",
      "Epoch 20/1000\n",
      "345/345 [==============================] - 2s 5ms/step - loss: 0.2077 - RMSE: 0.4557 - MAE: 0.3107 - val_loss: 0.1823 - val_RMSE: 0.4270 - val_MAE: 0.2604 - lr: 1.0000e-04\n",
      "Epoch 21/1000\n",
      "345/345 [==============================] - 2s 5ms/step - loss: 0.2021 - RMSE: 0.4495 - MAE: 0.3056 - val_loss: 0.1789 - val_RMSE: 0.4230 - val_MAE: 0.2595 - lr: 1.0000e-04\n",
      "Epoch 22/1000\n",
      "345/345 [==============================] - 2s 6ms/step - loss: 0.2000 - RMSE: 0.4472 - MAE: 0.3051 - val_loss: 0.1707 - val_RMSE: 0.4132 - val_MAE: 0.2541 - lr: 1.0000e-04\n",
      "Epoch 23/1000\n",
      "345/345 [==============================] - 2s 5ms/step - loss: 0.1955 - RMSE: 0.4421 - MAE: 0.3014 - val_loss: 0.1651 - val_RMSE: 0.4064 - val_MAE: 0.2505 - lr: 1.0000e-04\n",
      "Epoch 24/1000\n",
      "345/345 [==============================] - 2s 5ms/step - loss: 0.1925 - RMSE: 0.4387 - MAE: 0.2996 - val_loss: 0.1643 - val_RMSE: 0.4053 - val_MAE: 0.2515 - lr: 1.0000e-04\n",
      "Epoch 25/1000\n",
      "345/345 [==============================] - 2s 6ms/step - loss: 0.1878 - RMSE: 0.4333 - MAE: 0.2966 - val_loss: 0.1561 - val_RMSE: 0.3951 - val_MAE: 0.2476 - lr: 1.0000e-04\n",
      "Epoch 26/1000\n",
      "345/345 [==============================] - 2s 5ms/step - loss: 0.1850 - RMSE: 0.4302 - MAE: 0.2943 - val_loss: 0.1524 - val_RMSE: 0.3904 - val_MAE: 0.2441 - lr: 1.0000e-04\n",
      "Epoch 27/1000\n",
      "345/345 [==============================] - 2s 5ms/step - loss: 0.1838 - RMSE: 0.4287 - MAE: 0.2925 - val_loss: 0.1511 - val_RMSE: 0.3888 - val_MAE: 0.2422 - lr: 1.0000e-04\n",
      "Epoch 28/1000\n",
      "345/345 [==============================] - 2s 5ms/step - loss: 0.1808 - RMSE: 0.4252 - MAE: 0.2915 - val_loss: 0.1547 - val_RMSE: 0.3933 - val_MAE: 0.2458 - lr: 1.0000e-04\n",
      "Epoch 29/1000\n",
      "345/345 [==============================] - 2s 5ms/step - loss: 0.1788 - RMSE: 0.4228 - MAE: 0.2894 - val_loss: 0.1451 - val_RMSE: 0.3809 - val_MAE: 0.2385 - lr: 1.0000e-04\n",
      "Epoch 30/1000\n",
      "345/345 [==============================] - 2s 5ms/step - loss: 0.1757 - RMSE: 0.4192 - MAE: 0.2870 - val_loss: 0.1484 - val_RMSE: 0.3852 - val_MAE: 0.2397 - lr: 1.0000e-04\n",
      "Epoch 31/1000\n",
      "345/345 [==============================] - 2s 5ms/step - loss: 0.1749 - RMSE: 0.4182 - MAE: 0.2865 - val_loss: 0.1459 - val_RMSE: 0.3820 - val_MAE: 0.2374 - lr: 1.0000e-04\n",
      "Epoch 32/1000\n",
      "345/345 [==============================] - 2s 6ms/step - loss: 0.1724 - RMSE: 0.4152 - MAE: 0.2842 - val_loss: 0.1371 - val_RMSE: 0.3703 - val_MAE: 0.2313 - lr: 1.0000e-04\n",
      "Epoch 33/1000\n",
      "345/345 [==============================] - 2s 5ms/step - loss: 0.1712 - RMSE: 0.4138 - MAE: 0.2831 - val_loss: 0.1427 - val_RMSE: 0.3777 - val_MAE: 0.2367 - lr: 1.0000e-04\n",
      "Epoch 34/1000\n",
      "345/345 [==============================] - 2s 5ms/step - loss: 0.1704 - RMSE: 0.4128 - MAE: 0.2827 - val_loss: 0.1393 - val_RMSE: 0.3732 - val_MAE: 0.2347 - lr: 1.0000e-04\n",
      "Epoch 35/1000\n",
      "345/345 [==============================] - 2s 5ms/step - loss: 0.1681 - RMSE: 0.4100 - MAE: 0.2805 - val_loss: 0.1365 - val_RMSE: 0.3695 - val_MAE: 0.2324 - lr: 1.0000e-04\n",
      "Epoch 36/1000\n",
      "345/345 [==============================] - 2s 5ms/step - loss: 0.1671 - RMSE: 0.4088 - MAE: 0.2798 - val_loss: 0.1435 - val_RMSE: 0.3788 - val_MAE: 0.2361 - lr: 1.0000e-04\n",
      "Epoch 37/1000\n",
      "345/345 [==============================] - 2s 5ms/step - loss: 0.1643 - RMSE: 0.4053 - MAE: 0.2777 - val_loss: 0.1421 - val_RMSE: 0.3769 - val_MAE: 0.2364 - lr: 1.0000e-04\n",
      "Epoch 38/1000\n",
      "345/345 [==============================] - 2s 5ms/step - loss: 0.1642 - RMSE: 0.4052 - MAE: 0.2771 - val_loss: 0.1418 - val_RMSE: 0.3766 - val_MAE: 0.2347 - lr: 1.0000e-04\n",
      "Epoch 39/1000\n",
      "345/345 [==============================] - 2s 5ms/step - loss: 0.1645 - RMSE: 0.4056 - MAE: 0.2775 - val_loss: 0.1343 - val_RMSE: 0.3665 - val_MAE: 0.2291 - lr: 1.0000e-04\n",
      "Epoch 40/1000\n",
      "345/345 [==============================] - 2s 5ms/step - loss: 0.1630 - RMSE: 0.4037 - MAE: 0.2762 - val_loss: 0.1285 - val_RMSE: 0.3585 - val_MAE: 0.2246 - lr: 1.0000e-04\n",
      "Epoch 41/1000\n",
      "345/345 [==============================] - 2s 5ms/step - loss: 0.1622 - RMSE: 0.4027 - MAE: 0.2761 - val_loss: 0.1310 - val_RMSE: 0.3619 - val_MAE: 0.2276 - lr: 1.0000e-04\n",
      "Epoch 42/1000\n",
      "345/345 [==============================] - 2s 5ms/step - loss: 0.1611 - RMSE: 0.4014 - MAE: 0.2747 - val_loss: 0.1370 - val_RMSE: 0.3701 - val_MAE: 0.2301 - lr: 1.0000e-04\n",
      "Epoch 43/1000\n",
      "345/345 [==============================] - 2s 5ms/step - loss: 0.1607 - RMSE: 0.4009 - MAE: 0.2738 - val_loss: 0.1332 - val_RMSE: 0.3650 - val_MAE: 0.2305 - lr: 1.0000e-04\n",
      "Epoch 44/1000\n",
      "345/345 [==============================] - 2s 5ms/step - loss: 0.1588 - RMSE: 0.3986 - MAE: 0.2722 - val_loss: 0.1315 - val_RMSE: 0.3626 - val_MAE: 0.2260 - lr: 1.0000e-04\n",
      "Epoch 45/1000\n"
     ]
    },
    {
     "name": "stdout",
     "output_type": "stream",
     "text": [
      "345/345 [==============================] - 2s 5ms/step - loss: 0.1577 - RMSE: 0.3971 - MAE: 0.2716 - val_loss: 0.1271 - val_RMSE: 0.3566 - val_MAE: 0.2213 - lr: 1.0000e-04\n",
      "Epoch 46/1000\n",
      "345/345 [==============================] - 2s 5ms/step - loss: 0.1572 - RMSE: 0.3965 - MAE: 0.2712 - val_loss: 0.1310 - val_RMSE: 0.3620 - val_MAE: 0.2281 - lr: 1.0000e-04\n",
      "Epoch 47/1000\n",
      "345/345 [==============================] - 2s 5ms/step - loss: 0.1562 - RMSE: 0.3952 - MAE: 0.2695 - val_loss: 0.1286 - val_RMSE: 0.3586 - val_MAE: 0.2233 - lr: 1.0000e-04\n",
      "Epoch 48/1000\n",
      "345/345 [==============================] - 2s 5ms/step - loss: 0.1556 - RMSE: 0.3945 - MAE: 0.2699 - val_loss: 0.1274 - val_RMSE: 0.3569 - val_MAE: 0.2258 - lr: 1.0000e-04\n",
      "Epoch 49/1000\n",
      "345/345 [==============================] - 2s 5ms/step - loss: 0.1541 - RMSE: 0.3925 - MAE: 0.2683 - val_loss: 0.1269 - val_RMSE: 0.3563 - val_MAE: 0.2207 - lr: 1.0000e-04\n",
      "Epoch 50/1000\n",
      "345/345 [==============================] - 2s 5ms/step - loss: 0.1539 - RMSE: 0.3923 - MAE: 0.2683 - val_loss: 0.1269 - val_RMSE: 0.3562 - val_MAE: 0.2191 - lr: 1.0000e-04\n",
      "Epoch 51/1000\n",
      "345/345 [==============================] - 2s 5ms/step - loss: 0.1551 - RMSE: 0.3938 - MAE: 0.2693 - val_loss: 0.1255 - val_RMSE: 0.3542 - val_MAE: 0.2211 - lr: 1.0000e-04\n",
      "Epoch 52/1000\n",
      "345/345 [==============================] - 2s 5ms/step - loss: 0.1539 - RMSE: 0.3924 - MAE: 0.2685 - val_loss: 0.1237 - val_RMSE: 0.3518 - val_MAE: 0.2215 - lr: 1.0000e-04\n",
      "Epoch 53/1000\n",
      "345/345 [==============================] - 2s 6ms/step - loss: 0.1512 - RMSE: 0.3889 - MAE: 0.2657 - val_loss: 0.1287 - val_RMSE: 0.3587 - val_MAE: 0.2227 - lr: 1.0000e-04\n",
      "Epoch 54/1000\n",
      "345/345 [==============================] - 2s 5ms/step - loss: 0.1523 - RMSE: 0.3902 - MAE: 0.2660 - val_loss: 0.1239 - val_RMSE: 0.3521 - val_MAE: 0.2187 - lr: 1.0000e-04\n",
      "Epoch 55/1000\n",
      "345/345 [==============================] - 2s 5ms/step - loss: 0.1515 - RMSE: 0.3892 - MAE: 0.2667 - val_loss: 0.1223 - val_RMSE: 0.3497 - val_MAE: 0.2193 - lr: 1.0000e-04\n",
      "Epoch 56/1000\n",
      "345/345 [==============================] - 2s 5ms/step - loss: 0.1506 - RMSE: 0.3881 - MAE: 0.2654 - val_loss: 0.1266 - val_RMSE: 0.3558 - val_MAE: 0.2189 - lr: 1.0000e-04\n",
      "Epoch 57/1000\n",
      "345/345 [==============================] - 2s 5ms/step - loss: 0.1502 - RMSE: 0.3876 - MAE: 0.2648 - val_loss: 0.1224 - val_RMSE: 0.3498 - val_MAE: 0.2154 - lr: 1.0000e-04\n",
      "Epoch 58/1000\n",
      "345/345 [==============================] - 2s 5ms/step - loss: 0.1503 - RMSE: 0.3877 - MAE: 0.2656 - val_loss: 0.1271 - val_RMSE: 0.3566 - val_MAE: 0.2218 - lr: 1.0000e-04\n",
      "Epoch 59/1000\n",
      "345/345 [==============================] - 2s 5ms/step - loss: 0.1501 - RMSE: 0.3874 - MAE: 0.2653 - val_loss: 0.1276 - val_RMSE: 0.3573 - val_MAE: 0.2189 - lr: 1.0000e-04\n",
      "Epoch 60/1000\n",
      "345/345 [==============================] - 2s 5ms/step - loss: 0.1481 - RMSE: 0.3848 - MAE: 0.2631 - val_loss: 0.1206 - val_RMSE: 0.3473 - val_MAE: 0.2147 - lr: 1.0000e-04\n",
      "Epoch 61/1000\n",
      "345/345 [==============================] - 2s 5ms/step - loss: 0.1489 - RMSE: 0.3859 - MAE: 0.2639 - val_loss: 0.1220 - val_RMSE: 0.3493 - val_MAE: 0.2161 - lr: 1.0000e-04\n",
      "Epoch 62/1000\n",
      "345/345 [==============================] - 2s 5ms/step - loss: 0.1482 - RMSE: 0.3850 - MAE: 0.2633 - val_loss: 0.1226 - val_RMSE: 0.3501 - val_MAE: 0.2167 - lr: 1.0000e-04\n",
      "Epoch 63/1000\n",
      "345/345 [==============================] - 2s 5ms/step - loss: 0.1482 - RMSE: 0.3850 - MAE: 0.2629 - val_loss: 0.1267 - val_RMSE: 0.3560 - val_MAE: 0.2212 - lr: 1.0000e-04\n",
      "Epoch 64/1000\n",
      "345/345 [==============================] - 2s 6ms/step - loss: 0.1473 - RMSE: 0.3838 - MAE: 0.2623 - val_loss: 0.1220 - val_RMSE: 0.3493 - val_MAE: 0.2156 - lr: 1.0000e-04\n",
      "Epoch 65/1000\n",
      "345/345 [==============================] - 2s 5ms/step - loss: 0.1473 - RMSE: 0.3838 - MAE: 0.2625 - val_loss: 0.1271 - val_RMSE: 0.3565 - val_MAE: 0.2201 - lr: 1.0000e-04\n",
      "Epoch 66/1000\n",
      "345/345 [==============================] - 2s 6ms/step - loss: 0.1462 - RMSE: 0.3824 - MAE: 0.2613 - val_loss: 0.1273 - val_RMSE: 0.3568 - val_MAE: 0.2203 - lr: 1.0000e-04\n",
      "Epoch 67/1000\n",
      "345/345 [==============================] - 2s 6ms/step - loss: 0.1462 - RMSE: 0.3824 - MAE: 0.2613 - val_loss: 0.1158 - val_RMSE: 0.3402 - val_MAE: 0.2099 - lr: 1.0000e-04\n",
      "Epoch 68/1000\n",
      "345/345 [==============================] - 2s 6ms/step - loss: 0.1457 - RMSE: 0.3818 - MAE: 0.2609 - val_loss: 0.1238 - val_RMSE: 0.3518 - val_MAE: 0.2154 - lr: 1.0000e-04\n",
      "Epoch 69/1000\n",
      "345/345 [==============================] - 2s 6ms/step - loss: 0.1455 - RMSE: 0.3814 - MAE: 0.2616 - val_loss: 0.1201 - val_RMSE: 0.3465 - val_MAE: 0.2162 - lr: 1.0000e-04\n",
      "Epoch 70/1000\n",
      "345/345 [==============================] - 2s 6ms/step - loss: 0.1450 - RMSE: 0.3808 - MAE: 0.2600 - val_loss: 0.1201 - val_RMSE: 0.3465 - val_MAE: 0.2163 - lr: 1.0000e-04\n",
      "Epoch 71/1000\n",
      "345/345 [==============================] - 2s 6ms/step - loss: 0.1449 - RMSE: 0.3806 - MAE: 0.2603 - val_loss: 0.1204 - val_RMSE: 0.3469 - val_MAE: 0.2164 - lr: 1.0000e-04\n",
      "Epoch 72/1000\n",
      "345/345 [==============================] - 2s 6ms/step - loss: 0.1449 - RMSE: 0.3806 - MAE: 0.2603 - val_loss: 0.1188 - val_RMSE: 0.3447 - val_MAE: 0.2115 - lr: 1.0000e-04\n",
      "Epoch 73/1000\n",
      "345/345 [==============================] - 2s 5ms/step - loss: 0.1445 - RMSE: 0.3801 - MAE: 0.2605 - val_loss: 0.1218 - val_RMSE: 0.3489 - val_MAE: 0.2153 - lr: 1.0000e-04\n",
      "Epoch 74/1000\n",
      "345/345 [==============================] - 2s 5ms/step - loss: 0.1430 - RMSE: 0.3782 - MAE: 0.2588 - val_loss: 0.1217 - val_RMSE: 0.3489 - val_MAE: 0.2128 - lr: 1.0000e-04\n",
      "Epoch 75/1000\n",
      "345/345 [==============================] - 2s 5ms/step - loss: 0.1436 - RMSE: 0.3789 - MAE: 0.2588 - val_loss: 0.1199 - val_RMSE: 0.3463 - val_MAE: 0.2115 - lr: 1.0000e-04\n",
      "Epoch 76/1000\n",
      "345/345 [==============================] - 2s 5ms/step - loss: 0.1430 - RMSE: 0.3782 - MAE: 0.2579 - val_loss: 0.1199 - val_RMSE: 0.3462 - val_MAE: 0.2170 - lr: 1.0000e-04\n",
      "Epoch 77/1000\n",
      "345/345 [==============================] - 2s 5ms/step - loss: 0.1418 - RMSE: 0.3766 - MAE: 0.2566 - val_loss: 0.1214 - val_RMSE: 0.3485 - val_MAE: 0.2156 - lr: 1.0000e-04\n",
      "Epoch 78/1000\n",
      "345/345 [==============================] - 2s 5ms/step - loss: 0.1425 - RMSE: 0.3775 - MAE: 0.2579 - val_loss: 0.1183 - val_RMSE: 0.3440 - val_MAE: 0.2127 - lr: 5.0000e-05\n",
      "Epoch 79/1000\n",
      "345/345 [==============================] - 2s 5ms/step - loss: 0.1432 - RMSE: 0.3784 - MAE: 0.2593 - val_loss: 0.1184 - val_RMSE: 0.3441 - val_MAE: 0.2119 - lr: 5.0000e-05\n",
      "Epoch 80/1000\n",
      "345/345 [==============================] - 2s 5ms/step - loss: 0.1417 - RMSE: 0.3764 - MAE: 0.2571 - val_loss: 0.1173 - val_RMSE: 0.3424 - val_MAE: 0.2106 - lr: 5.0000e-05\n",
      "Epoch 81/1000\n",
      "345/345 [==============================] - 2s 5ms/step - loss: 0.1417 - RMSE: 0.3764 - MAE: 0.2569 - val_loss: 0.1236 - val_RMSE: 0.3515 - val_MAE: 0.2158 - lr: 5.0000e-05\n",
      "Epoch 82/1000\n",
      "345/345 [==============================] - 2s 5ms/step - loss: 0.1417 - RMSE: 0.3764 - MAE: 0.2577 - val_loss: 0.1155 - val_RMSE: 0.3399 - val_MAE: 0.2100 - lr: 5.0000e-05\n",
      "Epoch 83/1000\n",
      "345/345 [==============================] - 2s 5ms/step - loss: 0.1421 - RMSE: 0.3769 - MAE: 0.2573 - val_loss: 0.1214 - val_RMSE: 0.3484 - val_MAE: 0.2121 - lr: 5.0000e-05\n",
      "Epoch 84/1000\n",
      "345/345 [==============================] - 2s 6ms/step - loss: 0.1412 - RMSE: 0.3757 - MAE: 0.2568 - val_loss: 0.1181 - val_RMSE: 0.3436 - val_MAE: 0.2096 - lr: 5.0000e-05\n",
      "Epoch 85/1000\n",
      "345/345 [==============================] - 2s 6ms/step - loss: 0.1410 - RMSE: 0.3755 - MAE: 0.2571 - val_loss: 0.1185 - val_RMSE: 0.3443 - val_MAE: 0.2112 - lr: 5.0000e-05\n",
      "Epoch 86/1000\n",
      "345/345 [==============================] - 2s 6ms/step - loss: 0.1404 - RMSE: 0.3747 - MAE: 0.2558 - val_loss: 0.1189 - val_RMSE: 0.3448 - val_MAE: 0.2122 - lr: 5.0000e-05\n",
      "Epoch 87/1000\n",
      "345/345 [==============================] - 2s 6ms/step - loss: 0.1421 - RMSE: 0.3770 - MAE: 0.2576 - val_loss: 0.1199 - val_RMSE: 0.3462 - val_MAE: 0.2127 - lr: 5.0000e-05\n",
      "Epoch 88/1000\n",
      "345/345 [==============================] - 2s 5ms/step - loss: 0.1412 - RMSE: 0.3758 - MAE: 0.2566 - val_loss: 0.1199 - val_RMSE: 0.3463 - val_MAE: 0.2117 - lr: 5.0000e-05\n",
      "Epoch 89/1000\n"
     ]
    },
    {
     "name": "stdout",
     "output_type": "stream",
     "text": [
      "345/345 [==============================] - 2s 5ms/step - loss: 0.1402 - RMSE: 0.3744 - MAE: 0.2556 - val_loss: 0.1210 - val_RMSE: 0.3479 - val_MAE: 0.2116 - lr: 5.0000e-05\n",
      "Epoch 90/1000\n",
      "345/345 [==============================] - 2s 5ms/step - loss: 0.1415 - RMSE: 0.3762 - MAE: 0.2569 - val_loss: 0.1199 - val_RMSE: 0.3463 - val_MAE: 0.2131 - lr: 5.0000e-05\n",
      "Epoch 91/1000\n",
      "345/345 [==============================] - 2s 5ms/step - loss: 0.1396 - RMSE: 0.3736 - MAE: 0.2550 - val_loss: 0.1192 - val_RMSE: 0.3452 - val_MAE: 0.2118 - lr: 5.0000e-05\n",
      "Epoch 92/1000\n",
      "345/345 [==============================] - 2s 5ms/step - loss: 0.1400 - RMSE: 0.3741 - MAE: 0.2556 - val_loss: 0.1141 - val_RMSE: 0.3377 - val_MAE: 0.2102 - lr: 5.0000e-05\n",
      "Epoch 93/1000\n",
      "345/345 [==============================] - 2s 5ms/step - loss: 0.1397 - RMSE: 0.3737 - MAE: 0.2550 - val_loss: 0.1201 - val_RMSE: 0.3465 - val_MAE: 0.2126 - lr: 5.0000e-05\n",
      "Epoch 94/1000\n",
      "345/345 [==============================] - 2s 5ms/step - loss: 0.1393 - RMSE: 0.3733 - MAE: 0.2551 - val_loss: 0.1151 - val_RMSE: 0.3392 - val_MAE: 0.2069 - lr: 5.0000e-05\n",
      "Epoch 95/1000\n",
      "345/345 [==============================] - 2s 5ms/step - loss: 0.1387 - RMSE: 0.3724 - MAE: 0.2541 - val_loss: 0.1178 - val_RMSE: 0.3432 - val_MAE: 0.2106 - lr: 5.0000e-05\n",
      "Epoch 96/1000\n",
      "345/345 [==============================] - 2s 5ms/step - loss: 0.1389 - RMSE: 0.3727 - MAE: 0.2541 - val_loss: 0.1186 - val_RMSE: 0.3443 - val_MAE: 0.2113 - lr: 5.0000e-05\n",
      "Epoch 97/1000\n",
      "345/345 [==============================] - 2s 6ms/step - loss: 0.1391 - RMSE: 0.3730 - MAE: 0.2545 - val_loss: 0.1188 - val_RMSE: 0.3447 - val_MAE: 0.2116 - lr: 5.0000e-05\n",
      "Epoch 98/1000\n",
      "345/345 [==============================] - 2s 5ms/step - loss: 0.1389 - RMSE: 0.3727 - MAE: 0.2539 - val_loss: 0.1187 - val_RMSE: 0.3445 - val_MAE: 0.2119 - lr: 5.0000e-05\n",
      "Epoch 99/1000\n",
      "345/345 [==============================] - 2s 5ms/step - loss: 0.1393 - RMSE: 0.3732 - MAE: 0.2547 - val_loss: 0.1172 - val_RMSE: 0.3423 - val_MAE: 0.2099 - lr: 5.0000e-05\n",
      "Epoch 100/1000\n",
      "345/345 [==============================] - 2s 5ms/step - loss: 0.1390 - RMSE: 0.3729 - MAE: 0.2544 - val_loss: 0.1176 - val_RMSE: 0.3429 - val_MAE: 0.2098 - lr: 5.0000e-05\n",
      "Epoch 101/1000\n",
      "345/345 [==============================] - 2s 5ms/step - loss: 0.1387 - RMSE: 0.3724 - MAE: 0.2541 - val_loss: 0.1175 - val_RMSE: 0.3428 - val_MAE: 0.2102 - lr: 5.0000e-05\n",
      "Epoch 102/1000\n",
      "345/345 [==============================] - 2s 5ms/step - loss: 0.1389 - RMSE: 0.3727 - MAE: 0.2544 - val_loss: 0.1181 - val_RMSE: 0.3436 - val_MAE: 0.2099 - lr: 5.0000e-05\n",
      "Epoch 103/1000\n",
      "345/345 [==============================] - 2s 5ms/step - loss: 0.1379 - RMSE: 0.3713 - MAE: 0.2535 - val_loss: 0.1190 - val_RMSE: 0.3450 - val_MAE: 0.2113 - lr: 2.5000e-05\n",
      "Epoch 104/1000\n",
      "345/345 [==============================] - 2s 6ms/step - loss: 0.1381 - RMSE: 0.3716 - MAE: 0.2534 - val_loss: 0.1200 - val_RMSE: 0.3464 - val_MAE: 0.2119 - lr: 2.5000e-05\n",
      "Epoch 105/1000\n",
      "345/345 [==============================] - 2s 5ms/step - loss: 0.1396 - RMSE: 0.3736 - MAE: 0.2550 - val_loss: 0.1171 - val_RMSE: 0.3422 - val_MAE: 0.2098 - lr: 2.5000e-05\n",
      "Epoch 106/1000\n",
      "345/345 [==============================] - 2s 5ms/step - loss: 0.1379 - RMSE: 0.3713 - MAE: 0.2529 - val_loss: 0.1191 - val_RMSE: 0.3451 - val_MAE: 0.2117 - lr: 2.5000e-05\n",
      "Epoch 107/1000\n",
      "345/345 [==============================] - 2s 5ms/step - loss: 0.1376 - RMSE: 0.3710 - MAE: 0.2524 - val_loss: 0.1162 - val_RMSE: 0.3408 - val_MAE: 0.2090 - lr: 2.5000e-05\n",
      "Epoch 108/1000\n",
      "345/345 [==============================] - 2s 5ms/step - loss: 0.1385 - RMSE: 0.3722 - MAE: 0.2544 - val_loss: 0.1164 - val_RMSE: 0.3412 - val_MAE: 0.2117 - lr: 2.5000e-05\n",
      "Epoch 109/1000\n",
      "345/345 [==============================] - 2s 5ms/step - loss: 0.1377 - RMSE: 0.3711 - MAE: 0.2531 - val_loss: 0.1180 - val_RMSE: 0.3435 - val_MAE: 0.2118 - lr: 2.5000e-05\n",
      "Epoch 110/1000\n",
      "345/345 [==============================] - 2s 5ms/step - loss: 0.1372 - RMSE: 0.3704 - MAE: 0.2530 - val_loss: 0.1162 - val_RMSE: 0.3409 - val_MAE: 0.2076 - lr: 2.5000e-05\n",
      "Epoch 111/1000\n",
      "345/345 [==============================] - 2s 5ms/step - loss: 0.1380 - RMSE: 0.3715 - MAE: 0.2533 - val_loss: 0.1181 - val_RMSE: 0.3436 - val_MAE: 0.2114 - lr: 2.5000e-05\n",
      "Epoch 112/1000\n",
      "345/345 [==============================] - 2s 5ms/step - loss: 0.1367 - RMSE: 0.3698 - MAE: 0.2522 - val_loss: 0.1174 - val_RMSE: 0.3426 - val_MAE: 0.2111 - lr: 2.5000e-05\n"
     ]
    },
    {
     "name": "stderr",
     "output_type": "stream",
     "text": [
      "[INFO] Model has been successfully trained\n",
      "[INFO ] Time: 201.64s\n"
     ]
    },
    {
     "name": "stdout",
     "output_type": "stream",
     "text": [
      "Epoch 00112: early stopping\n"
     ]
    }
   ],
   "source": [
    "start_timer = time.time()\n",
    "\n",
    "score = model.fit(trainX, trainX,\n",
    "                  epochs           = parameters['epochs'],\n",
    "                  batch_size       = parameters['batch_size'],                    \n",
    "                  verbose          = parameters['verbose'],\n",
    "                  #\n",
    "                  callbacks        = [checkpoint, earlystopping, lrs_scheduler],\n",
    "                  #\n",
    "                  validation_data  = (validX, validX))\n",
    "\n",
    "if VERBOSE:\n",
    "    logger.info('[INFO] Model has been successfully trained')\n",
    "    logger.info('[INFO ] Time: {:.2f}s'.format(time.time() - start_timer))"
   ]
  },
  {
   "cell_type": "markdown",
   "metadata": {},
   "source": [
    "### Training progress"
   ]
  },
  {
   "cell_type": "code",
   "execution_count": 16,
   "metadata": {},
   "outputs": [
    {
     "data": {
      "image/png": "[encoded data removed]",
      "text/plain": [
       "<Figure size 1080x288 with 2 Axes>"
      ]
     },
     "metadata": {
      "needs_background": "light"
     },
     "output_type": "display_data"
    }
   ],
   "source": [
    "fig, ax = plt.subplots(nrows = 1, ncols = 2, figsize = (15, 4) )\n",
    "\n",
    "ax[0].plot( score.history['RMSE'],     linewidth = 2 )\n",
    "ax[0].plot( score.history['val_RMSE'], linewidth = 2 )\n",
    "ax[0].legend(['Training', 'Testing'], frameon = False, fontsize = 14)\n",
    "ax[0].set_title('RMSE');\n",
    "\n",
    "\n",
    "ax[1].plot( score.history['MAE'],     linewidth = 2 )\n",
    "ax[1].plot( score.history['val_MAE'], linewidth = 2 )\n",
    "ax[1].legend(['Training', 'Testing'], frameon = False, fontsize = 14)\n",
    "ax[1].set_title('MAE');"
   ]
  },
  {
   "cell_type": "markdown",
   "metadata": {},
   "source": [
    "### Load optimized model"
   ]
  },
  {
   "cell_type": "code",
   "execution_count": 17,
   "metadata": {},
   "outputs": [],
   "source": [
    "model.load_weights( 'checkpoint/AnomalyDetectionModel.hdf5' )"
   ]
  },
  {
   "cell_type": "markdown",
   "metadata": {},
   "source": [
    "# Evaluation"
   ]
  },
  {
   "cell_type": "markdown",
   "metadata": {},
   "source": [
    "## Evaluation on Training data "
   ]
  },
  {
   "cell_type": "code",
   "execution_count": 18,
   "metadata": {},
   "outputs": [],
   "source": [
    "# Get predictions\n",
    "#\n",
    "pred = model.predict( trainX )\n",
    "\n",
    "\n",
    "# Calculate Loss (MSE)\n",
    "#\n",
    "train_loss = np.mean( np.mean((pred - trainX)**2, axis = 2), axis = 1)\n",
    "\n",
    "\n",
    "# Create DataFrame with results (loss)\n",
    "#\n",
    "Train_Loss = pd.DataFrame( {'Date'  : trainDates,\n",
    "                            'Loss'  : train_loss,\n",
    "                           })\n",
    "\n",
    "Train_Loss.set_index('Date', inplace=True)"
   ]
  },
  {
   "cell_type": "code",
   "execution_count": 19,
   "metadata": {},
   "outputs": [],
   "source": [
    "# Get predictions\n",
    "#\n",
    "pred = model.predict( validX )\n",
    "\n",
    "\n",
    "# Calculate Loss (MSE)\n",
    "#\n",
    "valid_loss = np.mean( np.mean((pred - validX)**2, axis = 2), axis = 1)\n",
    "\n",
    "\n",
    "# Create DataFrame with results (loss)\n",
    "#\n",
    "Valid_Loss = pd.DataFrame( {'Date'   : validDates,\n",
    "                            'Loss'   : valid_loss,\n",
    "                           })\n",
    "\n",
    "Valid_Loss.set_index('Date', inplace=True)"
   ]
  },
  {
   "cell_type": "markdown",
   "metadata": {},
   "source": [
    "## Define thresholds"
   ]
  },
  {
   "cell_type": "code",
   "execution_count": 20,
   "metadata": {},
   "outputs": [
    {
     "name": "stderr",
     "output_type": "stream",
     "text": [
      "[INFO] Threshold were calculated\n"
     ]
    },
    {
     "name": "stdout",
     "output_type": "stream",
     "text": [
      "[INFO] WARNING  threshold:  0.36632218745310674\n",
      "[INFO] CRITICAL threshold:  1.360080607654051\n"
     ]
    }
   ],
   "source": [
    "# Calculate thresholds\n",
    "#\n",
    "WARNING  = np.quantile( Train_Loss['Loss'], 0.95 )\n",
    "CRITICAL = np.quantile( Train_Loss['Loss'], 0.997 )\n",
    "\n",
    "logger.info('[INFO] Threshold were calculated')\n",
    "#\n",
    "print('[INFO] WARNING  threshold: ', WARNING)\n",
    "print('[INFO] CRITICAL threshold: ', CRITICAL)"
   ]
  },
  {
   "cell_type": "markdown",
   "metadata": {},
   "source": [
    "## Visualization"
   ]
  },
  {
   "cell_type": "markdown",
   "metadata": {},
   "source": [
    "### Loss Histogram"
   ]
  },
  {
   "cell_type": "code",
   "execution_count": 21,
   "metadata": {},
   "outputs": [
    {
     "name": "stderr",
     "output_type": "stream",
     "text": [
      "/Users/livieris/opt/anaconda3/envs/tensorflow/lib/python3.7/site-packages/seaborn/distributions.py:2551: FutureWarning: `distplot` is a deprecated function and will be removed in a future version. Please adapt your code to use either `displot` (a figure-level function with similar flexibility) or `histplot` (an axes-level function for histograms).\n",
      "  warnings.warn(msg, FutureWarning)\n",
      "/Users/livieris/opt/anaconda3/envs/tensorflow/lib/python3.7/site-packages/seaborn/distributions.py:2551: FutureWarning: `distplot` is a deprecated function and will be removed in a future version. Please adapt your code to use either `displot` (a figure-level function with similar flexibility) or `histplot` (an axes-level function for histograms).\n",
      "  warnings.warn(msg, FutureWarning)\n"
     ]
    },
    {
     "data": {
      "image/png": "[encoded data removed]",
      "text/plain": [
       "<Figure size 1080x288 with 1 Axes>"
      ]
     },
     "metadata": {
      "needs_background": "light"
     },
     "output_type": "display_data"
    }
   ],
   "source": [
    "fig, ax = plt.subplots( figsize = (15, 4) )\n",
    "\n",
    "sns.distplot(Train_Loss['Loss'], bins = 'auto', kde = True, ax = ax)\n",
    "sns.distplot(Valid_Loss['Loss'], bins = 'auto', kde = True, ax = ax)\n",
    "\n",
    "plt.legend(['Training', 'Validation'], frameon = False, fontsize = 14)\n",
    "plt.xticks( size = 14 )\n",
    "plt.yticks( size = 14 )\n",
    "plt.xlabel(\"MSE loss\", size=14)\n",
    "plt.ylabel(\"No of samples\", size=14)\n",
    "plt.show()"
   ]
  },
  {
   "cell_type": "markdown",
   "metadata": {},
   "source": [
    "### Plot Train/Valid loss"
   ]
  },
  {
   "cell_type": "code",
   "execution_count": 22,
   "metadata": {},
   "outputs": [
    {
     "name": "stdout",
     "output_type": "stream",
     "text": [
      "Number of anomaly samples:  67/22068\n"
     ]
    },
    {
     "data": {
      "image/png": "[encoded data removed]",
      "text/plain": [
       "<Figure size 1080x288 with 1 Axes>"
      ]
     },
     "metadata": {
      "needs_background": "light"
     },
     "output_type": "display_data"
    }
   ],
   "source": [
    "# Detect all the samples which are anomalies\n",
    "#\n",
    "anomalies = Train_Loss['Loss'] > CRITICAL\n",
    "#\n",
    "Train_Loss['anomaly'] = np.where(anomalies, 'ANOMALY', 'NORMAL')\n",
    "\n",
    "\n",
    "print(\"Number of anomaly samples:  {}/{}\".format(np.sum(anomalies), len(anomalies)) )\n",
    "\n",
    "\n",
    "# Plot train-loss\n",
    "#\n",
    "ax = Train_Loss.plot( figsize = (15, 4) )\n",
    "# Plot valid-loss\n",
    "Valid_Loss.plot(ax = ax)\n",
    "\n",
    "\n",
    "# Plot thresholds\n",
    "#\n",
    "plt.axhline(y=WARNING,  linewidth=1, color='orange', linestyle='--')\n",
    "plt.axhline(y=CRITICAL, linewidth=1, color='red',    linestyle='--')\n",
    "\n",
    "\n",
    "plt.xticks(size = 14)\n",
    "plt.yticks(size = 14)\n",
    "plt.xlabel(\"Date\", size = 14)\n",
    "plt.ylabel(\"Loss\", size = 14);\n",
    "plt.legend(['Train loss', 'Valid loss', '$T_{WARNING}$', '$T_{CRITICAL}$'], frameon = False, fontsize = 14);\n",
    "plt.show();"
   ]
  },
  {
   "cell_type": "markdown",
   "metadata": {},
   "source": [
    "## Evaluation of Testing data"
   ]
  },
  {
   "cell_type": "code",
   "execution_count": 23,
   "metadata": {},
   "outputs": [],
   "source": [
    "# Get predictions\n",
    "#\n",
    "pred = model.predict( testX )\n",
    "\n",
    "\n",
    "# Calculate Loss (MSE)\n",
    "#\n",
    "test_loss = np.mean( np.mean((pred - testX)**2, axis = 2), axis = 1)\n",
    "\n",
    "\n",
    "# Create DataFrame with results (loss)\n",
    "#\n",
    "Test_Loss = pd.DataFrame( {'Date' : testDates,\n",
    "                           'Loss' : test_loss,\n",
    "                           })\n",
    "\n",
    "\n",
    "Test_Loss.set_index('Date', inplace=True)"
   ]
  },
  {
   "cell_type": "markdown",
   "metadata": {},
   "source": [
    "## Visualization"
   ]
  },
  {
   "cell_type": "markdown",
   "metadata": {},
   "source": [
    "### Loss Histogram"
   ]
  },
  {
   "cell_type": "code",
   "execution_count": 24,
   "metadata": {},
   "outputs": [
    {
     "name": "stderr",
     "output_type": "stream",
     "text": [
      "/Users/livieris/opt/anaconda3/envs/tensorflow/lib/python3.7/site-packages/seaborn/distributions.py:2551: FutureWarning: `distplot` is a deprecated function and will be removed in a future version. Please adapt your code to use either `displot` (a figure-level function with similar flexibility) or `histplot` (an axes-level function for histograms).\n",
      "  warnings.warn(msg, FutureWarning)\n",
      "/Users/livieris/opt/anaconda3/envs/tensorflow/lib/python3.7/site-packages/seaborn/distributions.py:2551: FutureWarning: `distplot` is a deprecated function and will be removed in a future version. Please adapt your code to use either `displot` (a figure-level function with similar flexibility) or `histplot` (an axes-level function for histograms).\n",
      "  warnings.warn(msg, FutureWarning)\n"
     ]
    },
    {
     "data": {
      "image/png": "[encoded data removed]",
      "text/plain": [
       "<Figure size 1080x288 with 1 Axes>"
      ]
     },
     "metadata": {
      "needs_background": "light"
     },
     "output_type": "display_data"
    }
   ],
   "source": [
    "fig, ax = plt.subplots( figsize=(15, 4) )\n",
    "\n",
    "sns.distplot(Train_Loss['Loss'], bins = 'auto', kde = True, ax = ax)\n",
    "sns.distplot(Test_Loss['Loss'],  bins = 'auto', kde = True, ax = ax)\n",
    "\n",
    "plt.legend(['Training', 'Testing'], frameon = False, fontsize = 14)\n",
    "plt.xticks( size = 14 )\n",
    "plt.yticks( size = 14 )\n",
    "plt.xlabel(\"MSE loss\", size = 14)\n",
    "plt.ylabel(\"No of samples\", size = 14)\n",
    "plt.show()"
   ]
  },
  {
   "cell_type": "markdown",
   "metadata": {},
   "source": [
    "### Plot Train/Valid loss"
   ]
  },
  {
   "cell_type": "code",
   "execution_count": 25,
   "metadata": {},
   "outputs": [
    {
     "name": "stdout",
     "output_type": "stream",
     "text": [
      "Number of anomaly samples:  6/2763\n"
     ]
    },
    {
     "data": {
      "image/png": "[encoded data removed]",
      "text/plain": [
       "<Figure size 1080x288 with 1 Axes>"
      ]
     },
     "metadata": {
      "needs_background": "light"
     },
     "output_type": "display_data"
    }
   ],
   "source": [
    "# Detect all the samples which are anomalies\n",
    "#\n",
    "anomalies = Test_Loss['Loss'] > CRITICAL\n",
    "#\n",
    "Test_Loss['anomaly'] = np.where(anomalies, 'ANOMALY', 'NORMAL')\n",
    "\n",
    "\n",
    "print(\"Number of anomaly samples:  {}/{}\".format(np.sum(anomalies), len(anomalies)) )\n",
    "\n",
    "\n",
    "# Plot test-loss\n",
    "#\n",
    "ax = Test_Loss.plot( figsize = (15, 4) )\n",
    "\n",
    "\n",
    "# Plot thresholds\n",
    "#\n",
    "plt.axhline(y=WARNING,  linewidth=1, color='orange', linestyle='--')\n",
    "plt.axhline(y=CRITICAL, linewidth=1, color='red',    linestyle='--')\n",
    "\n",
    "\n",
    "plt.xticks(size = 14)\n",
    "plt.yticks(size = 14)\n",
    "plt.xlabel(\"Date\", size = 14)\n",
    "plt.ylabel(\"Loss\", size = 14);\n",
    "plt.legend(['Test loss', '$T_{WARNING}$', '$T_{CRITICAL}$'], frameon = False, fontsize = 14);\n",
    "plt.show();"
   ]
  },
  {
   "cell_type": "markdown",
   "metadata": {},
   "source": [
    "# Save"
   ]
  },
  {
   "cell_type": "code",
   "execution_count": 26,
   "metadata": {},
   "outputs": [
    {
     "name": "stderr",
     "output_type": "stream",
     "text": [
      "Function `_wrapped_model` contains input name(s) InputLayer with unsupported characters which will be renamed to inputlayer in the SavedModel.\n",
      "2022-07-07 14:51:38.895409: W tensorflow/python/util/util.cc:368] Sets are not currently considered sequences, but this may change in the future, so consider avoiding using them.\n"
     ]
    },
    {
     "name": "stdout",
     "output_type": "stream",
     "text": [
      "INFO:tensorflow:Assets written to: model_repository/AnomalyDetectionModel/1/model.savedmodel/assets\n"
     ]
    },
    {
     "name": "stderr",
     "output_type": "stream",
     "text": [
      "Assets written to: model_repository/AnomalyDetectionModel/1/model.savedmodel/assets\n",
      "[INFO] Anomaly detection model was saved in model_repository\n"
     ]
    }
   ],
   "source": [
    "# Save model\n",
    "#\n",
    "model.save( 'model_repository/AnomalyDetectionModel/1/model.savedmodel')\n",
    "#\n",
    "logger.info('[INFO] Anomaly detection model was saved in model_repository')"
   ]
  },
  {
   "cell_type": "code",
   "execution_count": 27,
   "metadata": {},
   "outputs": [
    {
     "name": "stderr",
     "output_type": "stream",
     "text": [
      "[INFO] Scaler was saved in model_repository\n"
     ]
    }
   ],
   "source": [
    "# Save scaler\n",
    "#\n",
    "pickle.dump(scaler, open('model_repository/AnomalyDetectionModel/Scaler.pkl', 'wb'))\n",
    "\n",
    "logger.info('[INFO] Scaler was saved in model_repository')"
   ]
  },
  {
   "cell_type": "code",
   "execution_count": 28,
   "metadata": {},
   "outputs": [
    {
     "name": "stderr",
     "output_type": "stream",
     "text": [
      "[INFO] Thresholds were saved in model_repository\n"
     ]
    }
   ],
   "source": [
    "# Save thresholds\n",
    "#\n",
    "import json\n",
    "\n",
    "Thresholds = {'WARNING':  WARNING,\n",
    "              'CRITICAL': CRITICAL}\n",
    "\n",
    "with open('model_repository/AnomalyDetectionModel/Thresholds.json', 'w') as fp:\n",
    "    json.dump(Thresholds, fp)\n",
    "#\n",
    "logger.info('[INFO] Thresholds were saved in model_repository')"
   ]
  }
 ],
 "metadata": {
  "kernelspec": {
   "display_name": "Python [conda env:tensorflow]",
   "language": "python",
   "name": "conda-env-tensorflow-py"
  },
  "language_info": {
   "codemirror_mode": {
    "name": "ipython",
    "version": 3
   },
   "file_extension": ".py",
   "mimetype": "text/x-python",
   "name": "python",
   "nbconvert_exporter": "python",
   "pygments_lexer": "ipython3",
   "version": "3.7.12"
  },
  "toc": {
   "base_numbering": 1,
   "nav_menu": {},
   "number_sections": true,
   "sideBar": true,
   "skip_h1_title": false,
   "title_cell": "Table of Contents",
   "title_sidebar": "Contents",
   "toc_cell": false,
   "toc_position": {
    "height": "calc(100% - 180px)",
    "left": "10px",
    "top": "150px",
    "width": "254.6666717529297px"
   },
   "toc_section_display": true,
   "toc_window_display": true
  }
 },
 "nbformat": 4,
 "nbformat_minor": 4
}
