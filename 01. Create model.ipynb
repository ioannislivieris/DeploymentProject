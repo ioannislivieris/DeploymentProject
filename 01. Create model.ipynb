{
 "cells": [
  {
   "cell_type": "markdown",
   "metadata": {},
   "source": [
    "# Libraries"
   ]
  },
  {
   "cell_type": "code",
   "execution_count": 1,
   "metadata": {},
   "outputs": [],
   "source": [
    "# =-=-=-=-=-=-=-=-=-=-=-=-=-=-=-=-=-=-=-=-=-=-=-=-=-=-=-=-=-=\n",
    "# Basic libraries\n",
    "#\n",
    "import time\n",
    "import os\n",
    "import pickle\n",
    "import json\n",
    "from   tqdm   import tqdm\n",
    "import pandas as pd\n",
    "import numpy  as np\n",
    "import time\n",
    "\n",
    "\n",
    "# =-=-=-=-=-=-=-=-=-=-=-=-=-=-=-=-=-=-=-=-=-=-=-=-=-=-=-=-=-=-=-=-=-=-=-=-=-=\n",
    "# Visualization library\n",
    "#\n",
    "import matplotlib.pyplot as plt\n",
    "import seaborn           as sns\n",
    "\n",
    "\n",
    "# =-=-=-=-=-=-=-=-=-=-=-=-=-=-=-=-=-=-=-=-=-=-=-=-=-=-=-=-=-=-=-=-=-=-=-=-=-=\n",
    "# Sklearn library\n",
    "#\n",
    "from sklearn.preprocessing import StandardScaler\n",
    "\n",
    "\n",
    "# =-=-=-=-=-=-=-=-=-=-=-=-=-=-=-=-=-=-=-=-=-=-=-=-=-=-=-=-=-=-=\n",
    "# Tensorflow library\n",
    "#\n",
    "import tensorflow                 as tf\n",
    "from   tensorflow.keras.callbacks import *\n",
    "from   tensorflow.keras.metrics   import *\n",
    "from   tensorflow.keras.layers    import *\n",
    "from   tensorflow.keras           import Sequential\n",
    "from   tensorflow.keras           import optimizers\n",
    "\n",
    "\n",
    "# =-=-=-=-=-=-=-=-=-=-=-=-=-=-=-=-=-=-=-=-=-=-=-=-=-=-=-=-=-=\n",
    "# User libraries\n",
    "#\n",
    "from utils.Logger        import *\n",
    "from utils.InfuxDBClient import *"
   ]
  },
  {
   "cell_type": "markdown",
   "metadata": {},
   "source": [
    "# Parameters"
   ]
  },
  {
   "cell_type": "code",
   "execution_count": 2,
   "metadata": {},
   "outputs": [],
   "source": [
    "# Selected sensor\n",
    "#\n",
    "Sensor = '01cc0529-79bb-48cc-a052-4fde9372abeb'\n",
    "\n",
    "# Set look-back (Lag)\n",
    "#\n",
    "Lag = 32\n",
    "\n",
    "# Set 'verbose'\n",
    "#\n",
    "VERBOSE = True\n",
    "\n",
    "# Initiate logger\n",
    "#\n",
    "if VERBOSE:\n",
    "    logger = init_logger( log_file = 'logs.log' )  "
   ]
  },
  {
   "cell_type": "markdown",
   "metadata": {},
   "source": [
    "# Data"
   ]
  },
  {
   "cell_type": "markdown",
   "metadata": {},
   "source": [
    "## Download data from InfuxDB"
   ]
  },
  {
   "cell_type": "markdown",
   "metadata": {},
   "source": [
    "## Setup InfuxDB Client"
   ]
  },
  {
   "cell_type": "code",
   "execution_count": 3,
   "metadata": {},
   "outputs": [],
   "source": [
    "influx_measurement = \"beat_box_rms\"\n",
    "\n",
    "\n",
    "# Change to influx live data \n",
    "#\n",
    "influx = InfluxDataframeDBClient(host     = '192.168.2.198', \n",
    "                                 username = 'admin',\n",
    "                                 pwd      = 'CoreInn02019', \n",
    "                                 port     =  8086, \n",
    "                                 db       = 'corebeat_rms')\n",
    "influx.initClient()"
   ]
  },
  {
   "cell_type": "markdown",
   "metadata": {},
   "source": [
    "### Download data"
   ]
  },
  {
   "cell_type": "code",
   "execution_count": 4,
   "metadata": {},
   "outputs": [
    {
     "name": "stderr",
     "output_type": "stream",
     "text": [
      "[INFO] Download data from CoreBEAT database\n",
      "[INFO] Time: 1.43s\n",
      "[INFO] Data cleaning - Data processing\n",
      "[INFO] Number of features: 4\n"
     ]
    },
    {
     "data": {
      "text/html": [
       "<div>\n",
       "<style scoped>\n",
       "    .dataframe tbody tr th:only-of-type {\n",
       "        vertical-align: middle;\n",
       "    }\n",
       "\n",
       "    .dataframe tbody tr th {\n",
       "        vertical-align: top;\n",
       "    }\n",
       "\n",
       "    .dataframe thead th {\n",
       "        text-align: right;\n",
       "    }\n",
       "</style>\n",
       "<table border=\"1\" class=\"dataframe\">\n",
       "  <thead>\n",
       "    <tr style=\"text-align: right;\">\n",
       "      <th></th>\n",
       "      <th>acc_x</th>\n",
       "      <th>acc_y</th>\n",
       "      <th>acc_z</th>\n",
       "      <th>temperature</th>\n",
       "    </tr>\n",
       "  </thead>\n",
       "  <tbody>\n",
       "    <tr>\n",
       "      <th>2022-06-18 02:01:19+00:00</th>\n",
       "      <td>0.238592</td>\n",
       "      <td>0.186857</td>\n",
       "      <td>0.211078</td>\n",
       "      <td>31.8</td>\n",
       "    </tr>\n",
       "    <tr>\n",
       "      <th>2022-06-18 02:02:19+00:00</th>\n",
       "      <td>0.186287</td>\n",
       "      <td>0.129006</td>\n",
       "      <td>0.146181</td>\n",
       "      <td>31.8</td>\n",
       "    </tr>\n",
       "    <tr>\n",
       "      <th>2022-06-18 02:03:18+00:00</th>\n",
       "      <td>0.187383</td>\n",
       "      <td>0.137613</td>\n",
       "      <td>0.151158</td>\n",
       "      <td>31.9</td>\n",
       "    </tr>\n",
       "  </tbody>\n",
       "</table>\n",
       "</div>"
      ],
      "text/plain": [
       "                              acc_x     acc_y     acc_z  temperature\n",
       "2022-06-18 02:01:19+00:00  0.238592  0.186857  0.211078         31.8\n",
       "2022-06-18 02:02:19+00:00  0.186287  0.129006  0.146181         31.8\n",
       "2022-06-18 02:03:18+00:00  0.187383  0.137613  0.151158         31.9"
      ]
     },
     "execution_count": 4,
     "metadata": {},
     "output_type": "execute_result"
    }
   ],
   "source": [
    "# Start timer\n",
    "#\n",
    "start_timer = time.time()\n",
    "\n",
    "# TABLE: corebeat_rms\n",
    "#\n",
    "df = influx.client.query(f'SELECT * from {influx_measurement}') \n",
    "df = df[ influx_measurement ]\n",
    "#\n",
    "if VERBOSE: \n",
    "    logger.info('[INFO] Download data from CoreBEAT database')\n",
    "    logger.info('[INFO] Time: {:.2f}s'.format(time.time() - start_timer))\n",
    "\n",
    "\n",
    "\n",
    "# Preprocess data\n",
    "#\n",
    "df = df[ df['beat_box_id'] == Sensor]\n",
    "\n",
    "# \n",
    "del df['beat_box_id']\n",
    "\n",
    "\n",
    "if VERBOSE: \n",
    "    logger.info('[INFO] Data cleaning - Data processing')\n",
    "    logger.info('[INFO] Number of features: {}'.format(df.shape[1]))\n",
    "    \n",
    "df.head( 3 )"
   ]
  },
  {
   "cell_type": "markdown",
   "metadata": {},
   "source": [
    "# Training/Validation/Testing datasets"
   ]
  },
  {
   "cell_type": "markdown",
   "metadata": {},
   "source": [
    "## Split data"
   ]
  },
  {
   "cell_type": "code",
   "execution_count": 5,
   "metadata": {},
   "outputs": [],
   "source": [
    "train_idx = int( df.shape[0] * 0.8 )\n",
    "valid_idx = int( df.shape[0] * 0.9 )\n",
    "\n",
    "\n",
    "df_train = df[ :train_idx ].copy()\n",
    "df_valid = df[ train_idx:valid_idx ].copy()\n",
    "df_test  = df[ valid_idx: ]"
   ]
  },
  {
   "cell_type": "markdown",
   "metadata": {},
   "source": [
    "## Fix lag"
   ]
  },
  {
   "cell_type": "code",
   "execution_count": 6,
   "metadata": {},
   "outputs": [],
   "source": [
    "df_valid = pd.concat([df_train.iloc[-Lag:], df_valid])\n",
    "df_test  = pd.concat([df_valid.iloc[-Lag:], df_test])"
   ]
  },
  {
   "cell_type": "markdown",
   "metadata": {},
   "source": [
    "## Scaling data"
   ]
  },
  {
   "cell_type": "code",
   "execution_count": 7,
   "metadata": {},
   "outputs": [],
   "source": [
    "# Set scaler\n",
    "#\n",
    "scaler = StandardScaler()\n",
    "\n",
    "df_train = pd.DataFrame(data    = scaler.fit_transform(df_train),\n",
    "                        columns = df_train.columns, \n",
    "                        index   = df_train.index)\n",
    "\n",
    "df_valid = pd.DataFrame(data    = scaler.transform(df_valid),\n",
    "                        columns = df_valid.columns, \n",
    "                        index   = df_valid.index)\n",
    "\n",
    "\n",
    "df_test   = pd.DataFrame(data    = scaler.transform(df_test),\n",
    "                         columns = df_test.columns, \n",
    "                         index   = df_test.index)"
   ]
  },
  {
   "cell_type": "markdown",
   "metadata": {},
   "source": [
    "# Creating training/validation/testing instances"
   ]
  },
  {
   "cell_type": "code",
   "execution_count": 8,
   "metadata": {},
   "outputs": [],
   "source": [
    "def create_dataset(df = None, Lag = 1, overlap = 1):\n",
    "    \n",
    "    X, Dates = [], []\n",
    "    for i in tqdm( range( df.shape[0] - Lag ) ):\n",
    "        X     += [ df[i:i+Lag].to_numpy() ]\n",
    "        Dates += [ df.index[i+Lag]        ]\n",
    "    \n",
    "    return ( np.array(X), np.array(Dates) )"
   ]
  },
  {
   "cell_type": "code",
   "execution_count": 9,
   "metadata": {},
   "outputs": [
    {
     "name": "stderr",
     "output_type": "stream",
     "text": [
      "100%|█████████████████████████████████████████████████████████████████████████████████████████████████████████████████████████████████████████████████████████████████████████████████| 22068/22068 [00:00<00:00, 22276.50it/s]\n",
      "[INFO] Training instances created\n",
      "100%|███████████████████████████████████████████████████████████████████████████████████████████████████████████████████████████████████████████████████████████████████████████████████| 2763/2763 [00:00<00:00, 22348.94it/s]\n",
      "[INFO] Validation instances created\n",
      "100%|███████████████████████████████████████████████████████████████████████████████████████████████████████████████████████████████████████████████████████████████████████████████████| 2763/2763 [00:00<00:00, 22190.26it/s]\n",
      "[INFO] Testing instances created\n"
     ]
    }
   ],
   "source": [
    "# Training instances\n",
    "#\n",
    "trainX, trainDates = create_dataset(df = df_train, Lag = Lag)\n",
    "if VERBOSE: \n",
    "    logger.info('[INFO] Training instances created')\n",
    "\n",
    "    \n",
    "# Validation instances\n",
    "#\n",
    "validX, validDates = create_dataset(df = df_valid, Lag = Lag)\n",
    "if VERBOSE: \n",
    "    logger.info('[INFO] Validation instances created')\n",
    " \n",
    "\n",
    "# Testing instances\n",
    "#\n",
    "testX, testDates   = create_dataset(df = df_test, Lag = Lag)\n",
    "if VERBOSE: \n",
    "    logger.info('[INFO] Testing instances created')"
   ]
  },
  {
   "cell_type": "markdown",
   "metadata": {},
   "source": [
    "# Anomaly detection model"
   ]
  },
  {
   "cell_type": "markdown",
   "metadata": {},
   "source": [
    "## Setup CUDA"
   ]
  },
  {
   "cell_type": "code",
   "execution_count": 10,
   "metadata": {},
   "outputs": [],
   "source": [
    "gpus = tf.config.list_physical_devices('GPU')\n",
    "\n",
    "if gpus:\n",
    "    try:\n",
    "        # Currently, memory growth needs to be the same across GPUs\n",
    "        for gpu in gpus:\n",
    "            tf.config.experimental.set_memory_growth(gpu, True)\n",
    "            \n",
    "        logical_gpus = tf.config.list_logical_devices('GPU')\n",
    "        print(len(gpus), \"Physical GPUs,\", len(logical_gpus), \"Logical GPUs\")\n",
    "        \n",
    "    except RuntimeError as e:\n",
    "        \n",
    "        # Memory growth must be set before GPUs have been initialized\n",
    "        print(e)"
   ]
  },
  {
   "cell_type": "markdown",
   "metadata": {},
   "source": [
    "## Setup model"
   ]
  },
  {
   "cell_type": "code",
   "execution_count": 11,
   "metadata": {},
   "outputs": [
    {
     "name": "stderr",
     "output_type": "stream",
     "text": [
      "2022-07-07 15:54:34.881160: I tensorflow/core/platform/cpu_feature_guard.cc:151] This TensorFlow binary is optimized with oneAPI Deep Neural Network Library (oneDNN) to use the following CPU instructions in performance-critical operations:  SSE4.1 SSE4.2 AVX AVX2 FMA\n",
      "To enable them in other operations, rebuild TensorFlow with the appropriate compiler flags.\n"
     ]
    }
   ],
   "source": [
    "# Define metrics\n",
    "#\n",
    "metrics = [\n",
    "            RootMeanSquaredError(name = 'RMSE', dtype = None),\n",
    "            MeanAbsoluteError(name='MAE', dtype=None)\n",
    "          ]"
   ]
  },
  {
   "cell_type": "code",
   "execution_count": 12,
   "metadata": {},
   "outputs": [
    {
     "name": "stderr",
     "output_type": "stream",
     "text": [
      "[INFO] Anomaly detection model was setup\n"
     ]
    }
   ],
   "source": [
    "   \n",
    "model = Sequential(\n",
    "    [\n",
    "        Input(shape = (trainX.shape[1], trainX.shape[2]), name = 'InputLayer'),\n",
    "        #\n",
    "        # Since the problem is semi-supervised - Gaussian noise is applied\n",
    "        GaussianNoise( stddev = 0.05 ),\n",
    "        \n",
    "        # =-=-=-=-=-=-=-=-=-=-=-=-=-=-=-=-=-=-=-=-=-=-=-=-=-=-=-=-=-=-=-=-=-=-=-=-=-=-=\n",
    "        # Encoder\n",
    "        #\n",
    "        Conv1D(filters     = 16, \n",
    "               kernel_size = 7, \n",
    "               padding     = \"same\", \n",
    "               strides     = 1, \n",
    "               activation  = \"elu\"),\n",
    "        #\n",
    "        BatchNormalization(),\n",
    "        Dropout(0.5),\n",
    "        #\n",
    "        MaxPooling1D(pool_size = 2, \n",
    "                     padding   = 'same'),\n",
    "        #\n",
    "        Conv1D(filters     = 8, \n",
    "               kernel_size = 3, \n",
    "               padding     = \"same\", \n",
    "               strides     = 1, \n",
    "               activation  = \"elu\"),\n",
    "        #\n",
    "        BatchNormalization(),\n",
    "        Dropout(0.2),\n",
    "        #        \n",
    "        MaxPooling1D(2, padding='same'),\n",
    "        \n",
    "        \n",
    "        # =-=-=-=-=-=-=-=-=-=-=-=-=-=-=-=-=-=-=-=-=-=-=-=-=-=-=-=-=-=-=-=-=-=-=-=-=-=-=\n",
    "        # Decoder\n",
    "        #\n",
    "        Conv1D(filters     = 8, \n",
    "               kernel_size = 3, \n",
    "               padding     = \"same\", \n",
    "               strides     = 1, \n",
    "               activation  = \"elu\"),\n",
    "        #\n",
    "        BatchNormalization(),\n",
    "        #\n",
    "        UpSampling1D(size = 2),\n",
    "        #\n",
    "        Conv1D(filters     = 16, \n",
    "               kernel_size = 7, \n",
    "               padding     = \"same\", \n",
    "               strides     = 1, \n",
    "               activation  = \"elu\"),\n",
    "        #\n",
    "        BatchNormalization(),\n",
    "        #\n",
    "        UpSampling1D(size = 2),\n",
    "        #\n",
    "        Conv1D(filters     = trainX.shape[2], \n",
    "               kernel_size = 3, \n",
    "               padding     = \"same\", \n",
    "               strides     = 1, \n",
    "               activation  = \"linear\",\n",
    "               name        = 'OutputLayer' ),        \n",
    "    ]\n",
    ")\n",
    "\n",
    "\n",
    "\n",
    "# Set loss and optimizer\n",
    "#\n",
    "model.compile(optimizer = optimizers.Adam(learning_rate = 1e-4),\n",
    "              loss      = 'mse',\n",
    "              metrics   = metrics)\n",
    "\n",
    "if VERBOSE:\n",
    "    logger.info('[INFO] Anomaly detection model was setup')"
   ]
  },
  {
   "cell_type": "code",
   "execution_count": 13,
   "metadata": {},
   "outputs": [
    {
     "name": "stdout",
     "output_type": "stream",
     "text": [
      "[INFO] Input layer:   InputLayer\n",
      "[INFO] Output layer:  OutputLayer/BiasAdd:0\n",
      "Model: \"sequential\"\n",
      "_________________________________________________________________\n",
      " Layer (type)                Output Shape              Param #   \n",
      "=================================================================\n",
      " gaussian_noise (GaussianNoi  (None, 32, 4)            0         \n",
      " se)                                                             \n",
      "                                                                 \n",
      " conv1d (Conv1D)             (None, 32, 16)            464       \n",
      "                                                                 \n",
      " batch_normalization (BatchN  (None, 32, 16)           64        \n",
      " ormalization)                                                   \n",
      "                                                                 \n",
      " dropout (Dropout)           (None, 32, 16)            0         \n",
      "                                                                 \n",
      " max_pooling1d (MaxPooling1D  (None, 16, 16)           0         \n",
      " )                                                               \n",
      "                                                                 \n",
      " conv1d_1 (Conv1D)           (None, 16, 8)             392       \n",
      "                                                                 \n",
      " batch_normalization_1 (Batc  (None, 16, 8)            32        \n",
      " hNormalization)                                                 \n",
      "                                                                 \n",
      " dropout_1 (Dropout)         (None, 16, 8)             0         \n",
      "                                                                 \n",
      " max_pooling1d_1 (MaxPooling  (None, 8, 8)             0         \n",
      " 1D)                                                             \n",
      "                                                                 \n",
      " conv1d_2 (Conv1D)           (None, 8, 8)              200       \n",
      "                                                                 \n",
      " batch_normalization_2 (Batc  (None, 8, 8)             32        \n",
      " hNormalization)                                                 \n",
      "                                                                 \n",
      " up_sampling1d (UpSampling1D  (None, 16, 8)            0         \n",
      " )                                                               \n",
      "                                                                 \n",
      " conv1d_3 (Conv1D)           (None, 16, 16)            912       \n",
      "                                                                 \n",
      " batch_normalization_3 (Batc  (None, 16, 16)           64        \n",
      " hNormalization)                                                 \n",
      "                                                                 \n",
      " up_sampling1d_1 (UpSampling  (None, 32, 16)           0         \n",
      " 1D)                                                             \n",
      "                                                                 \n",
      " OutputLayer (Conv1D)        (None, 32, 4)             196       \n",
      "                                                                 \n",
      "=================================================================\n",
      "Total params: 2,356\n",
      "Trainable params: 2,260\n",
      "Non-trainable params: 96\n",
      "_________________________________________________________________\n"
     ]
    }
   ],
   "source": [
    "print('[INFO] Input layer:  ', model.input.name)\n",
    "print('[INFO] Output layer: ', model.output.name)\n",
    "\n",
    "# Model summary\n",
    "#\n",
    "model.summary()"
   ]
  },
  {
   "cell_type": "markdown",
   "metadata": {},
   "source": [
    "## Setup training parameters"
   ]
  },
  {
   "cell_type": "code",
   "execution_count": 14,
   "metadata": {},
   "outputs": [
    {
     "name": "stderr",
     "output_type": "stream",
     "text": [
      "[INFO] Training process was setup\n"
     ]
    }
   ],
   "source": [
    "# Set parameters\n",
    "#\n",
    "parameters = {'epochs'           : 1000,\n",
    "              'batch_size'       : 64,\n",
    "              'verbose'          : True}\n",
    "\n",
    "\n",
    "\n",
    "\n",
    "# Checkpoint\n",
    "#\n",
    "if ( not os.path.isdir('checkpoint') ):\n",
    "    os.mkdir('checkpoint')\n",
    "#\n",
    "checkpoint = ModelCheckpoint(\"checkpoint/AnomalyDetectionModel.hdf5\", \n",
    "                             save_weights_only = True,\n",
    "                             monitor           = 'val_loss', \n",
    "                             verbose           = 0, \n",
    "                             save_best_only    = True, \n",
    "                             mode              = 'min')\n",
    "\n",
    "# Earlystopping\n",
    "#\n",
    "earlystopping = EarlyStopping(monitor       = 'val_loss', \n",
    "                              mode          = 'min', \n",
    "                              verbose       = 1, \n",
    "                              patience      = 20)\n",
    "\n",
    "\n",
    "# Learning rate adjustment\n",
    "#\n",
    "lrs_scheduler  = ReduceLROnPlateau(monitor   = 'val_loss', \n",
    "                                   factor    = 0.5,\n",
    "                                   min_delta = 1.e-6,\n",
    "                                   patience  = 10)\n",
    "\n",
    "\n",
    "if VERBOSE:\n",
    "    logger.info('[INFO] Training process was setup')"
   ]
  },
  {
   "cell_type": "markdown",
   "metadata": {},
   "source": [
    "## Model training"
   ]
  },
  {
   "cell_type": "code",
   "execution_count": 15,
   "metadata": {
    "scrolled": true
   },
   "outputs": [
    {
     "name": "stdout",
     "output_type": "stream",
     "text": [
      "Epoch 1/1000\n",
      "345/345 [==============================] - 2s 4ms/step - loss: 1.2830 - RMSE: 1.1327 - MAE: 0.8287 - val_loss: 0.5990 - val_RMSE: 0.7740 - val_MAE: 0.5443 - lr: 1.0000e-04\n",
      "Epoch 2/1000\n",
      "345/345 [==============================] - 1s 4ms/step - loss: 0.5769 - RMSE: 0.7595 - MAE: 0.5414 - val_loss: 0.4697 - val_RMSE: 0.6853 - val_MAE: 0.4387 - lr: 1.0000e-04\n",
      "Epoch 3/1000\n",
      "345/345 [==============================] - 1s 4ms/step - loss: 0.4849 - RMSE: 0.6964 - MAE: 0.4822 - val_loss: 0.4350 - val_RMSE: 0.6596 - val_MAE: 0.3991 - lr: 1.0000e-04\n",
      "Epoch 4/1000\n",
      "345/345 [==============================] - 1s 4ms/step - loss: 0.4448 - RMSE: 0.6670 - MAE: 0.4532 - val_loss: 0.4138 - val_RMSE: 0.6433 - val_MAE: 0.3771 - lr: 1.0000e-04\n",
      "Epoch 5/1000\n",
      "345/345 [==============================] - 1s 4ms/step - loss: 0.4234 - RMSE: 0.6507 - MAE: 0.4354 - val_loss: 0.4036 - val_RMSE: 0.6353 - val_MAE: 0.3673 - lr: 1.0000e-04\n",
      "Epoch 6/1000\n",
      "345/345 [==============================] - 1s 4ms/step - loss: 0.4075 - RMSE: 0.6384 - MAE: 0.4236 - val_loss: 0.3926 - val_RMSE: 0.6266 - val_MAE: 0.3608 - lr: 1.0000e-04\n",
      "Epoch 7/1000\n",
      "345/345 [==============================] - 1s 4ms/step - loss: 0.3947 - RMSE: 0.6283 - MAE: 0.4145 - val_loss: 0.3820 - val_RMSE: 0.6180 - val_MAE: 0.3522 - lr: 1.0000e-04\n",
      "Epoch 8/1000\n",
      "345/345 [==============================] - 1s 4ms/step - loss: 0.3842 - RMSE: 0.6198 - MAE: 0.4075 - val_loss: 0.3736 - val_RMSE: 0.6112 - val_MAE: 0.3480 - lr: 1.0000e-04\n",
      "Epoch 9/1000\n",
      "345/345 [==============================] - 1s 4ms/step - loss: 0.3746 - RMSE: 0.6121 - MAE: 0.4016 - val_loss: 0.3631 - val_RMSE: 0.6026 - val_MAE: 0.3430 - lr: 1.0000e-04\n",
      "Epoch 10/1000\n",
      "345/345 [==============================] - 1s 4ms/step - loss: 0.3675 - RMSE: 0.6062 - MAE: 0.3972 - val_loss: 0.3573 - val_RMSE: 0.5977 - val_MAE: 0.3426 - lr: 1.0000e-04\n",
      "Epoch 11/1000\n",
      "345/345 [==============================] - 1s 4ms/step - loss: 0.3602 - RMSE: 0.6002 - MAE: 0.3921 - val_loss: 0.3514 - val_RMSE: 0.5928 - val_MAE: 0.3385 - lr: 1.0000e-04\n",
      "Epoch 12/1000\n",
      "345/345 [==============================] - 1s 4ms/step - loss: 0.3529 - RMSE: 0.5941 - MAE: 0.3877 - val_loss: 0.3482 - val_RMSE: 0.5901 - val_MAE: 0.3367 - lr: 1.0000e-04\n",
      "Epoch 13/1000\n",
      "345/345 [==============================] - 1s 4ms/step - loss: 0.3472 - RMSE: 0.5893 - MAE: 0.3844 - val_loss: 0.3430 - val_RMSE: 0.5857 - val_MAE: 0.3349 - lr: 1.0000e-04\n",
      "Epoch 14/1000\n",
      "345/345 [==============================] - 1s 4ms/step - loss: 0.3404 - RMSE: 0.5834 - MAE: 0.3807 - val_loss: 0.3373 - val_RMSE: 0.5808 - val_MAE: 0.3314 - lr: 1.0000e-04\n",
      "Epoch 15/1000\n",
      "345/345 [==============================] - 1s 4ms/step - loss: 0.3353 - RMSE: 0.5790 - MAE: 0.3781 - val_loss: 0.3272 - val_RMSE: 0.5720 - val_MAE: 0.3237 - lr: 1.0000e-04\n",
      "Epoch 16/1000\n",
      "345/345 [==============================] - 1s 4ms/step - loss: 0.3305 - RMSE: 0.5749 - MAE: 0.3750 - val_loss: 0.3286 - val_RMSE: 0.5732 - val_MAE: 0.3262 - lr: 1.0000e-04\n",
      "Epoch 17/1000\n",
      "345/345 [==============================] - 1s 4ms/step - loss: 0.3247 - RMSE: 0.5699 - MAE: 0.3715 - val_loss: 0.3241 - val_RMSE: 0.5693 - val_MAE: 0.3242 - lr: 1.0000e-04\n",
      "Epoch 18/1000\n",
      "345/345 [==============================] - 1s 4ms/step - loss: 0.3224 - RMSE: 0.5678 - MAE: 0.3704 - val_loss: 0.3207 - val_RMSE: 0.5663 - val_MAE: 0.3203 - lr: 1.0000e-04\n",
      "Epoch 19/1000\n",
      "345/345 [==============================] - 1s 4ms/step - loss: 0.3168 - RMSE: 0.5629 - MAE: 0.3665 - val_loss: 0.3167 - val_RMSE: 0.5627 - val_MAE: 0.3182 - lr: 1.0000e-04\n",
      "Epoch 20/1000\n",
      "345/345 [==============================] - 1s 4ms/step - loss: 0.3144 - RMSE: 0.5607 - MAE: 0.3647 - val_loss: 0.3145 - val_RMSE: 0.5608 - val_MAE: 0.3170 - lr: 1.0000e-04\n",
      "Epoch 21/1000\n",
      "345/345 [==============================] - 1s 4ms/step - loss: 0.3118 - RMSE: 0.5584 - MAE: 0.3634 - val_loss: 0.3139 - val_RMSE: 0.5602 - val_MAE: 0.3161 - lr: 1.0000e-04\n",
      "Epoch 22/1000\n",
      "345/345 [==============================] - 1s 4ms/step - loss: 0.3101 - RMSE: 0.5569 - MAE: 0.3627 - val_loss: 0.3101 - val_RMSE: 0.5569 - val_MAE: 0.3158 - lr: 1.0000e-04\n",
      "Epoch 23/1000\n",
      "345/345 [==============================] - 1s 4ms/step - loss: 0.3074 - RMSE: 0.5544 - MAE: 0.3609 - val_loss: 0.3112 - val_RMSE: 0.5579 - val_MAE: 0.3158 - lr: 1.0000e-04\n",
      "Epoch 24/1000\n",
      "345/345 [==============================] - 1s 4ms/step - loss: 0.3056 - RMSE: 0.5528 - MAE: 0.3593 - val_loss: 0.3093 - val_RMSE: 0.5561 - val_MAE: 0.3124 - lr: 1.0000e-04\n",
      "Epoch 25/1000\n",
      "345/345 [==============================] - 2s 5ms/step - loss: 0.3041 - RMSE: 0.5515 - MAE: 0.3589 - val_loss: 0.3028 - val_RMSE: 0.5503 - val_MAE: 0.3111 - lr: 1.0000e-04\n",
      "Epoch 26/1000\n",
      "345/345 [==============================] - 2s 5ms/step - loss: 0.3016 - RMSE: 0.5491 - MAE: 0.3570 - val_loss: 0.3012 - val_RMSE: 0.5488 - val_MAE: 0.3107 - lr: 1.0000e-04\n",
      "Epoch 27/1000\n",
      "345/345 [==============================] - 2s 5ms/step - loss: 0.2996 - RMSE: 0.5474 - MAE: 0.3562 - val_loss: 0.3013 - val_RMSE: 0.5489 - val_MAE: 0.3095 - lr: 1.0000e-04\n",
      "Epoch 28/1000\n",
      "345/345 [==============================] - 2s 4ms/step - loss: 0.2991 - RMSE: 0.5469 - MAE: 0.3561 - val_loss: 0.2983 - val_RMSE: 0.5462 - val_MAE: 0.3073 - lr: 1.0000e-04\n",
      "Epoch 29/1000\n",
      "345/345 [==============================] - 1s 4ms/step - loss: 0.2970 - RMSE: 0.5450 - MAE: 0.3544 - val_loss: 0.3005 - val_RMSE: 0.5482 - val_MAE: 0.3105 - lr: 1.0000e-04\n",
      "Epoch 30/1000\n",
      "345/345 [==============================] - 1s 4ms/step - loss: 0.2949 - RMSE: 0.5430 - MAE: 0.3529 - val_loss: 0.2957 - val_RMSE: 0.5438 - val_MAE: 0.3061 - lr: 1.0000e-04\n",
      "Epoch 31/1000\n",
      "345/345 [==============================] - 1s 4ms/step - loss: 0.2929 - RMSE: 0.5412 - MAE: 0.3515 - val_loss: 0.3007 - val_RMSE: 0.5484 - val_MAE: 0.3094 - lr: 1.0000e-04\n",
      "Epoch 32/1000\n",
      "345/345 [==============================] - 2s 5ms/step - loss: 0.2925 - RMSE: 0.5408 - MAE: 0.3513 - val_loss: 0.2966 - val_RMSE: 0.5446 - val_MAE: 0.3097 - lr: 1.0000e-04\n",
      "Epoch 33/1000\n",
      "345/345 [==============================] - 1s 4ms/step - loss: 0.2912 - RMSE: 0.5396 - MAE: 0.3513 - val_loss: 0.2947 - val_RMSE: 0.5429 - val_MAE: 0.3061 - lr: 1.0000e-04\n",
      "Epoch 34/1000\n",
      "345/345 [==============================] - 1s 4ms/step - loss: 0.2906 - RMSE: 0.5390 - MAE: 0.3506 - val_loss: 0.2923 - val_RMSE: 0.5406 - val_MAE: 0.3037 - lr: 1.0000e-04\n",
      "Epoch 35/1000\n",
      "345/345 [==============================] - 2s 5ms/step - loss: 0.2883 - RMSE: 0.5369 - MAE: 0.3491 - val_loss: 0.2899 - val_RMSE: 0.5384 - val_MAE: 0.3022 - lr: 1.0000e-04\n",
      "Epoch 36/1000\n",
      "345/345 [==============================] - 2s 5ms/step - loss: 0.2879 - RMSE: 0.5366 - MAE: 0.3484 - val_loss: 0.2884 - val_RMSE: 0.5371 - val_MAE: 0.3033 - lr: 1.0000e-04\n",
      "Epoch 37/1000\n",
      "345/345 [==============================] - 2s 5ms/step - loss: 0.2851 - RMSE: 0.5339 - MAE: 0.3468 - val_loss: 0.2848 - val_RMSE: 0.5336 - val_MAE: 0.3003 - lr: 1.0000e-04\n",
      "Epoch 38/1000\n",
      "345/345 [==============================] - 2s 5ms/step - loss: 0.2862 - RMSE: 0.5350 - MAE: 0.3479 - val_loss: 0.2830 - val_RMSE: 0.5320 - val_MAE: 0.2972 - lr: 1.0000e-04\n",
      "Epoch 39/1000\n",
      "345/345 [==============================] - 2s 4ms/step - loss: 0.2828 - RMSE: 0.5318 - MAE: 0.3456 - val_loss: 0.2848 - val_RMSE: 0.5336 - val_MAE: 0.2996 - lr: 1.0000e-04\n",
      "Epoch 40/1000\n",
      "345/345 [==============================] - 1s 4ms/step - loss: 0.2837 - RMSE: 0.5326 - MAE: 0.3468 - val_loss: 0.2855 - val_RMSE: 0.5343 - val_MAE: 0.2981 - lr: 1.0000e-04\n",
      "Epoch 41/1000\n",
      "345/345 [==============================] - 1s 4ms/step - loss: 0.2819 - RMSE: 0.5309 - MAE: 0.3457 - val_loss: 0.2828 - val_RMSE: 0.5318 - val_MAE: 0.2959 - lr: 1.0000e-04\n",
      "Epoch 42/1000\n",
      "345/345 [==============================] - 1s 4ms/step - loss: 0.2815 - RMSE: 0.5306 - MAE: 0.3451 - val_loss: 0.2798 - val_RMSE: 0.5290 - val_MAE: 0.2942 - lr: 1.0000e-04\n",
      "Epoch 43/1000\n",
      "345/345 [==============================] - 1s 4ms/step - loss: 0.2794 - RMSE: 0.5286 - MAE: 0.3442 - val_loss: 0.2775 - val_RMSE: 0.5267 - val_MAE: 0.2924 - lr: 1.0000e-04\n",
      "Epoch 44/1000\n",
      "345/345 [==============================] - 1s 4ms/step - loss: 0.2792 - RMSE: 0.5284 - MAE: 0.3445 - val_loss: 0.2806 - val_RMSE: 0.5297 - val_MAE: 0.2950 - lr: 1.0000e-04\n",
      "Epoch 45/1000\n"
     ]
    },
    {
     "name": "stdout",
     "output_type": "stream",
     "text": [
      "345/345 [==============================] - 1s 4ms/step - loss: 0.2783 - RMSE: 0.5276 - MAE: 0.3433 - val_loss: 0.2768 - val_RMSE: 0.5262 - val_MAE: 0.2951 - lr: 1.0000e-04\n",
      "Epoch 46/1000\n",
      "345/345 [==============================] - 1s 4ms/step - loss: 0.2773 - RMSE: 0.5266 - MAE: 0.3433 - val_loss: 0.2694 - val_RMSE: 0.5190 - val_MAE: 0.2907 - lr: 1.0000e-04\n",
      "Epoch 47/1000\n",
      "345/345 [==============================] - 1s 4ms/step - loss: 0.2763 - RMSE: 0.5257 - MAE: 0.3434 - val_loss: 0.2720 - val_RMSE: 0.5215 - val_MAE: 0.2928 - lr: 1.0000e-04\n",
      "Epoch 48/1000\n",
      "345/345 [==============================] - 1s 4ms/step - loss: 0.2755 - RMSE: 0.5249 - MAE: 0.3430 - val_loss: 0.2700 - val_RMSE: 0.5197 - val_MAE: 0.2921 - lr: 1.0000e-04\n",
      "Epoch 49/1000\n",
      "345/345 [==============================] - 1s 4ms/step - loss: 0.2735 - RMSE: 0.5230 - MAE: 0.3421 - val_loss: 0.2678 - val_RMSE: 0.5175 - val_MAE: 0.2888 - lr: 1.0000e-04\n",
      "Epoch 50/1000\n",
      "345/345 [==============================] - 2s 5ms/step - loss: 0.2713 - RMSE: 0.5208 - MAE: 0.3402 - val_loss: 0.2665 - val_RMSE: 0.5163 - val_MAE: 0.2903 - lr: 1.0000e-04\n",
      "Epoch 51/1000\n",
      "345/345 [==============================] - 2s 5ms/step - loss: 0.2703 - RMSE: 0.5199 - MAE: 0.3402 - val_loss: 0.2650 - val_RMSE: 0.5148 - val_MAE: 0.2891 - lr: 1.0000e-04\n",
      "Epoch 52/1000\n",
      "345/345 [==============================] - 2s 5ms/step - loss: 0.2667 - RMSE: 0.5164 - MAE: 0.3381 - val_loss: 0.2657 - val_RMSE: 0.5155 - val_MAE: 0.2918 - lr: 1.0000e-04\n",
      "Epoch 53/1000\n",
      "345/345 [==============================] - 2s 5ms/step - loss: 0.2666 - RMSE: 0.5163 - MAE: 0.3394 - val_loss: 0.2585 - val_RMSE: 0.5084 - val_MAE: 0.2871 - lr: 1.0000e-04\n",
      "Epoch 54/1000\n",
      "345/345 [==============================] - 2s 4ms/step - loss: 0.2646 - RMSE: 0.5144 - MAE: 0.3388 - val_loss: 0.2561 - val_RMSE: 0.5060 - val_MAE: 0.2849 - lr: 1.0000e-04\n",
      "Epoch 55/1000\n",
      "345/345 [==============================] - 1s 4ms/step - loss: 0.2641 - RMSE: 0.5139 - MAE: 0.3381 - val_loss: 0.2552 - val_RMSE: 0.5052 - val_MAE: 0.2881 - lr: 1.0000e-04\n",
      "Epoch 56/1000\n",
      "345/345 [==============================] - 1s 4ms/step - loss: 0.2615 - RMSE: 0.5114 - MAE: 0.3379 - val_loss: 0.2487 - val_RMSE: 0.4987 - val_MAE: 0.2834 - lr: 1.0000e-04\n",
      "Epoch 57/1000\n",
      "345/345 [==============================] - 1s 4ms/step - loss: 0.2599 - RMSE: 0.5098 - MAE: 0.3372 - val_loss: 0.2490 - val_RMSE: 0.4990 - val_MAE: 0.2848 - lr: 1.0000e-04\n",
      "Epoch 58/1000\n",
      "345/345 [==============================] - 1s 4ms/step - loss: 0.2573 - RMSE: 0.5073 - MAE: 0.3364 - val_loss: 0.2480 - val_RMSE: 0.4980 - val_MAE: 0.2860 - lr: 1.0000e-04\n",
      "Epoch 59/1000\n",
      "345/345 [==============================] - 1s 4ms/step - loss: 0.2570 - RMSE: 0.5070 - MAE: 0.3358 - val_loss: 0.2411 - val_RMSE: 0.4911 - val_MAE: 0.2814 - lr: 1.0000e-04\n",
      "Epoch 60/1000\n",
      "345/345 [==============================] - 1s 4ms/step - loss: 0.2541 - RMSE: 0.5041 - MAE: 0.3347 - val_loss: 0.2368 - val_RMSE: 0.4866 - val_MAE: 0.2801 - lr: 1.0000e-04\n",
      "Epoch 61/1000\n",
      "345/345 [==============================] - 1s 4ms/step - loss: 0.2535 - RMSE: 0.5035 - MAE: 0.3349 - val_loss: 0.2333 - val_RMSE: 0.4830 - val_MAE: 0.2773 - lr: 1.0000e-04\n",
      "Epoch 62/1000\n",
      "345/345 [==============================] - 1s 4ms/step - loss: 0.2523 - RMSE: 0.5023 - MAE: 0.3350 - val_loss: 0.2362 - val_RMSE: 0.4860 - val_MAE: 0.2773 - lr: 1.0000e-04\n",
      "Epoch 63/1000\n",
      "345/345 [==============================] - 1s 4ms/step - loss: 0.2516 - RMSE: 0.5016 - MAE: 0.3340 - val_loss: 0.2334 - val_RMSE: 0.4831 - val_MAE: 0.2785 - lr: 1.0000e-04\n",
      "Epoch 64/1000\n",
      "345/345 [==============================] - 1s 4ms/step - loss: 0.2500 - RMSE: 0.5000 - MAE: 0.3333 - val_loss: 0.2324 - val_RMSE: 0.4821 - val_MAE: 0.2777 - lr: 1.0000e-04\n",
      "Epoch 65/1000\n",
      "345/345 [==============================] - 2s 5ms/step - loss: 0.2484 - RMSE: 0.4984 - MAE: 0.3323 - val_loss: 0.2288 - val_RMSE: 0.4784 - val_MAE: 0.2753 - lr: 1.0000e-04\n",
      "Epoch 66/1000\n",
      "345/345 [==============================] - 1s 4ms/step - loss: 0.2472 - RMSE: 0.4972 - MAE: 0.3314 - val_loss: 0.2284 - val_RMSE: 0.4779 - val_MAE: 0.2752 - lr: 1.0000e-04\n",
      "Epoch 67/1000\n",
      "345/345 [==============================] - 1s 4ms/step - loss: 0.2456 - RMSE: 0.4956 - MAE: 0.3311 - val_loss: 0.2253 - val_RMSE: 0.4747 - val_MAE: 0.2727 - lr: 1.0000e-04\n",
      "Epoch 68/1000\n",
      "345/345 [==============================] - 1s 4ms/step - loss: 0.2456 - RMSE: 0.4956 - MAE: 0.3313 - val_loss: 0.2252 - val_RMSE: 0.4746 - val_MAE: 0.2733 - lr: 1.0000e-04\n",
      "Epoch 69/1000\n",
      "345/345 [==============================] - 1s 4ms/step - loss: 0.2435 - RMSE: 0.4935 - MAE: 0.3297 - val_loss: 0.2217 - val_RMSE: 0.4708 - val_MAE: 0.2723 - lr: 1.0000e-04\n",
      "Epoch 70/1000\n",
      "345/345 [==============================] - 1s 4ms/step - loss: 0.2436 - RMSE: 0.4936 - MAE: 0.3299 - val_loss: 0.2206 - val_RMSE: 0.4697 - val_MAE: 0.2721 - lr: 1.0000e-04\n",
      "Epoch 71/1000\n",
      "345/345 [==============================] - 1s 4ms/step - loss: 0.2421 - RMSE: 0.4921 - MAE: 0.3292 - val_loss: 0.2241 - val_RMSE: 0.4734 - val_MAE: 0.2737 - lr: 1.0000e-04\n",
      "Epoch 72/1000\n",
      "345/345 [==============================] - 1s 4ms/step - loss: 0.2424 - RMSE: 0.4924 - MAE: 0.3295 - val_loss: 0.2199 - val_RMSE: 0.4690 - val_MAE: 0.2727 - lr: 1.0000e-04\n",
      "Epoch 73/1000\n",
      "345/345 [==============================] - 1s 4ms/step - loss: 0.2418 - RMSE: 0.4917 - MAE: 0.3285 - val_loss: 0.2164 - val_RMSE: 0.4651 - val_MAE: 0.2708 - lr: 1.0000e-04\n",
      "Epoch 74/1000\n",
      "345/345 [==============================] - 1s 4ms/step - loss: 0.2410 - RMSE: 0.4909 - MAE: 0.3291 - val_loss: 0.2206 - val_RMSE: 0.4697 - val_MAE: 0.2755 - lr: 1.0000e-04\n",
      "Epoch 75/1000\n",
      "345/345 [==============================] - 1s 4ms/step - loss: 0.2396 - RMSE: 0.4895 - MAE: 0.3286 - val_loss: 0.2159 - val_RMSE: 0.4647 - val_MAE: 0.2704 - lr: 1.0000e-04\n",
      "Epoch 76/1000\n",
      "345/345 [==============================] - 1s 4ms/step - loss: 0.2374 - RMSE: 0.4872 - MAE: 0.3262 - val_loss: 0.2068 - val_RMSE: 0.4548 - val_MAE: 0.2663 - lr: 1.0000e-04\n",
      "Epoch 77/1000\n",
      "345/345 [==============================] - 1s 4ms/step - loss: 0.2365 - RMSE: 0.4864 - MAE: 0.3258 - val_loss: 0.2101 - val_RMSE: 0.4583 - val_MAE: 0.2672 - lr: 1.0000e-04\n",
      "Epoch 78/1000\n",
      "345/345 [==============================] - 1s 4ms/step - loss: 0.2358 - RMSE: 0.4856 - MAE: 0.3258 - val_loss: 0.2094 - val_RMSE: 0.4576 - val_MAE: 0.2670 - lr: 1.0000e-04\n",
      "Epoch 79/1000\n",
      "345/345 [==============================] - 1s 4ms/step - loss: 0.2382 - RMSE: 0.4880 - MAE: 0.3280 - val_loss: 0.2092 - val_RMSE: 0.4573 - val_MAE: 0.2690 - lr: 1.0000e-04\n",
      "Epoch 80/1000\n",
      "345/345 [==============================] - 1s 4ms/step - loss: 0.2354 - RMSE: 0.4852 - MAE: 0.3251 - val_loss: 0.2096 - val_RMSE: 0.4578 - val_MAE: 0.2695 - lr: 1.0000e-04\n",
      "Epoch 81/1000\n",
      "345/345 [==============================] - 2s 5ms/step - loss: 0.2340 - RMSE: 0.4838 - MAE: 0.3253 - val_loss: 0.2044 - val_RMSE: 0.4521 - val_MAE: 0.2660 - lr: 1.0000e-04\n",
      "Epoch 82/1000\n",
      "345/345 [==============================] - 2s 5ms/step - loss: 0.2339 - RMSE: 0.4836 - MAE: 0.3247 - val_loss: 0.2041 - val_RMSE: 0.4518 - val_MAE: 0.2644 - lr: 1.0000e-04\n",
      "Epoch 83/1000\n",
      "345/345 [==============================] - 1s 4ms/step - loss: 0.2338 - RMSE: 0.4835 - MAE: 0.3242 - val_loss: 0.2037 - val_RMSE: 0.4513 - val_MAE: 0.2663 - lr: 1.0000e-04\n",
      "Epoch 84/1000\n",
      "345/345 [==============================] - 2s 5ms/step - loss: 0.2347 - RMSE: 0.4845 - MAE: 0.3253 - val_loss: 0.2069 - val_RMSE: 0.4549 - val_MAE: 0.2687 - lr: 1.0000e-04\n",
      "Epoch 85/1000\n",
      "345/345 [==============================] - 2s 6ms/step - loss: 0.2320 - RMSE: 0.4817 - MAE: 0.3237 - val_loss: 0.2015 - val_RMSE: 0.4489 - val_MAE: 0.2652 - lr: 1.0000e-04\n",
      "Epoch 86/1000\n",
      "345/345 [==============================] - 2s 5ms/step - loss: 0.2316 - RMSE: 0.4812 - MAE: 0.3226 - val_loss: 0.1972 - val_RMSE: 0.4440 - val_MAE: 0.2615 - lr: 1.0000e-04\n",
      "Epoch 87/1000\n",
      "345/345 [==============================] - 2s 5ms/step - loss: 0.2299 - RMSE: 0.4795 - MAE: 0.3209 - val_loss: 0.1963 - val_RMSE: 0.4431 - val_MAE: 0.2635 - lr: 1.0000e-04\n",
      "Epoch 88/1000\n",
      "345/345 [==============================] - 2s 6ms/step - loss: 0.2299 - RMSE: 0.4795 - MAE: 0.3230 - val_loss: 0.1963 - val_RMSE: 0.4431 - val_MAE: 0.2625 - lr: 1.0000e-04\n",
      "Epoch 89/1000\n"
     ]
    },
    {
     "name": "stdout",
     "output_type": "stream",
     "text": [
      "345/345 [==============================] - 1s 4ms/step - loss: 0.2303 - RMSE: 0.4799 - MAE: 0.3227 - val_loss: 0.1973 - val_RMSE: 0.4442 - val_MAE: 0.2644 - lr: 1.0000e-04\n",
      "Epoch 90/1000\n",
      "345/345 [==============================] - 1s 4ms/step - loss: 0.2298 - RMSE: 0.4794 - MAE: 0.3229 - val_loss: 0.1981 - val_RMSE: 0.4451 - val_MAE: 0.2648 - lr: 1.0000e-04\n",
      "Epoch 91/1000\n",
      "345/345 [==============================] - 1s 4ms/step - loss: 0.2277 - RMSE: 0.4771 - MAE: 0.3205 - val_loss: 0.1957 - val_RMSE: 0.4423 - val_MAE: 0.2640 - lr: 1.0000e-04\n",
      "Epoch 92/1000\n",
      "345/345 [==============================] - 1s 4ms/step - loss: 0.2279 - RMSE: 0.4774 - MAE: 0.3211 - val_loss: 0.1919 - val_RMSE: 0.4381 - val_MAE: 0.2628 - lr: 1.0000e-04\n",
      "Epoch 93/1000\n",
      "345/345 [==============================] - 1s 4ms/step - loss: 0.2270 - RMSE: 0.4764 - MAE: 0.3201 - val_loss: 0.1926 - val_RMSE: 0.4388 - val_MAE: 0.2613 - lr: 1.0000e-04\n",
      "Epoch 94/1000\n",
      "345/345 [==============================] - 1s 4ms/step - loss: 0.2279 - RMSE: 0.4774 - MAE: 0.3216 - val_loss: 0.1921 - val_RMSE: 0.4383 - val_MAE: 0.2621 - lr: 1.0000e-04\n",
      "Epoch 95/1000\n",
      "345/345 [==============================] - 2s 6ms/step - loss: 0.2270 - RMSE: 0.4765 - MAE: 0.3196 - val_loss: 0.1890 - val_RMSE: 0.4348 - val_MAE: 0.2600 - lr: 1.0000e-04\n",
      "Epoch 96/1000\n",
      "345/345 [==============================] - 2s 6ms/step - loss: 0.2253 - RMSE: 0.4747 - MAE: 0.3189 - val_loss: 0.1869 - val_RMSE: 0.4324 - val_MAE: 0.2593 - lr: 1.0000e-04\n",
      "Epoch 97/1000\n",
      "345/345 [==============================] - 2s 7ms/step - loss: 0.2257 - RMSE: 0.4751 - MAE: 0.3194 - val_loss: 0.1895 - val_RMSE: 0.4353 - val_MAE: 0.2600 - lr: 1.0000e-04\n",
      "Epoch 98/1000\n",
      "345/345 [==============================] - 2s 6ms/step - loss: 0.2251 - RMSE: 0.4744 - MAE: 0.3199 - val_loss: 0.1860 - val_RMSE: 0.4313 - val_MAE: 0.2592 - lr: 1.0000e-04\n",
      "Epoch 99/1000\n",
      "345/345 [==============================] - 2s 5ms/step - loss: 0.2236 - RMSE: 0.4729 - MAE: 0.3178 - val_loss: 0.1844 - val_RMSE: 0.4294 - val_MAE: 0.2582 - lr: 1.0000e-04\n",
      "Epoch 100/1000\n",
      "345/345 [==============================] - 2s 5ms/step - loss: 0.2242 - RMSE: 0.4735 - MAE: 0.3180 - val_loss: 0.1837 - val_RMSE: 0.4286 - val_MAE: 0.2580 - lr: 1.0000e-04\n",
      "Epoch 101/1000\n",
      "345/345 [==============================] - 2s 5ms/step - loss: 0.2219 - RMSE: 0.4711 - MAE: 0.3173 - val_loss: 0.1893 - val_RMSE: 0.4350 - val_MAE: 0.2629 - lr: 1.0000e-04\n",
      "Epoch 102/1000\n",
      "345/345 [==============================] - 2s 4ms/step - loss: 0.2237 - RMSE: 0.4730 - MAE: 0.3184 - val_loss: 0.1826 - val_RMSE: 0.4273 - val_MAE: 0.2586 - lr: 1.0000e-04\n",
      "Epoch 103/1000\n",
      "345/345 [==============================] - 2s 5ms/step - loss: 0.2226 - RMSE: 0.4718 - MAE: 0.3178 - val_loss: 0.1811 - val_RMSE: 0.4256 - val_MAE: 0.2570 - lr: 1.0000e-04\n",
      "Epoch 104/1000\n",
      "345/345 [==============================] - 2s 5ms/step - loss: 0.2218 - RMSE: 0.4710 - MAE: 0.3168 - val_loss: 0.1831 - val_RMSE: 0.4279 - val_MAE: 0.2612 - lr: 1.0000e-04\n",
      "Epoch 105/1000\n",
      "345/345 [==============================] - 2s 5ms/step - loss: 0.2216 - RMSE: 0.4708 - MAE: 0.3167 - val_loss: 0.1795 - val_RMSE: 0.4236 - val_MAE: 0.2586 - lr: 1.0000e-04\n",
      "Epoch 106/1000\n",
      "345/345 [==============================] - 2s 5ms/step - loss: 0.2224 - RMSE: 0.4716 - MAE: 0.3182 - val_loss: 0.1812 - val_RMSE: 0.4257 - val_MAE: 0.2582 - lr: 1.0000e-04\n",
      "Epoch 107/1000\n",
      "345/345 [==============================] - 2s 5ms/step - loss: 0.2188 - RMSE: 0.4677 - MAE: 0.3147 - val_loss: 0.1800 - val_RMSE: 0.4243 - val_MAE: 0.2575 - lr: 1.0000e-04\n",
      "Epoch 108/1000\n",
      "345/345 [==============================] - 1s 4ms/step - loss: 0.2202 - RMSE: 0.4692 - MAE: 0.3165 - val_loss: 0.1762 - val_RMSE: 0.4198 - val_MAE: 0.2552 - lr: 1.0000e-04\n",
      "Epoch 109/1000\n",
      "345/345 [==============================] - 1s 4ms/step - loss: 0.2185 - RMSE: 0.4674 - MAE: 0.3157 - val_loss: 0.1772 - val_RMSE: 0.4210 - val_MAE: 0.2562 - lr: 1.0000e-04\n",
      "Epoch 110/1000\n",
      "345/345 [==============================] - 1s 4ms/step - loss: 0.2182 - RMSE: 0.4671 - MAE: 0.3148 - val_loss: 0.1739 - val_RMSE: 0.4170 - val_MAE: 0.2547 - lr: 1.0000e-04\n",
      "Epoch 111/1000\n",
      "345/345 [==============================] - 2s 4ms/step - loss: 0.2166 - RMSE: 0.4654 - MAE: 0.3131 - val_loss: 0.1723 - val_RMSE: 0.4151 - val_MAE: 0.2527 - lr: 1.0000e-04\n",
      "Epoch 112/1000\n",
      "345/345 [==============================] - 1s 4ms/step - loss: 0.2160 - RMSE: 0.4648 - MAE: 0.3139 - val_loss: 0.1746 - val_RMSE: 0.4178 - val_MAE: 0.2554 - lr: 1.0000e-04\n",
      "Epoch 113/1000\n",
      "345/345 [==============================] - 2s 5ms/step - loss: 0.2165 - RMSE: 0.4653 - MAE: 0.3134 - val_loss: 0.1720 - val_RMSE: 0.4147 - val_MAE: 0.2531 - lr: 1.0000e-04\n",
      "Epoch 114/1000\n",
      "345/345 [==============================] - 2s 5ms/step - loss: 0.2171 - RMSE: 0.4659 - MAE: 0.3140 - val_loss: 0.1705 - val_RMSE: 0.4129 - val_MAE: 0.2524 - lr: 1.0000e-04\n",
      "Epoch 115/1000\n",
      "345/345 [==============================] - 2s 5ms/step - loss: 0.2167 - RMSE: 0.4655 - MAE: 0.3135 - val_loss: 0.1731 - val_RMSE: 0.4160 - val_MAE: 0.2543 - lr: 1.0000e-04\n",
      "Epoch 116/1000\n",
      "345/345 [==============================] - 2s 5ms/step - loss: 0.2165 - RMSE: 0.4653 - MAE: 0.3141 - val_loss: 0.1728 - val_RMSE: 0.4157 - val_MAE: 0.2542 - lr: 1.0000e-04\n",
      "Epoch 117/1000\n",
      "345/345 [==============================] - 2s 5ms/step - loss: 0.2156 - RMSE: 0.4643 - MAE: 0.3129 - val_loss: 0.1702 - val_RMSE: 0.4126 - val_MAE: 0.2526 - lr: 1.0000e-04\n",
      "Epoch 118/1000\n",
      "345/345 [==============================] - 2s 5ms/step - loss: 0.2156 - RMSE: 0.4644 - MAE: 0.3130 - val_loss: 0.1732 - val_RMSE: 0.4162 - val_MAE: 0.2559 - lr: 1.0000e-04\n",
      "Epoch 119/1000\n",
      "345/345 [==============================] - 2s 5ms/step - loss: 0.2156 - RMSE: 0.4643 - MAE: 0.3126 - val_loss: 0.1684 - val_RMSE: 0.4104 - val_MAE: 0.2505 - lr: 1.0000e-04\n",
      "Epoch 120/1000\n",
      "345/345 [==============================] - 1s 4ms/step - loss: 0.2141 - RMSE: 0.4627 - MAE: 0.3123 - val_loss: 0.1664 - val_RMSE: 0.4079 - val_MAE: 0.2501 - lr: 1.0000e-04\n",
      "Epoch 121/1000\n",
      "345/345 [==============================] - 2s 5ms/step - loss: 0.2130 - RMSE: 0.4615 - MAE: 0.3110 - val_loss: 0.1670 - val_RMSE: 0.4087 - val_MAE: 0.2501 - lr: 1.0000e-04\n",
      "Epoch 122/1000\n",
      "345/345 [==============================] - 2s 4ms/step - loss: 0.2135 - RMSE: 0.4620 - MAE: 0.3116 - val_loss: 0.1699 - val_RMSE: 0.4122 - val_MAE: 0.2530 - lr: 1.0000e-04\n",
      "Epoch 123/1000\n",
      "345/345 [==============================] - 2s 4ms/step - loss: 0.2126 - RMSE: 0.4611 - MAE: 0.3114 - val_loss: 0.1702 - val_RMSE: 0.4125 - val_MAE: 0.2519 - lr: 1.0000e-04\n",
      "Epoch 124/1000\n",
      "345/345 [==============================] - 2s 4ms/step - loss: 0.2126 - RMSE: 0.4610 - MAE: 0.3110 - val_loss: 0.1632 - val_RMSE: 0.4040 - val_MAE: 0.2475 - lr: 1.0000e-04\n",
      "Epoch 125/1000\n",
      "345/345 [==============================] - 2s 5ms/step - loss: 0.2124 - RMSE: 0.4609 - MAE: 0.3110 - val_loss: 0.1653 - val_RMSE: 0.4066 - val_MAE: 0.2492 - lr: 1.0000e-04\n",
      "Epoch 126/1000\n",
      "345/345 [==============================] - 2s 5ms/step - loss: 0.2125 - RMSE: 0.4610 - MAE: 0.3111 - val_loss: 0.1641 - val_RMSE: 0.4051 - val_MAE: 0.2483 - lr: 1.0000e-04\n",
      "Epoch 127/1000\n",
      "345/345 [==============================] - 1s 4ms/step - loss: 0.2119 - RMSE: 0.4603 - MAE: 0.3109 - val_loss: 0.1611 - val_RMSE: 0.4014 - val_MAE: 0.2466 - lr: 1.0000e-04\n",
      "Epoch 128/1000\n",
      "345/345 [==============================] - 1s 4ms/step - loss: 0.2100 - RMSE: 0.4582 - MAE: 0.3083 - val_loss: 0.1638 - val_RMSE: 0.4047 - val_MAE: 0.2484 - lr: 1.0000e-04\n",
      "Epoch 129/1000\n",
      "345/345 [==============================] - 1s 4ms/step - loss: 0.2099 - RMSE: 0.4582 - MAE: 0.3090 - val_loss: 0.1638 - val_RMSE: 0.4047 - val_MAE: 0.2487 - lr: 1.0000e-04\n",
      "Epoch 130/1000\n",
      "345/345 [==============================] - 1s 4ms/step - loss: 0.2104 - RMSE: 0.4587 - MAE: 0.3102 - val_loss: 0.1608 - val_RMSE: 0.4010 - val_MAE: 0.2474 - lr: 1.0000e-04\n",
      "Epoch 131/1000\n",
      "345/345 [==============================] - 1s 4ms/step - loss: 0.2078 - RMSE: 0.4558 - MAE: 0.3074 - val_loss: 0.1580 - val_RMSE: 0.3975 - val_MAE: 0.2451 - lr: 1.0000e-04\n",
      "Epoch 132/1000\n",
      "345/345 [==============================] - 1s 4ms/step - loss: 0.2080 - RMSE: 0.4561 - MAE: 0.3080 - val_loss: 0.1625 - val_RMSE: 0.4031 - val_MAE: 0.2468 - lr: 1.0000e-04\n"
     ]
    },
    {
     "name": "stdout",
     "output_type": "stream",
     "text": [
      "Epoch 133/1000\n",
      "345/345 [==============================] - 1s 4ms/step - loss: 0.2090 - RMSE: 0.4572 - MAE: 0.3080 - val_loss: 0.1557 - val_RMSE: 0.3946 - val_MAE: 0.2433 - lr: 1.0000e-04\n",
      "Epoch 134/1000\n",
      "345/345 [==============================] - 2s 4ms/step - loss: 0.2094 - RMSE: 0.4576 - MAE: 0.3091 - val_loss: 0.1595 - val_RMSE: 0.3993 - val_MAE: 0.2459 - lr: 1.0000e-04\n",
      "Epoch 135/1000\n",
      "345/345 [==============================] - 1s 4ms/step - loss: 0.2077 - RMSE: 0.4558 - MAE: 0.3077 - val_loss: 0.1569 - val_RMSE: 0.3961 - val_MAE: 0.2435 - lr: 1.0000e-04\n",
      "Epoch 136/1000\n",
      "345/345 [==============================] - 1s 4ms/step - loss: 0.2082 - RMSE: 0.4563 - MAE: 0.3080 - val_loss: 0.1595 - val_RMSE: 0.3994 - val_MAE: 0.2459 - lr: 1.0000e-04\n",
      "Epoch 137/1000\n",
      "345/345 [==============================] - 1s 4ms/step - loss: 0.2082 - RMSE: 0.4563 - MAE: 0.3085 - val_loss: 0.1529 - val_RMSE: 0.3911 - val_MAE: 0.2428 - lr: 1.0000e-04\n",
      "Epoch 138/1000\n",
      "345/345 [==============================] - 1s 4ms/step - loss: 0.2078 - RMSE: 0.4558 - MAE: 0.3074 - val_loss: 0.1556 - val_RMSE: 0.3945 - val_MAE: 0.2418 - lr: 1.0000e-04\n",
      "Epoch 139/1000\n",
      "345/345 [==============================] - 1s 4ms/step - loss: 0.2081 - RMSE: 0.4562 - MAE: 0.3078 - val_loss: 0.1572 - val_RMSE: 0.3965 - val_MAE: 0.2438 - lr: 1.0000e-04\n",
      "Epoch 140/1000\n",
      "345/345 [==============================] - 1s 4ms/step - loss: 0.2068 - RMSE: 0.4547 - MAE: 0.3077 - val_loss: 0.1561 - val_RMSE: 0.3951 - val_MAE: 0.2427 - lr: 1.0000e-04\n",
      "Epoch 141/1000\n",
      "345/345 [==============================] - 1s 4ms/step - loss: 0.2066 - RMSE: 0.4545 - MAE: 0.3060 - val_loss: 0.1546 - val_RMSE: 0.3932 - val_MAE: 0.2416 - lr: 1.0000e-04\n",
      "Epoch 142/1000\n",
      "345/345 [==============================] - 1s 4ms/step - loss: 0.2066 - RMSE: 0.4545 - MAE: 0.3069 - val_loss: 0.1533 - val_RMSE: 0.3915 - val_MAE: 0.2409 - lr: 1.0000e-04\n",
      "Epoch 143/1000\n",
      "345/345 [==============================] - 1s 4ms/step - loss: 0.2067 - RMSE: 0.4546 - MAE: 0.3069 - val_loss: 0.1523 - val_RMSE: 0.3903 - val_MAE: 0.2401 - lr: 1.0000e-04\n",
      "Epoch 144/1000\n",
      "345/345 [==============================] - 1s 4ms/step - loss: 0.2068 - RMSE: 0.4548 - MAE: 0.3078 - val_loss: 0.1565 - val_RMSE: 0.3956 - val_MAE: 0.2443 - lr: 1.0000e-04\n",
      "Epoch 145/1000\n",
      "345/345 [==============================] - 1s 4ms/step - loss: 0.2067 - RMSE: 0.4546 - MAE: 0.3070 - val_loss: 0.1533 - val_RMSE: 0.3916 - val_MAE: 0.2414 - lr: 1.0000e-04\n",
      "Epoch 146/1000\n",
      "345/345 [==============================] - 2s 4ms/step - loss: 0.2066 - RMSE: 0.4546 - MAE: 0.3066 - val_loss: 0.1522 - val_RMSE: 0.3901 - val_MAE: 0.2391 - lr: 1.0000e-04\n",
      "Epoch 147/1000\n",
      "345/345 [==============================] - 1s 4ms/step - loss: 0.2042 - RMSE: 0.4519 - MAE: 0.3050 - val_loss: 0.1547 - val_RMSE: 0.3933 - val_MAE: 0.2401 - lr: 1.0000e-04\n",
      "Epoch 148/1000\n",
      "345/345 [==============================] - 1s 4ms/step - loss: 0.2069 - RMSE: 0.4549 - MAE: 0.3067 - val_loss: 0.1544 - val_RMSE: 0.3930 - val_MAE: 0.2409 - lr: 1.0000e-04\n",
      "Epoch 149/1000\n",
      "345/345 [==============================] - 1s 4ms/step - loss: 0.2049 - RMSE: 0.4526 - MAE: 0.3051 - val_loss: 0.1511 - val_RMSE: 0.3887 - val_MAE: 0.2386 - lr: 1.0000e-04\n",
      "Epoch 150/1000\n",
      "345/345 [==============================] - 1s 4ms/step - loss: 0.2054 - RMSE: 0.4532 - MAE: 0.3064 - val_loss: 0.1531 - val_RMSE: 0.3913 - val_MAE: 0.2397 - lr: 1.0000e-04\n",
      "Epoch 151/1000\n",
      "345/345 [==============================] - 1s 4ms/step - loss: 0.2054 - RMSE: 0.4532 - MAE: 0.3062 - val_loss: 0.1520 - val_RMSE: 0.3898 - val_MAE: 0.2388 - lr: 1.0000e-04\n",
      "Epoch 152/1000\n",
      "345/345 [==============================] - 1s 4ms/step - loss: 0.2055 - RMSE: 0.4533 - MAE: 0.3053 - val_loss: 0.1531 - val_RMSE: 0.3912 - val_MAE: 0.2401 - lr: 1.0000e-04\n",
      "Epoch 153/1000\n",
      "345/345 [==============================] - 1s 4ms/step - loss: 0.2040 - RMSE: 0.4516 - MAE: 0.3048 - val_loss: 0.1546 - val_RMSE: 0.3931 - val_MAE: 0.2426 - lr: 1.0000e-04\n",
      "Epoch 154/1000\n",
      "345/345 [==============================] - 1s 4ms/step - loss: 0.2059 - RMSE: 0.4537 - MAE: 0.3063 - val_loss: 0.1508 - val_RMSE: 0.3884 - val_MAE: 0.2393 - lr: 1.0000e-04\n",
      "Epoch 155/1000\n",
      "345/345 [==============================] - 1s 4ms/step - loss: 0.2047 - RMSE: 0.4524 - MAE: 0.3058 - val_loss: 0.1493 - val_RMSE: 0.3864 - val_MAE: 0.2389 - lr: 1.0000e-04\n",
      "Epoch 156/1000\n",
      "345/345 [==============================] - 1s 4ms/step - loss: 0.2035 - RMSE: 0.4511 - MAE: 0.3045 - val_loss: 0.1499 - val_RMSE: 0.3872 - val_MAE: 0.2395 - lr: 1.0000e-04\n",
      "Epoch 157/1000\n",
      "345/345 [==============================] - 1s 4ms/step - loss: 0.2039 - RMSE: 0.4515 - MAE: 0.3045 - val_loss: 0.1504 - val_RMSE: 0.3878 - val_MAE: 0.2383 - lr: 1.0000e-04\n",
      "Epoch 158/1000\n",
      "345/345 [==============================] - 1s 4ms/step - loss: 0.2037 - RMSE: 0.4514 - MAE: 0.3045 - val_loss: 0.1488 - val_RMSE: 0.3857 - val_MAE: 0.2370 - lr: 1.0000e-04\n",
      "Epoch 159/1000\n",
      "345/345 [==============================] - 1s 4ms/step - loss: 0.2035 - RMSE: 0.4511 - MAE: 0.3043 - val_loss: 0.1521 - val_RMSE: 0.3900 - val_MAE: 0.2405 - lr: 1.0000e-04\n",
      "Epoch 160/1000\n",
      "345/345 [==============================] - 1s 4ms/step - loss: 0.2033 - RMSE: 0.4508 - MAE: 0.3045 - val_loss: 0.1503 - val_RMSE: 0.3877 - val_MAE: 0.2385 - lr: 1.0000e-04\n",
      "Epoch 161/1000\n",
      "345/345 [==============================] - 1s 4ms/step - loss: 0.2025 - RMSE: 0.4500 - MAE: 0.3043 - val_loss: 0.1451 - val_RMSE: 0.3809 - val_MAE: 0.2354 - lr: 1.0000e-04\n",
      "Epoch 162/1000\n",
      "345/345 [==============================] - 1s 4ms/step - loss: 0.2019 - RMSE: 0.4494 - MAE: 0.3028 - val_loss: 0.1513 - val_RMSE: 0.3889 - val_MAE: 0.2389 - lr: 1.0000e-04\n",
      "Epoch 163/1000\n",
      "345/345 [==============================] - 1s 4ms/step - loss: 0.2029 - RMSE: 0.4505 - MAE: 0.3037 - val_loss: 0.1478 - val_RMSE: 0.3844 - val_MAE: 0.2368 - lr: 1.0000e-04\n",
      "Epoch 164/1000\n",
      "345/345 [==============================] - 1s 4ms/step - loss: 0.2003 - RMSE: 0.4475 - MAE: 0.3013 - val_loss: 0.1473 - val_RMSE: 0.3837 - val_MAE: 0.2371 - lr: 1.0000e-04\n",
      "Epoch 165/1000\n",
      "345/345 [==============================] - 2s 4ms/step - loss: 0.2017 - RMSE: 0.4491 - MAE: 0.3027 - val_loss: 0.1478 - val_RMSE: 0.3845 - val_MAE: 0.2377 - lr: 1.0000e-04\n",
      "Epoch 166/1000\n",
      "345/345 [==============================] - 1s 4ms/step - loss: 0.2027 - RMSE: 0.4502 - MAE: 0.3036 - val_loss: 0.1453 - val_RMSE: 0.3812 - val_MAE: 0.2365 - lr: 1.0000e-04\n",
      "Epoch 167/1000\n",
      "345/345 [==============================] - 2s 5ms/step - loss: 0.2012 - RMSE: 0.4486 - MAE: 0.3028 - val_loss: 0.1488 - val_RMSE: 0.3857 - val_MAE: 0.2398 - lr: 1.0000e-04\n",
      "Epoch 168/1000\n",
      "345/345 [==============================] - 2s 5ms/step - loss: 0.2027 - RMSE: 0.4502 - MAE: 0.3031 - val_loss: 0.1497 - val_RMSE: 0.3868 - val_MAE: 0.2379 - lr: 1.0000e-04\n",
      "Epoch 169/1000\n",
      "345/345 [==============================] - 2s 5ms/step - loss: 0.2009 - RMSE: 0.4482 - MAE: 0.3032 - val_loss: 0.1460 - val_RMSE: 0.3821 - val_MAE: 0.2355 - lr: 1.0000e-04\n",
      "Epoch 170/1000\n",
      "345/345 [==============================] - 2s 5ms/step - loss: 0.2022 - RMSE: 0.4496 - MAE: 0.3037 - val_loss: 0.1457 - val_RMSE: 0.3818 - val_MAE: 0.2358 - lr: 1.0000e-04\n",
      "Epoch 171/1000\n",
      "345/345 [==============================] - 1s 4ms/step - loss: 0.2013 - RMSE: 0.4487 - MAE: 0.3025 - val_loss: 0.1475 - val_RMSE: 0.3840 - val_MAE: 0.2367 - lr: 1.0000e-04\n",
      "Epoch 172/1000\n",
      "345/345 [==============================] - 1s 4ms/step - loss: 0.2021 - RMSE: 0.4496 - MAE: 0.3027 - val_loss: 0.1458 - val_RMSE: 0.3818 - val_MAE: 0.2351 - lr: 5.0000e-05\n",
      "Epoch 173/1000\n",
      "345/345 [==============================] - 2s 5ms/step - loss: 0.2014 - RMSE: 0.4488 - MAE: 0.3027 - val_loss: 0.1454 - val_RMSE: 0.3814 - val_MAE: 0.2345 - lr: 5.0000e-05\n",
      "Epoch 174/1000\n",
      "345/345 [==============================] - 1s 4ms/step - loss: 0.2017 - RMSE: 0.4491 - MAE: 0.3031 - val_loss: 0.1456 - val_RMSE: 0.3816 - val_MAE: 0.2363 - lr: 5.0000e-05\n",
      "Epoch 175/1000\n",
      "345/345 [==============================] - 1s 4ms/step - loss: 0.1995 - RMSE: 0.4466 - MAE: 0.3011 - val_loss: 0.1446 - val_RMSE: 0.3803 - val_MAE: 0.2351 - lr: 5.0000e-05\n",
      "Epoch 176/1000\n",
      "345/345 [==============================] - 1s 4ms/step - loss: 0.2004 - RMSE: 0.4476 - MAE: 0.3022 - val_loss: 0.1458 - val_RMSE: 0.3819 - val_MAE: 0.2355 - lr: 5.0000e-05\n"
     ]
    },
    {
     "name": "stdout",
     "output_type": "stream",
     "text": [
      "Epoch 177/1000\n",
      "345/345 [==============================] - 1s 4ms/step - loss: 0.1999 - RMSE: 0.4471 - MAE: 0.3018 - val_loss: 0.1458 - val_RMSE: 0.3819 - val_MAE: 0.2357 - lr: 5.0000e-05\n",
      "Epoch 178/1000\n",
      "345/345 [==============================] - 1s 4ms/step - loss: 0.2015 - RMSE: 0.4488 - MAE: 0.3029 - val_loss: 0.1438 - val_RMSE: 0.3792 - val_MAE: 0.2344 - lr: 5.0000e-05\n",
      "Epoch 179/1000\n",
      "345/345 [==============================] - 1s 4ms/step - loss: 0.2012 - RMSE: 0.4486 - MAE: 0.3025 - val_loss: 0.1447 - val_RMSE: 0.3804 - val_MAE: 0.2353 - lr: 5.0000e-05\n",
      "Epoch 180/1000\n",
      "345/345 [==============================] - 1s 4ms/step - loss: 0.2000 - RMSE: 0.4472 - MAE: 0.3014 - val_loss: 0.1455 - val_RMSE: 0.3815 - val_MAE: 0.2354 - lr: 5.0000e-05\n",
      "Epoch 181/1000\n",
      "345/345 [==============================] - 1s 4ms/step - loss: 0.2003 - RMSE: 0.4475 - MAE: 0.3022 - val_loss: 0.1447 - val_RMSE: 0.3804 - val_MAE: 0.2349 - lr: 5.0000e-05\n",
      "Epoch 182/1000\n",
      "345/345 [==============================] - 1s 4ms/step - loss: 0.2002 - RMSE: 0.4474 - MAE: 0.3020 - val_loss: 0.1421 - val_RMSE: 0.3769 - val_MAE: 0.2336 - lr: 5.0000e-05\n",
      "Epoch 183/1000\n",
      "345/345 [==============================] - 1s 4ms/step - loss: 0.2015 - RMSE: 0.4488 - MAE: 0.3035 - val_loss: 0.1427 - val_RMSE: 0.3778 - val_MAE: 0.2337 - lr: 5.0000e-05\n",
      "Epoch 184/1000\n",
      "345/345 [==============================] - 1s 4ms/step - loss: 0.2010 - RMSE: 0.4483 - MAE: 0.3020 - val_loss: 0.1444 - val_RMSE: 0.3800 - val_MAE: 0.2354 - lr: 5.0000e-05\n",
      "Epoch 185/1000\n",
      "345/345 [==============================] - 1s 4ms/step - loss: 0.2015 - RMSE: 0.4489 - MAE: 0.3030 - val_loss: 0.1442 - val_RMSE: 0.3797 - val_MAE: 0.2345 - lr: 5.0000e-05\n",
      "Epoch 186/1000\n",
      "345/345 [==============================] - 1s 4ms/step - loss: 0.1998 - RMSE: 0.4470 - MAE: 0.3021 - val_loss: 0.1438 - val_RMSE: 0.3792 - val_MAE: 0.2344 - lr: 5.0000e-05\n",
      "Epoch 187/1000\n",
      "345/345 [==============================] - 1s 4ms/step - loss: 0.1992 - RMSE: 0.4463 - MAE: 0.3006 - val_loss: 0.1453 - val_RMSE: 0.3812 - val_MAE: 0.2357 - lr: 5.0000e-05\n",
      "Epoch 188/1000\n",
      "345/345 [==============================] - 1s 4ms/step - loss: 0.1983 - RMSE: 0.4453 - MAE: 0.3002 - val_loss: 0.1429 - val_RMSE: 0.3780 - val_MAE: 0.2339 - lr: 5.0000e-05\n",
      "Epoch 189/1000\n",
      "345/345 [==============================] - 1s 4ms/step - loss: 0.2003 - RMSE: 0.4475 - MAE: 0.3019 - val_loss: 0.1421 - val_RMSE: 0.3770 - val_MAE: 0.2338 - lr: 5.0000e-05\n",
      "Epoch 190/1000\n",
      "345/345 [==============================] - 1s 4ms/step - loss: 0.2005 - RMSE: 0.4478 - MAE: 0.3021 - val_loss: 0.1435 - val_RMSE: 0.3788 - val_MAE: 0.2340 - lr: 5.0000e-05\n",
      "Epoch 191/1000\n",
      "345/345 [==============================] - 1s 4ms/step - loss: 0.1991 - RMSE: 0.4462 - MAE: 0.3008 - val_loss: 0.1432 - val_RMSE: 0.3784 - val_MAE: 0.2344 - lr: 5.0000e-05\n",
      "Epoch 192/1000\n",
      "345/345 [==============================] - 1s 4ms/step - loss: 0.1997 - RMSE: 0.4469 - MAE: 0.3016 - val_loss: 0.1439 - val_RMSE: 0.3793 - val_MAE: 0.2342 - lr: 5.0000e-05\n",
      "Epoch 193/1000\n",
      "345/345 [==============================] - 1s 4ms/step - loss: 0.1998 - RMSE: 0.4470 - MAE: 0.3016 - val_loss: 0.1432 - val_RMSE: 0.3784 - val_MAE: 0.2344 - lr: 2.5000e-05\n",
      "Epoch 194/1000\n",
      "345/345 [==============================] - 1s 4ms/step - loss: 0.1987 - RMSE: 0.4458 - MAE: 0.3007 - val_loss: 0.1427 - val_RMSE: 0.3777 - val_MAE: 0.2340 - lr: 2.5000e-05\n",
      "Epoch 195/1000\n",
      "345/345 [==============================] - 1s 4ms/step - loss: 0.2003 - RMSE: 0.4476 - MAE: 0.3011 - val_loss: 0.1421 - val_RMSE: 0.3769 - val_MAE: 0.2335 - lr: 2.5000e-05\n",
      "Epoch 196/1000\n",
      "345/345 [==============================] - 1s 4ms/step - loss: 0.1988 - RMSE: 0.4458 - MAE: 0.3006 - val_loss: 0.1420 - val_RMSE: 0.3768 - val_MAE: 0.2333 - lr: 2.5000e-05\n",
      "Epoch 197/1000\n",
      "345/345 [==============================] - 1s 4ms/step - loss: 0.1996 - RMSE: 0.4467 - MAE: 0.3018 - val_loss: 0.1417 - val_RMSE: 0.3764 - val_MAE: 0.2329 - lr: 2.5000e-05\n",
      "Epoch 198/1000\n",
      "345/345 [==============================] - 1s 4ms/step - loss: 0.1989 - RMSE: 0.4460 - MAE: 0.3008 - val_loss: 0.1418 - val_RMSE: 0.3765 - val_MAE: 0.2329 - lr: 2.5000e-05\n",
      "Epoch 199/1000\n",
      "345/345 [==============================] - 1s 4ms/step - loss: 0.1980 - RMSE: 0.4449 - MAE: 0.2999 - val_loss: 0.1435 - val_RMSE: 0.3788 - val_MAE: 0.2344 - lr: 2.5000e-05\n",
      "Epoch 200/1000\n",
      "345/345 [==============================] - 1s 4ms/step - loss: 0.1992 - RMSE: 0.4463 - MAE: 0.3013 - val_loss: 0.1440 - val_RMSE: 0.3795 - val_MAE: 0.2343 - lr: 2.5000e-05\n",
      "Epoch 201/1000\n",
      "345/345 [==============================] - 1s 4ms/step - loss: 0.1996 - RMSE: 0.4468 - MAE: 0.3009 - val_loss: 0.1406 - val_RMSE: 0.3750 - val_MAE: 0.2323 - lr: 2.5000e-05\n",
      "Epoch 202/1000\n",
      "345/345 [==============================] - 1s 4ms/step - loss: 0.1984 - RMSE: 0.4455 - MAE: 0.3001 - val_loss: 0.1420 - val_RMSE: 0.3768 - val_MAE: 0.2329 - lr: 2.5000e-05\n",
      "Epoch 203/1000\n",
      "345/345 [==============================] - 1s 4ms/step - loss: 0.2000 - RMSE: 0.4472 - MAE: 0.3022 - val_loss: 0.1421 - val_RMSE: 0.3770 - val_MAE: 0.2327 - lr: 2.5000e-05\n",
      "Epoch 204/1000\n",
      "345/345 [==============================] - 1s 4ms/step - loss: 0.1981 - RMSE: 0.4451 - MAE: 0.2998 - val_loss: 0.1419 - val_RMSE: 0.3766 - val_MAE: 0.2330 - lr: 2.5000e-05\n",
      "Epoch 205/1000\n",
      "345/345 [==============================] - 1s 4ms/step - loss: 0.1996 - RMSE: 0.4468 - MAE: 0.3013 - val_loss: 0.1421 - val_RMSE: 0.3770 - val_MAE: 0.2341 - lr: 2.5000e-05\n",
      "Epoch 206/1000\n",
      "345/345 [==============================] - 1s 4ms/step - loss: 0.1982 - RMSE: 0.4452 - MAE: 0.2999 - val_loss: 0.1406 - val_RMSE: 0.3750 - val_MAE: 0.2322 - lr: 2.5000e-05\n",
      "Epoch 207/1000\n",
      "345/345 [==============================] - 1s 4ms/step - loss: 0.1983 - RMSE: 0.4453 - MAE: 0.2995 - val_loss: 0.1425 - val_RMSE: 0.3775 - val_MAE: 0.2331 - lr: 2.5000e-05\n",
      "Epoch 208/1000\n",
      "345/345 [==============================] - 1s 4ms/step - loss: 0.2002 - RMSE: 0.4474 - MAE: 0.3019 - val_loss: 0.1412 - val_RMSE: 0.3757 - val_MAE: 0.2326 - lr: 2.5000e-05\n",
      "Epoch 209/1000\n",
      "345/345 [==============================] - 1s 4ms/step - loss: 0.1985 - RMSE: 0.4455 - MAE: 0.3005 - val_loss: 0.1419 - val_RMSE: 0.3766 - val_MAE: 0.2328 - lr: 2.5000e-05\n",
      "Epoch 210/1000\n",
      "345/345 [==============================] - 1s 4ms/step - loss: 0.1984 - RMSE: 0.4455 - MAE: 0.3001 - val_loss: 0.1412 - val_RMSE: 0.3758 - val_MAE: 0.2330 - lr: 2.5000e-05\n",
      "Epoch 211/1000\n",
      "345/345 [==============================] - 1s 4ms/step - loss: 0.2001 - RMSE: 0.4473 - MAE: 0.3016 - val_loss: 0.1413 - val_RMSE: 0.3759 - val_MAE: 0.2335 - lr: 2.5000e-05\n",
      "Epoch 212/1000\n",
      "345/345 [==============================] - 1s 4ms/step - loss: 0.1987 - RMSE: 0.4458 - MAE: 0.3001 - val_loss: 0.1408 - val_RMSE: 0.3753 - val_MAE: 0.2330 - lr: 1.2500e-05\n",
      "Epoch 213/1000\n",
      "345/345 [==============================] - 1s 4ms/step - loss: 0.1977 - RMSE: 0.4446 - MAE: 0.3002 - val_loss: 0.1410 - val_RMSE: 0.3755 - val_MAE: 0.2331 - lr: 1.2500e-05\n",
      "Epoch 214/1000\n",
      "345/345 [==============================] - 1s 4ms/step - loss: 0.1992 - RMSE: 0.4463 - MAE: 0.3010 - val_loss: 0.1411 - val_RMSE: 0.3756 - val_MAE: 0.2327 - lr: 1.2500e-05\n",
      "Epoch 215/1000\n",
      "345/345 [==============================] - 1s 4ms/step - loss: 0.1982 - RMSE: 0.4452 - MAE: 0.3000 - val_loss: 0.1415 - val_RMSE: 0.3762 - val_MAE: 0.2321 - lr: 1.2500e-05\n",
      "Epoch 216/1000\n",
      "345/345 [==============================] - 1s 4ms/step - loss: 0.1992 - RMSE: 0.4463 - MAE: 0.3016 - val_loss: 0.1413 - val_RMSE: 0.3760 - val_MAE: 0.2326 - lr: 1.2500e-05\n",
      "Epoch 217/1000\n",
      "345/345 [==============================] - 1s 4ms/step - loss: 0.1988 - RMSE: 0.4458 - MAE: 0.3015 - val_loss: 0.1419 - val_RMSE: 0.3767 - val_MAE: 0.2335 - lr: 1.2500e-05\n",
      "Epoch 218/1000\n",
      "345/345 [==============================] - 1s 4ms/step - loss: 0.1997 - RMSE: 0.4468 - MAE: 0.3010 - val_loss: 0.1412 - val_RMSE: 0.3758 - val_MAE: 0.2328 - lr: 1.2500e-05\n",
      "Epoch 219/1000\n",
      "345/345 [==============================] - 1s 4ms/step - loss: 0.1974 - RMSE: 0.4443 - MAE: 0.2995 - val_loss: 0.1409 - val_RMSE: 0.3754 - val_MAE: 0.2327 - lr: 1.2500e-05\n",
      "Epoch 220/1000\n",
      "345/345 [==============================] - 1s 4ms/step - loss: 0.1976 - RMSE: 0.4445 - MAE: 0.3001 - val_loss: 0.1404 - val_RMSE: 0.3747 - val_MAE: 0.2317 - lr: 1.2500e-05\n"
     ]
    },
    {
     "name": "stdout",
     "output_type": "stream",
     "text": [
      "Epoch 221/1000\n",
      "345/345 [==============================] - 1s 4ms/step - loss: 0.1976 - RMSE: 0.4445 - MAE: 0.2998 - val_loss: 0.1416 - val_RMSE: 0.3762 - val_MAE: 0.2337 - lr: 1.2500e-05\n",
      "Epoch 222/1000\n",
      "345/345 [==============================] - 1s 4ms/step - loss: 0.1998 - RMSE: 0.4470 - MAE: 0.3017 - val_loss: 0.1412 - val_RMSE: 0.3758 - val_MAE: 0.2330 - lr: 1.2500e-05\n",
      "Epoch 223/1000\n",
      "345/345 [==============================] - 1s 4ms/step - loss: 0.1983 - RMSE: 0.4453 - MAE: 0.3006 - val_loss: 0.1410 - val_RMSE: 0.3755 - val_MAE: 0.2321 - lr: 1.2500e-05\n",
      "Epoch 224/1000\n",
      "345/345 [==============================] - 1s 4ms/step - loss: 0.1984 - RMSE: 0.4454 - MAE: 0.3007 - val_loss: 0.1426 - val_RMSE: 0.3777 - val_MAE: 0.2344 - lr: 1.2500e-05\n",
      "Epoch 225/1000\n",
      "345/345 [==============================] - 1s 4ms/step - loss: 0.1983 - RMSE: 0.4453 - MAE: 0.3004 - val_loss: 0.1416 - val_RMSE: 0.3762 - val_MAE: 0.2338 - lr: 1.2500e-05\n",
      "Epoch 226/1000\n",
      "345/345 [==============================] - 1s 4ms/step - loss: 0.1980 - RMSE: 0.4450 - MAE: 0.3001 - val_loss: 0.1418 - val_RMSE: 0.3766 - val_MAE: 0.2325 - lr: 1.2500e-05\n",
      "Epoch 227/1000\n",
      "345/345 [==============================] - 1s 4ms/step - loss: 0.1990 - RMSE: 0.4461 - MAE: 0.3004 - val_loss: 0.1407 - val_RMSE: 0.3751 - val_MAE: 0.2330 - lr: 1.2500e-05\n",
      "Epoch 228/1000\n",
      "345/345 [==============================] - 1s 4ms/step - loss: 0.1986 - RMSE: 0.4457 - MAE: 0.3009 - val_loss: 0.1416 - val_RMSE: 0.3762 - val_MAE: 0.2325 - lr: 1.2500e-05\n",
      "Epoch 229/1000\n",
      "345/345 [==============================] - 1s 4ms/step - loss: 0.1990 - RMSE: 0.4461 - MAE: 0.3011 - val_loss: 0.1400 - val_RMSE: 0.3741 - val_MAE: 0.2315 - lr: 1.2500e-05\n",
      "Epoch 230/1000\n",
      "345/345 [==============================] - 1s 4ms/step - loss: 0.1980 - RMSE: 0.4449 - MAE: 0.3002 - val_loss: 0.1416 - val_RMSE: 0.3763 - val_MAE: 0.2320 - lr: 1.2500e-05\n",
      "Epoch 231/1000\n",
      "345/345 [==============================] - 1s 4ms/step - loss: 0.1986 - RMSE: 0.4457 - MAE: 0.3007 - val_loss: 0.1403 - val_RMSE: 0.3746 - val_MAE: 0.2317 - lr: 1.2500e-05\n",
      "Epoch 232/1000\n",
      "345/345 [==============================] - 1s 4ms/step - loss: 0.1970 - RMSE: 0.4438 - MAE: 0.2996 - val_loss: 0.1407 - val_RMSE: 0.3751 - val_MAE: 0.2321 - lr: 1.2500e-05\n",
      "Epoch 233/1000\n",
      "345/345 [==============================] - 1s 4ms/step - loss: 0.1995 - RMSE: 0.4466 - MAE: 0.3015 - val_loss: 0.1411 - val_RMSE: 0.3756 - val_MAE: 0.2322 - lr: 1.2500e-05\n",
      "Epoch 234/1000\n",
      "345/345 [==============================] - 1s 4ms/step - loss: 0.1977 - RMSE: 0.4447 - MAE: 0.2991 - val_loss: 0.1407 - val_RMSE: 0.3751 - val_MAE: 0.2326 - lr: 1.2500e-05\n",
      "Epoch 235/1000\n",
      "345/345 [==============================] - 1s 4ms/step - loss: 0.1973 - RMSE: 0.4442 - MAE: 0.2991 - val_loss: 0.1412 - val_RMSE: 0.3758 - val_MAE: 0.2326 - lr: 1.2500e-05\n",
      "Epoch 236/1000\n",
      "345/345 [==============================] - 1s 4ms/step - loss: 0.1991 - RMSE: 0.4462 - MAE: 0.3014 - val_loss: 0.1408 - val_RMSE: 0.3752 - val_MAE: 0.2329 - lr: 1.2500e-05\n",
      "Epoch 237/1000\n",
      "345/345 [==============================] - 1s 4ms/step - loss: 0.1973 - RMSE: 0.4442 - MAE: 0.2986 - val_loss: 0.1405 - val_RMSE: 0.3749 - val_MAE: 0.2319 - lr: 1.2500e-05\n",
      "Epoch 238/1000\n",
      "345/345 [==============================] - 1s 4ms/step - loss: 0.1984 - RMSE: 0.4454 - MAE: 0.3003 - val_loss: 0.1412 - val_RMSE: 0.3758 - val_MAE: 0.2322 - lr: 1.2500e-05\n",
      "Epoch 239/1000\n",
      "345/345 [==============================] - 1s 4ms/step - loss: 0.1971 - RMSE: 0.4440 - MAE: 0.2992 - val_loss: 0.1405 - val_RMSE: 0.3748 - val_MAE: 0.2320 - lr: 1.2500e-05\n",
      "Epoch 240/1000\n",
      "345/345 [==============================] - 1s 4ms/step - loss: 0.1984 - RMSE: 0.4454 - MAE: 0.3002 - val_loss: 0.1409 - val_RMSE: 0.3753 - val_MAE: 0.2322 - lr: 6.2500e-06\n",
      "Epoch 241/1000\n",
      "345/345 [==============================] - 1s 4ms/step - loss: 0.1987 - RMSE: 0.4458 - MAE: 0.3004 - val_loss: 0.1403 - val_RMSE: 0.3746 - val_MAE: 0.2312 - lr: 6.2500e-06\n",
      "Epoch 242/1000\n",
      "345/345 [==============================] - 1s 4ms/step - loss: 0.1976 - RMSE: 0.4445 - MAE: 0.2993 - val_loss: 0.1395 - val_RMSE: 0.3735 - val_MAE: 0.2315 - lr: 6.2500e-06\n",
      "Epoch 243/1000\n",
      "345/345 [==============================] - 1s 4ms/step - loss: 0.1967 - RMSE: 0.4435 - MAE: 0.2991 - val_loss: 0.1404 - val_RMSE: 0.3747 - val_MAE: 0.2313 - lr: 6.2500e-06\n",
      "Epoch 244/1000\n",
      "345/345 [==============================] - 1s 4ms/step - loss: 0.1976 - RMSE: 0.4445 - MAE: 0.3000 - val_loss: 0.1405 - val_RMSE: 0.3748 - val_MAE: 0.2323 - lr: 6.2500e-06\n",
      "Epoch 245/1000\n",
      "345/345 [==============================] - 1s 4ms/step - loss: 0.1994 - RMSE: 0.4465 - MAE: 0.3007 - val_loss: 0.1405 - val_RMSE: 0.3748 - val_MAE: 0.2327 - lr: 6.2500e-06\n",
      "Epoch 246/1000\n",
      "345/345 [==============================] - 1s 4ms/step - loss: 0.1988 - RMSE: 0.4459 - MAE: 0.3006 - val_loss: 0.1402 - val_RMSE: 0.3744 - val_MAE: 0.2315 - lr: 6.2500e-06\n",
      "Epoch 247/1000\n",
      "345/345 [==============================] - 1s 4ms/step - loss: 0.1976 - RMSE: 0.4445 - MAE: 0.2997 - val_loss: 0.1405 - val_RMSE: 0.3748 - val_MAE: 0.2319 - lr: 6.2500e-06\n",
      "Epoch 248/1000\n",
      "345/345 [==============================] - 1s 4ms/step - loss: 0.1988 - RMSE: 0.4459 - MAE: 0.2999 - val_loss: 0.1414 - val_RMSE: 0.3760 - val_MAE: 0.2335 - lr: 6.2500e-06\n",
      "Epoch 249/1000\n",
      "345/345 [==============================] - 1s 4ms/step - loss: 0.1991 - RMSE: 0.4462 - MAE: 0.3003 - val_loss: 0.1408 - val_RMSE: 0.3752 - val_MAE: 0.2326 - lr: 6.2500e-06\n",
      "Epoch 250/1000\n",
      "345/345 [==============================] - 1s 4ms/step - loss: 0.1981 - RMSE: 0.4451 - MAE: 0.3002 - val_loss: 0.1407 - val_RMSE: 0.3751 - val_MAE: 0.2316 - lr: 6.2500e-06\n",
      "Epoch 251/1000\n",
      "345/345 [==============================] - 1s 4ms/step - loss: 0.1971 - RMSE: 0.4440 - MAE: 0.2990 - val_loss: 0.1408 - val_RMSE: 0.3752 - val_MAE: 0.2334 - lr: 6.2500e-06\n",
      "Epoch 252/1000\n",
      "345/345 [==============================] - 1s 4ms/step - loss: 0.1983 - RMSE: 0.4453 - MAE: 0.2997 - val_loss: 0.1405 - val_RMSE: 0.3748 - val_MAE: 0.2321 - lr: 6.2500e-06\n",
      "Epoch 253/1000\n",
      "345/345 [==============================] - 1s 4ms/step - loss: 0.1965 - RMSE: 0.4432 - MAE: 0.2992 - val_loss: 0.1407 - val_RMSE: 0.3751 - val_MAE: 0.2326 - lr: 3.1250e-06\n",
      "Epoch 254/1000\n",
      "345/345 [==============================] - 1s 4ms/step - loss: 0.1970 - RMSE: 0.4439 - MAE: 0.2984 - val_loss: 0.1390 - val_RMSE: 0.3728 - val_MAE: 0.2306 - lr: 3.1250e-06\n",
      "Epoch 255/1000\n",
      "345/345 [==============================] - 2s 5ms/step - loss: 0.1986 - RMSE: 0.4457 - MAE: 0.3012 - val_loss: 0.1400 - val_RMSE: 0.3742 - val_MAE: 0.2318 - lr: 3.1250e-06\n",
      "Epoch 256/1000\n",
      "345/345 [==============================] - 1s 4ms/step - loss: 0.1971 - RMSE: 0.4439 - MAE: 0.2997 - val_loss: 0.1410 - val_RMSE: 0.3755 - val_MAE: 0.2335 - lr: 3.1250e-06\n",
      "Epoch 257/1000\n",
      "345/345 [==============================] - 2s 4ms/step - loss: 0.1985 - RMSE: 0.4456 - MAE: 0.3002 - val_loss: 0.1410 - val_RMSE: 0.3755 - val_MAE: 0.2323 - lr: 3.1250e-06\n",
      "Epoch 258/1000\n",
      "345/345 [==============================] - 2s 5ms/step - loss: 0.1985 - RMSE: 0.4456 - MAE: 0.3006 - val_loss: 0.1403 - val_RMSE: 0.3746 - val_MAE: 0.2318 - lr: 3.1250e-06\n",
      "Epoch 259/1000\n",
      "345/345 [==============================] - 2s 5ms/step - loss: 0.1969 - RMSE: 0.4438 - MAE: 0.2992 - val_loss: 0.1404 - val_RMSE: 0.3747 - val_MAE: 0.2325 - lr: 3.1250e-06\n",
      "Epoch 260/1000\n",
      "345/345 [==============================] - 2s 4ms/step - loss: 0.1972 - RMSE: 0.4441 - MAE: 0.2997 - val_loss: 0.1397 - val_RMSE: 0.3738 - val_MAE: 0.2327 - lr: 3.1250e-06\n",
      "Epoch 261/1000\n",
      "345/345 [==============================] - 1s 4ms/step - loss: 0.1986 - RMSE: 0.4456 - MAE: 0.3007 - val_loss: 0.1409 - val_RMSE: 0.3754 - val_MAE: 0.2330 - lr: 3.1250e-06\n",
      "Epoch 262/1000\n",
      "345/345 [==============================] - 1s 4ms/step - loss: 0.1992 - RMSE: 0.4463 - MAE: 0.3009 - val_loss: 0.1414 - val_RMSE: 0.3760 - val_MAE: 0.2331 - lr: 3.1250e-06\n",
      "Epoch 263/1000\n",
      "345/345 [==============================] - 1s 4ms/step - loss: 0.1969 - RMSE: 0.4437 - MAE: 0.2991 - val_loss: 0.1397 - val_RMSE: 0.3738 - val_MAE: 0.2323 - lr: 3.1250e-06\n",
      "Epoch 264/1000\n",
      "345/345 [==============================] - 1s 4ms/step - loss: 0.1978 - RMSE: 0.4447 - MAE: 0.2996 - val_loss: 0.1393 - val_RMSE: 0.3733 - val_MAE: 0.2318 - lr: 3.1250e-06\n"
     ]
    },
    {
     "name": "stdout",
     "output_type": "stream",
     "text": [
      "Epoch 265/1000\n",
      "345/345 [==============================] - 1s 4ms/step - loss: 0.1981 - RMSE: 0.4451 - MAE: 0.3001 - val_loss: 0.1410 - val_RMSE: 0.3754 - val_MAE: 0.2329 - lr: 1.5625e-06\n",
      "Epoch 266/1000\n",
      "345/345 [==============================] - 1s 4ms/step - loss: 0.1978 - RMSE: 0.4448 - MAE: 0.3001 - val_loss: 0.1396 - val_RMSE: 0.3736 - val_MAE: 0.2314 - lr: 1.5625e-06\n",
      "Epoch 267/1000\n",
      "345/345 [==============================] - 2s 5ms/step - loss: 0.1961 - RMSE: 0.4428 - MAE: 0.2978 - val_loss: 0.1414 - val_RMSE: 0.3760 - val_MAE: 0.2336 - lr: 1.5625e-06\n",
      "Epoch 268/1000\n",
      "345/345 [==============================] - 2s 4ms/step - loss: 0.1976 - RMSE: 0.4445 - MAE: 0.2992 - val_loss: 0.1402 - val_RMSE: 0.3744 - val_MAE: 0.2317 - lr: 1.5625e-06\n",
      "Epoch 269/1000\n",
      "345/345 [==============================] - 2s 5ms/step - loss: 0.1970 - RMSE: 0.4438 - MAE: 0.2987 - val_loss: 0.1409 - val_RMSE: 0.3753 - val_MAE: 0.2335 - lr: 1.5625e-06\n",
      "Epoch 270/1000\n",
      "345/345 [==============================] - 2s 5ms/step - loss: 0.1992 - RMSE: 0.4463 - MAE: 0.3009 - val_loss: 0.1409 - val_RMSE: 0.3754 - val_MAE: 0.2331 - lr: 1.5625e-06\n",
      "Epoch 271/1000\n",
      "345/345 [==============================] - 1s 4ms/step - loss: 0.1986 - RMSE: 0.4456 - MAE: 0.2997 - val_loss: 0.1406 - val_RMSE: 0.3750 - val_MAE: 0.2317 - lr: 1.5625e-06\n",
      "Epoch 272/1000\n",
      "345/345 [==============================] - 1s 4ms/step - loss: 0.1984 - RMSE: 0.4454 - MAE: 0.2999 - val_loss: 0.1406 - val_RMSE: 0.3750 - val_MAE: 0.2327 - lr: 1.5625e-06\n",
      "Epoch 273/1000\n",
      "345/345 [==============================] - 1s 4ms/step - loss: 0.1980 - RMSE: 0.4450 - MAE: 0.2989 - val_loss: 0.1396 - val_RMSE: 0.3736 - val_MAE: 0.2308 - lr: 1.5625e-06\n",
      "Epoch 274/1000\n",
      "345/345 [==============================] - 1s 4ms/step - loss: 0.1988 - RMSE: 0.4459 - MAE: 0.3004 - val_loss: 0.1401 - val_RMSE: 0.3743 - val_MAE: 0.2319 - lr: 1.5625e-06\n"
     ]
    },
    {
     "name": "stderr",
     "output_type": "stream",
     "text": [
      "[INFO] Model has been successfully trained\n",
      "[INFO ] Time: 393.68s\n"
     ]
    },
    {
     "name": "stdout",
     "output_type": "stream",
     "text": [
      "Epoch 00274: early stopping\n"
     ]
    }
   ],
   "source": [
    "start_timer = time.time()\n",
    "\n",
    "score = model.fit(trainX, trainX,\n",
    "                  epochs           = parameters['epochs'],\n",
    "                  batch_size       = parameters['batch_size'],                    \n",
    "                  verbose          = parameters['verbose'],\n",
    "                  #\n",
    "                  callbacks        = [checkpoint, earlystopping, lrs_scheduler],\n",
    "                  #\n",
    "                  validation_data  = (validX, validX))\n",
    "\n",
    "if VERBOSE:\n",
    "    logger.info('[INFO] Model has been successfully trained')\n",
    "    logger.info('[INFO ] Time: {:.2f}s'.format(time.time() - start_timer))"
   ]
  },
  {
   "cell_type": "markdown",
   "metadata": {},
   "source": [
    "### Training progress"
   ]
  },
  {
   "cell_type": "code",
   "execution_count": 16,
   "metadata": {},
   "outputs": [
    {
     "data": {
      "image/png": "[encoded data removed]",
      "text/plain": [
       "<Figure size 1080x288 with 2 Axes>"
      ]
     },
     "metadata": {
      "needs_background": "light"
     },
     "output_type": "display_data"
    }
   ],
   "source": [
    "fig, ax = plt.subplots(nrows = 1, ncols = 2, figsize = (15, 4) )\n",
    "\n",
    "ax[0].plot( score.history['RMSE'],     linewidth = 2 )\n",
    "ax[0].plot( score.history['val_RMSE'], linewidth = 2 )\n",
    "ax[0].legend(['Training', 'Testing'], frameon = False, fontsize = 14)\n",
    "ax[0].set_title('RMSE');\n",
    "\n",
    "\n",
    "ax[1].plot( score.history['MAE'],     linewidth = 2 )\n",
    "ax[1].plot( score.history['val_MAE'], linewidth = 2 )\n",
    "ax[1].legend(['Training', 'Testing'], frameon = False, fontsize = 14)\n",
    "ax[1].set_title('MAE');"
   ]
  },
  {
   "cell_type": "markdown",
   "metadata": {},
   "source": [
    "### Load optimized model"
   ]
  },
  {
   "cell_type": "code",
   "execution_count": 17,
   "metadata": {},
   "outputs": [],
   "source": [
    "model.load_weights( 'checkpoint/AnomalyDetectionModel.hdf5' )"
   ]
  },
  {
   "cell_type": "markdown",
   "metadata": {},
   "source": [
    "# Evaluation"
   ]
  },
  {
   "cell_type": "markdown",
   "metadata": {},
   "source": [
    "## Evaluation on Training data "
   ]
  },
  {
   "cell_type": "code",
   "execution_count": 18,
   "metadata": {},
   "outputs": [],
   "source": [
    "# Get predictions\n",
    "#\n",
    "pred = model.predict( trainX )\n",
    "\n",
    "\n",
    "# Calculate Loss (MSE)\n",
    "#\n",
    "train_loss = np.mean( np.mean((pred - trainX)**2, axis = 2), axis = 1)\n",
    "\n",
    "\n",
    "# Create DataFrame with results (loss)\n",
    "#\n",
    "Train_Loss = pd.DataFrame( {'Date'  : trainDates,\n",
    "                            'Loss'  : train_loss,\n",
    "                           })\n",
    "\n",
    "Train_Loss.set_index('Date', inplace = True)"
   ]
  },
  {
   "cell_type": "code",
   "execution_count": 19,
   "metadata": {},
   "outputs": [],
   "source": [
    "# Get predictions\n",
    "#\n",
    "pred = model.predict( validX )\n",
    "\n",
    "\n",
    "# Calculate Loss (MSE)\n",
    "#\n",
    "valid_loss = np.mean( np.mean((pred - validX)**2, axis = 2), axis = 1)\n",
    "\n",
    "\n",
    "# Create DataFrame with results (loss)\n",
    "#\n",
    "Valid_Loss = pd.DataFrame( {'Date'   : validDates,\n",
    "                            'Loss'   : valid_loss,\n",
    "                           })\n",
    "\n",
    "Valid_Loss.set_index('Date', inplace = True)"
   ]
  },
  {
   "cell_type": "markdown",
   "metadata": {},
   "source": [
    "## Define thresholds"
   ]
  },
  {
   "cell_type": "code",
   "execution_count": 20,
   "metadata": {},
   "outputs": [
    {
     "name": "stderr",
     "output_type": "stream",
     "text": [
      "[INFO] Threshold were calculated\n"
     ]
    },
    {
     "name": "stdout",
     "output_type": "stream",
     "text": [
      "[INFO] WARNING  threshold:  0.438669131582596\n",
      "[INFO] CRITICAL threshold:  1.6819977763347198\n"
     ]
    }
   ],
   "source": [
    "# Calculate thresholds\n",
    "#\n",
    "WARNING  = np.quantile( Train_Loss['Loss'], 0.95  )\n",
    "CRITICAL = np.quantile( Train_Loss['Loss'], 0.997 )\n",
    "\n",
    "logger.info('[INFO] Threshold were calculated')\n",
    "#\n",
    "print('[INFO] WARNING  threshold: ', WARNING)\n",
    "print('[INFO] CRITICAL threshold: ', CRITICAL)"
   ]
  },
  {
   "cell_type": "markdown",
   "metadata": {},
   "source": [
    "## Visualization"
   ]
  },
  {
   "cell_type": "markdown",
   "metadata": {},
   "source": [
    "### Loss Histogram"
   ]
  },
  {
   "cell_type": "code",
   "execution_count": 21,
   "metadata": {},
   "outputs": [
    {
     "name": "stderr",
     "output_type": "stream",
     "text": [
      "/Users/livieris/opt/anaconda3/envs/tensorflow/lib/python3.7/site-packages/seaborn/distributions.py:2551: FutureWarning: `distplot` is a deprecated function and will be removed in a future version. Please adapt your code to use either `displot` (a figure-level function with similar flexibility) or `histplot` (an axes-level function for histograms).\n",
      "  warnings.warn(msg, FutureWarning)\n",
      "/Users/livieris/opt/anaconda3/envs/tensorflow/lib/python3.7/site-packages/seaborn/distributions.py:2551: FutureWarning: `distplot` is a deprecated function and will be removed in a future version. Please adapt your code to use either `displot` (a figure-level function with similar flexibility) or `histplot` (an axes-level function for histograms).\n",
      "  warnings.warn(msg, FutureWarning)\n"
     ]
    },
    {
     "data": {
      "image/png": "[encoded data removed]",
      "text/plain": [
       "<Figure size 1080x288 with 1 Axes>"
      ]
     },
     "metadata": {
      "needs_background": "light"
     },
     "output_type": "display_data"
    }
   ],
   "source": [
    "fig, ax = plt.subplots( figsize = (15, 4) )\n",
    "\n",
    "sns.distplot(Train_Loss['Loss'], bins = 'auto', kde = True, ax = ax)\n",
    "sns.distplot(Valid_Loss['Loss'], bins = 'auto', kde = True, ax = ax)\n",
    "\n",
    "plt.legend(['Training', 'Validation'], frameon = False, fontsize = 14)\n",
    "plt.xticks( size = 14 )\n",
    "plt.yticks( size = 14 )\n",
    "plt.xlabel(\"MSE loss\", size=14)\n",
    "plt.ylabel(\"No of samples\", size=14)\n",
    "plt.show()"
   ]
  },
  {
   "cell_type": "markdown",
   "metadata": {},
   "source": [
    "### Plot Train/Valid loss"
   ]
  },
  {
   "cell_type": "code",
   "execution_count": 22,
   "metadata": {},
   "outputs": [
    {
     "name": "stdout",
     "output_type": "stream",
     "text": [
      "Number of anomaly samples:  67/22068\n"
     ]
    },
    {
     "data": {
      "image/png": "[encoded data removed]",
      "text/plain": [
       "<Figure size 1080x288 with 1 Axes>"
      ]
     },
     "metadata": {
      "needs_background": "light"
     },
     "output_type": "display_data"
    }
   ],
   "source": [
    "# Detect all the samples which are anomalies\n",
    "#\n",
    "anomalies = Train_Loss['Loss'] > CRITICAL\n",
    "#\n",
    "Train_Loss['anomaly'] = np.where(anomalies, 'ANOMALY', 'NORMAL')\n",
    "\n",
    "\n",
    "print(\"Number of anomaly samples:  {}/{}\".format(np.sum(anomalies), len(anomalies)) )\n",
    "\n",
    "\n",
    "# Plot train-loss\n",
    "#\n",
    "ax = Train_Loss.plot( figsize = (15, 4) )\n",
    "# Plot valid-loss\n",
    "Valid_Loss.plot(ax = ax)\n",
    "\n",
    "\n",
    "# Plot thresholds\n",
    "#\n",
    "plt.axhline(y=WARNING,  linewidth=1, color='orange', linestyle='--')\n",
    "plt.axhline(y=CRITICAL, linewidth=1, color='red',    linestyle='--')\n",
    "\n",
    "\n",
    "plt.xticks(size = 14)\n",
    "plt.yticks(size = 14)\n",
    "plt.xlabel(\"Date\", size = 14)\n",
    "plt.ylabel(\"Loss\", size = 14);\n",
    "plt.legend(['Train loss', 'Valid loss', '$T_{WARNING}$', '$T_{CRITICAL}$'], frameon = False, fontsize = 14);\n",
    "plt.show();"
   ]
  },
  {
   "cell_type": "markdown",
   "metadata": {},
   "source": [
    "## Evaluation of Testing data"
   ]
  },
  {
   "cell_type": "code",
   "execution_count": 23,
   "metadata": {},
   "outputs": [],
   "source": [
    "# Get predictions\n",
    "#\n",
    "pred = model.predict( testX )\n",
    "\n",
    "\n",
    "# Calculate Loss (MSE)\n",
    "#\n",
    "test_loss = np.mean( np.mean((pred - testX)**2, axis = 2), axis = 1)\n",
    "\n",
    "\n",
    "# Create DataFrame with results (loss)\n",
    "#\n",
    "Test_Loss = pd.DataFrame( {'Date' : testDates,\n",
    "                           'Loss' : test_loss,\n",
    "                           })\n",
    "\n",
    "\n",
    "Test_Loss.set_index('Date', inplace=True)"
   ]
  },
  {
   "cell_type": "markdown",
   "metadata": {},
   "source": [
    "## Visualization"
   ]
  },
  {
   "cell_type": "markdown",
   "metadata": {},
   "source": [
    "### Loss Histogram"
   ]
  },
  {
   "cell_type": "code",
   "execution_count": 24,
   "metadata": {},
   "outputs": [
    {
     "name": "stderr",
     "output_type": "stream",
     "text": [
      "/Users/livieris/opt/anaconda3/envs/tensorflow/lib/python3.7/site-packages/seaborn/distributions.py:2551: FutureWarning: `distplot` is a deprecated function and will be removed in a future version. Please adapt your code to use either `displot` (a figure-level function with similar flexibility) or `histplot` (an axes-level function for histograms).\n",
      "  warnings.warn(msg, FutureWarning)\n",
      "/Users/livieris/opt/anaconda3/envs/tensorflow/lib/python3.7/site-packages/seaborn/distributions.py:2551: FutureWarning: `distplot` is a deprecated function and will be removed in a future version. Please adapt your code to use either `displot` (a figure-level function with similar flexibility) or `histplot` (an axes-level function for histograms).\n",
      "  warnings.warn(msg, FutureWarning)\n"
     ]
    },
    {
     "data": {
      "image/png": "[encoded data removed]",
      "text/plain": [
       "<Figure size 1080x288 with 1 Axes>"
      ]
     },
     "metadata": {
      "needs_background": "light"
     },
     "output_type": "display_data"
    }
   ],
   "source": [
    "fig, ax = plt.subplots( figsize=(15, 4) )\n",
    "\n",
    "sns.distplot(Train_Loss['Loss'], bins = 'auto', kde = True, ax = ax)\n",
    "sns.distplot(Test_Loss['Loss'],  bins = 'auto', kde = True, ax = ax)\n",
    "\n",
    "plt.legend(['Training', 'Testing'], frameon = False, fontsize = 14)\n",
    "plt.xticks( size = 14 )\n",
    "plt.yticks( size = 14 )\n",
    "plt.xlabel(\"MSE loss\", size = 14)\n",
    "plt.ylabel(\"No of samples\", size = 14)\n",
    "plt.show()"
   ]
  },
  {
   "cell_type": "markdown",
   "metadata": {},
   "source": [
    "### Plot Train/Valid loss"
   ]
  },
  {
   "cell_type": "code",
   "execution_count": 25,
   "metadata": {},
   "outputs": [
    {
     "name": "stdout",
     "output_type": "stream",
     "text": [
      "Number of anomaly samples:  2/2763\n"
     ]
    },
    {
     "data": {
      "image/png": "[encoded data removed]",
      "text/plain": [
       "<Figure size 1080x288 with 1 Axes>"
      ]
     },
     "metadata": {
      "needs_background": "light"
     },
     "output_type": "display_data"
    }
   ],
   "source": [
    "# Detect all the samples which are anomalies\n",
    "#\n",
    "anomalies = Test_Loss['Loss'] > CRITICAL\n",
    "#\n",
    "Test_Loss['anomaly'] = np.where(anomalies, 'ANOMALY', 'NORMAL')\n",
    "\n",
    "\n",
    "print(\"Number of anomaly samples:  {}/{}\".format(np.sum(anomalies), len(anomalies)) )\n",
    "\n",
    "\n",
    "# Plot test-loss\n",
    "#\n",
    "ax = Test_Loss.plot( figsize = (15, 4) )\n",
    "\n",
    "\n",
    "# Plot thresholds\n",
    "#\n",
    "plt.axhline(y=WARNING,  linewidth=1, color='orange', linestyle='--')\n",
    "plt.axhline(y=CRITICAL, linewidth=1, color='red',    linestyle='--')\n",
    "\n",
    "\n",
    "plt.xticks(size = 14)\n",
    "plt.yticks(size = 14)\n",
    "plt.xlabel(\"Date\", size = 14)\n",
    "plt.ylabel(\"Loss\", size = 14);\n",
    "plt.legend(['Test loss', '$T_{WARNING}$', '$T_{CRITICAL}$'], frameon = False, fontsize = 14);\n",
    "plt.show();"
   ]
  },
  {
   "cell_type": "markdown",
   "metadata": {},
   "source": [
    "# Save"
   ]
  },
  {
   "cell_type": "code",
   "execution_count": 26,
   "metadata": {},
   "outputs": [
    {
     "name": "stderr",
     "output_type": "stream",
     "text": [
      "2022-07-07 16:01:13.938650: W tensorflow/python/util/util.cc:368] Sets are not currently considered sequences, but this may change in the future, so consider avoiding using them.\n",
      "Function `_wrapped_model` contains input name(s) InputLayer with unsupported characters which will be renamed to inputlayer in the SavedModel.\n"
     ]
    },
    {
     "name": "stdout",
     "output_type": "stream",
     "text": [
      "INFO:tensorflow:Assets written to: model_repository/AnomalyDetectionModel/1/model.savedmodel/assets\n"
     ]
    },
    {
     "name": "stderr",
     "output_type": "stream",
     "text": [
      "Assets written to: model_repository/AnomalyDetectionModel/1/model.savedmodel/assets\n",
      "[INFO] Anomaly detection model was saved in model_repository\n"
     ]
    }
   ],
   "source": [
    "# Save model\n",
    "#\n",
    "model.save( 'model_repository/AnomalyDetectionModel/1/model.savedmodel')\n",
    "#\n",
    "logger.info('[INFO] Anomaly detection model was saved in model_repository')"
   ]
  },
  {
   "cell_type": "code",
   "execution_count": 27,
   "metadata": {},
   "outputs": [
    {
     "name": "stderr",
     "output_type": "stream",
     "text": [
      "[INFO] Scaler was saved in model_repository\n"
     ]
    }
   ],
   "source": [
    "# Save scaler\n",
    "#\n",
    "pickle.dump(scaler, open('model_repository/AnomalyDetectionModel/Scaler.pkl', 'wb'))\n",
    "\n",
    "logger.info('[INFO] Scaler was saved in model_repository')"
   ]
  },
  {
   "cell_type": "code",
   "execution_count": 28,
   "metadata": {},
   "outputs": [
    {
     "name": "stderr",
     "output_type": "stream",
     "text": [
      "[INFO] Thresholds were saved in model_repository\n"
     ]
    }
   ],
   "source": [
    "# Save thresholds\n",
    "#\n",
    "import json\n",
    "\n",
    "Thresholds = {'WARNING':  WARNING,\n",
    "              'CRITICAL': CRITICAL}\n",
    "\n",
    "with open('model_repository/AnomalyDetectionModel/Thresholds.json', 'w') as fp:\n",
    "    json.dump(Thresholds, fp)\n",
    "#\n",
    "logger.info('[INFO] Thresholds were saved in model_repository')"
   ]
  }
 ],
 "metadata": {
  "kernelspec": {
   "display_name": "Python [conda env:tensorflow]",
   "language": "python",
   "name": "conda-env-tensorflow-py"
  },
  "language_info": {
   "codemirror_mode": {
    "name": "ipython",
    "version": 3
   },
   "file_extension": ".py",
   "mimetype": "text/x-python",
   "name": "python",
   "nbconvert_exporter": "python",
   "pygments_lexer": "ipython3",
   "version": "3.7.12"
  },
  "toc": {
   "base_numbering": 1,
   "nav_menu": {},
   "number_sections": true,
   "sideBar": true,
   "skip_h1_title": false,
   "title_cell": "Table of Contents",
   "title_sidebar": "Contents",
   "toc_cell": false,
   "toc_position": {
    "height": "calc(100% - 180px)",
    "left": "10px",
    "top": "150px",
    "width": "254.6666717529297px"
   },
   "toc_section_display": true,
   "toc_window_display": true
  }
 },
 "nbformat": 4,
 "nbformat_minor": 4
}
